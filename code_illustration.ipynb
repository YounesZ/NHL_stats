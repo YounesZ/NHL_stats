{
 "cells": [
  {
   "cell_type": "markdown",
   "metadata": {
    "scrolled": true
   },
   "source": [
    "# Retrieve player statistics \n",
    "and convert them into player profiles (offensive, defensive, neutral). It also shows how to retrieve game info, such as players list etc.\n"
   ]
  },
  {
   "cell_type": "code",
   "execution_count": 1,
   "metadata": {
    "collapsed": true
   },
   "outputs": [],
   "source": [
    "from ReinforcementLearning.NHL.playerstats.nhl_player_stats import *\n",
    "from ReinforcementLearning.NHL.playbyplay.game import *"
   ]
  },
  {
   "cell_type": "code",
   "execution_count": 2,
   "metadata": {
    "collapsed": true
   },
   "outputs": [],
   "source": [
    "# Pointers to the data\n",
    "# repoCode    =   '/Users/younes_zerouali/Documents/Stradigi/Code/NHL_stats_SL'\n",
    "repoCode    =   '/Users/luisd/dev/NHL_stats'\n",
    "#db_root     =   '/home/younesz/Documents/Hockey'        #This is the location of the Hockey database\n",
    "# db_root     =   '/Users/younes_zerouali/Documents/Stradigi/Databases/Hockey'\n",
    "db_root     =   '/Users/luisd/dev/NHL_stats/data'\n",
    "repoPbP     =   path.join(db_root, 'PlayByPlay')\n",
    "repoPSt     =   path.join(db_root, 'PlayerStats/player')\n",
    "repoModel   =   path.join(repoCode, 'ReinforcementLearning/NHL/playerstats/offVSdef/Automatic_classification/MODEL_backup_trainedonallseasons_rankstatprediction')\n",
    "repoModel   =   path.join(repoCode, 'ReinforcementLearning/NHL/playerstats/offVSdef/Automatic_classification/MODEL_perceptron_1layer_10units_relu')\n",
    "repoSave    =   None #path.join(repoCode, 'ReinforcementLearning/NHL/playbyplay/data')"
   ]
  },
  {
   "cell_type": "code",
   "execution_count": 3,
   "metadata": {
    "collapsed": false
   },
   "outputs": [
    {
     "data": {
      "text/plain": [
       "'/Users/luisd/dev/NHL_stats/data/PlayByPlay'"
      ]
     },
     "execution_count": 3,
     "metadata": {},
     "output_type": "execute_result"
    }
   ],
   "source": [
    "repoPbP"
   ]
  },
  {
   "cell_type": "code",
   "execution_count": 4,
   "metadata": {
    "collapsed": false
   },
   "outputs": [
    {
     "data": {
      "text/plain": [
       "'/Users/luisd/dev/NHL_stats/ReinforcementLearning/NHL/playerstats/offVSdef/Automatic_classification/MODEL_perceptron_1layer_10units_relu'"
      ]
     },
     "execution_count": 4,
     "metadata": {},
     "output_type": "execute_result"
    }
   ],
   "source": [
    "repoModel"
   ]
  },
  {
   "cell_type": "markdown",
   "metadata": {},
   "source": [
    "# Re-train the model if needed\n",
    "For example if you have trouble because the file of the model is not accessible, you need to re-run this cell."
   ]
  },
  {
   "cell_type": "code",
   "execution_count": 5,
   "metadata": {
    "collapsed": false
   },
   "outputs": [],
   "source": [
    "# ==== Before starting, recompute the model\n",
    "# This should avoid path issues when reloading it\n",
    "# normalizer, pca, dtCols, CLS    =   do_ANN_training(repoPSt, repoPbP, repoCode, repoModel, minGames=0.2)"
   ]
  },
  {
   "cell_type": "markdown",
   "metadata": {},
   "source": [
    "# Definitions of Functions"
   ]
  },
  {
   "cell_type": "markdown",
   "metadata": {},
   "source": [
    "## Get game id's by team and date"
   ]
  },
  {
   "cell_type": "code",
   "execution_count": 6,
   "metadata": {
    "collapsed": false
   },
   "outputs": [],
   "source": [
    "def get_game_id(home_team_abbr, date_as_str):\n",
    "    \"\"\"\n",
    "    let's convert game date to game code.\n",
    "    For example Montreal received Ottawa on march 13, 2013 =>\n",
    "        gameId = get_game_id(home_team_abbr='MTL', date_as_str='2013-03-13')\n",
    "    \"\"\"\n",
    "    try:\n",
    "        gameInfo    =   pickle.load( open(path.join(db_root, 'gamesInfo.p'), 'rb') )\n",
    "        gameInfo    =   gameInfo[gameInfo['gameDate']==date_as_str][gameInfo['teamAbbrev']==home_team_abbr]\n",
    "        gameId      =   gameInfo['gameId']\n",
    "        gameId      =   int( gameId.values.astype('str')[0][5:] )\n",
    "        return gameId\n",
    "    except Exception as e:\n",
    "        raise IndexError(\"There was no game for '%s' on '%s'\" % (home_team_abbr, date_as_str))"
   ]
  },
  {
   "cell_type": "markdown",
   "metadata": {},
   "source": [
    "## Get players data (classes)"
   ]
  },
  {
   "cell_type": "code",
   "execution_count": 7,
   "metadata": {
    "collapsed": false
   },
   "outputs": [],
   "source": [
    "# ==== Second the players data\n",
    "\n",
    "def get_players_classes(repoModel, data_for_game, number_of_games):\n",
    "    \"\"\"\n",
    "    Calculates (dataframe with) all player's classes.\n",
    "    Updates the 'data for game' structure with it; also returns it.\n",
    "    Usage:\n",
    "        repoModel = ... # here goes the directory where your model is saved.\n",
    "        # Montreal received Ottawa on march 13, 2013\n",
    "        gameId = get_game_id(home_team_abbr='MTL', date_as_str='2013-03-13')\n",
    "        season      =   '20122013'\n",
    "        mtlott      =   Game(repoPbP, repoPSt, season, gameId=gameId )\n",
    "        #\n",
    "        players_classes = get_players_classes(repoModel, mtlott, number_of_games=30)\n",
    "        # this is equivalent to ask 'mtlott' for the data; so:\n",
    "        assert players_classes.equals(mtlott.player_classes)\n",
    "    \"\"\"\n",
    "    # Need to load the data pre-processing variables\n",
    "    preprocessing  =   pickle.load(open(path.join(repoModel, 'baseVariables.p'), 'rb'))\n",
    "\n",
    "    # Need to load the classification model (for players' predicted ranking on trophies voting lists)\n",
    "    classifier          =   {'sess':tf.Session(), 'annX':[], 'annY':[]}\n",
    "    saver               =   tf.train.import_meta_graph(path.join(repoModel, path.basename(repoModel) + '.meta'))\n",
    "    graph               =   classifier['sess'].graph\n",
    "    classifier['annX']  =   graph.get_tensor_by_name('Input_to_the_network-player_features:0')\n",
    "    classifier['annY']  =   graph.get_tensor_by_name('prediction:0')\n",
    "    saver.restore(classifier['sess'], tf.train.latest_checkpoint(path.join(repoModel, './')))\n",
    "\n",
    "    # Pick players stats - last 'n' games \n",
    "    data_for_game.pull_line_shifts(team='both', minduration=20)\n",
    "    data_for_game.lineShifts\n",
    "    data_for_game.pick_regulartime()\n",
    "    data_for_game.pick_equalstrength()\n",
    "    data_for_game.pull_players_classes(preprocessing, classifier, nGames=number_of_games)\n",
    "    return data_for_game.player_classes"
   ]
  },
  {
   "cell_type": "code",
   "execution_count": 8,
   "metadata": {
    "collapsed": false
   },
   "outputs": [],
   "source": [
    "# mtlott.pull_line_shifts(team='both', minduration=20)\n",
    "# # mtlott.lineShifts\n",
    "# mtlott.encode_line_players()"
   ]
  },
  {
   "cell_type": "markdown",
   "metadata": {},
   "source": [
    "# Let's run analysis for MTL-OTT on March 13, 2013"
   ]
  },
  {
   "cell_type": "code",
   "execution_count": 11,
   "metadata": {
    "collapsed": false
   },
   "outputs": [
    {
     "name": "stderr",
     "output_type": "stream",
     "text": [
      "/Users/luisd/sw/anaconda3/lib/python3.6/site-packages/ipykernel/__main__.py:9: UserWarning: Boolean Series key will be reindexed to match DataFrame index.\n"
     ]
    }
   ],
   "source": [
    "# ==== First the game data\n",
    "\n",
    "# Montreal received Ottawa on march 13, 2013, let's convert game date to game code\n",
    "gameId = get_game_id(home_team_abbr='MTL', date_as_str='2013-03-13')\n",
    "\n",
    "# Now lets get game data \n",
    "season      =   '20122013'\n",
    "mtlott      =   Game(repoPbP, repoPSt, season, gameId=gameId )"
   ]
  },
  {
   "cell_type": "code",
   "execution_count": 12,
   "metadata": {
    "collapsed": false
   },
   "outputs": [
    {
     "name": "stderr",
     "output_type": "stream",
     "text": [
      "/Users/luisd/sw/anaconda3/lib/python3.6/site-packages/sklearn/base.py:315: UserWarning: Trying to unpickle estimator PCA from version 0.19.1 when using version 0.18.1. This might lead to breaking code or invalid results. Use at your own risk.\n",
      "  UserWarning)\n"
     ]
    },
    {
     "ename": "TypeError",
     "evalue": "list indices must be integers or slices, not str",
     "output_type": "error",
     "traceback": [
      "\u001b[0;31m---------------------------------------------------------------------------\u001b[0m",
      "\u001b[0;31mTypeError\u001b[0m                                 Traceback (most recent call last)",
      "\u001b[0;32m<ipython-input-12-d9ee0bd08265>\u001b[0m in \u001b[0;36m<module>\u001b[0;34m()\u001b[0m\n\u001b[1;32m      2\u001b[0m \u001b[0;34m\u001b[0m\u001b[0m\n\u001b[1;32m      3\u001b[0m \u001b[0;31m# Visualize all player's classes: 0=def, 1=off, 2=neutral\u001b[0m\u001b[0;34m\u001b[0m\u001b[0;34m\u001b[0m\u001b[0m\n\u001b[0;32m----> 4\u001b[0;31m \u001b[0mplayers_classes\u001b[0m \u001b[0;34m=\u001b[0m \u001b[0mget_players_classes\u001b[0m\u001b[0;34m(\u001b[0m\u001b[0mrepoModel\u001b[0m\u001b[0;34m,\u001b[0m \u001b[0mdata_for_game\u001b[0m\u001b[0;34m=\u001b[0m\u001b[0mmtlott\u001b[0m\u001b[0;34m,\u001b[0m \u001b[0mnumber_of_games\u001b[0m\u001b[0;34m=\u001b[0m\u001b[0;36m30\u001b[0m\u001b[0;34m)\u001b[0m\u001b[0;34m\u001b[0m\u001b[0m\n\u001b[0m\u001b[1;32m      5\u001b[0m \u001b[0;32massert\u001b[0m \u001b[0mplayers_classes\u001b[0m\u001b[0;34m.\u001b[0m\u001b[0mequals\u001b[0m\u001b[0;34m(\u001b[0m\u001b[0mmtlott\u001b[0m\u001b[0;34m.\u001b[0m\u001b[0mplayer_classes\u001b[0m\u001b[0;34m)\u001b[0m\u001b[0;34m\u001b[0m\u001b[0m\n\u001b[1;32m      6\u001b[0m \u001b[0mmtlott\u001b[0m\u001b[0;34m.\u001b[0m\u001b[0mplayer_classes\u001b[0m\u001b[0;34m\u001b[0m\u001b[0m\n",
      "\u001b[0;32m<ipython-input-7-5978ea60617f>\u001b[0m in \u001b[0;36mget_players_classes\u001b[0;34m(repoModel, data_for_game, number_of_games)\u001b[0m\n\u001b[1;32m     32\u001b[0m     \u001b[0mdata_for_game\u001b[0m\u001b[0;34m.\u001b[0m\u001b[0mpick_regulartime\u001b[0m\u001b[0;34m(\u001b[0m\u001b[0;34m)\u001b[0m\u001b[0;34m\u001b[0m\u001b[0m\n\u001b[1;32m     33\u001b[0m     \u001b[0mdata_for_game\u001b[0m\u001b[0;34m.\u001b[0m\u001b[0mpick_equalstrength\u001b[0m\u001b[0;34m(\u001b[0m\u001b[0;34m)\u001b[0m\u001b[0;34m\u001b[0m\u001b[0m\n\u001b[0;32m---> 34\u001b[0;31m     \u001b[0mdata_for_game\u001b[0m\u001b[0;34m.\u001b[0m\u001b[0mpull_players_classes\u001b[0m\u001b[0;34m(\u001b[0m\u001b[0mpreprocessing\u001b[0m\u001b[0;34m,\u001b[0m \u001b[0mclassifier\u001b[0m\u001b[0;34m,\u001b[0m \u001b[0mnGames\u001b[0m\u001b[0;34m=\u001b[0m\u001b[0mnumber_of_games\u001b[0m\u001b[0;34m)\u001b[0m\u001b[0;34m\u001b[0m\u001b[0m\n\u001b[0m\u001b[1;32m     35\u001b[0m     \u001b[0;32mreturn\u001b[0m \u001b[0mdata_for_game\u001b[0m\u001b[0;34m.\u001b[0m\u001b[0mplayer_classes\u001b[0m\u001b[0;34m\u001b[0m\u001b[0m\n",
      "\u001b[0;32m/Users/luisd/dev/NHL_stats/ReinforcementLearning/NHL/playbyplay/game.py\u001b[0m in \u001b[0;36mpull_players_classes\u001b[0;34m(self, model, classifier, nGames)\u001b[0m\n\u001b[1;32m    319\u001b[0m         \u001b[0mclassif\u001b[0m     \u001b[0;34m=\u001b[0m   \u001b[0mclassifier\u001b[0m\u001b[0;34m[\u001b[0m\u001b[0;34m'sess'\u001b[0m\u001b[0;34m]\u001b[0m\u001b[0;34m.\u001b[0m\u001b[0mrun\u001b[0m\u001b[0;34m(\u001b[0m\u001b[0mclassifier\u001b[0m\u001b[0;34m[\u001b[0m\u001b[0;34m'annY'\u001b[0m\u001b[0;34m]\u001b[0m\u001b[0;34m,\u001b[0m \u001b[0mfeed_dict\u001b[0m\u001b[0;34m=\u001b[0m\u001b[0mDTfeed\u001b[0m\u001b[0;34m)\u001b[0m\u001b[0;34m\u001b[0m\u001b[0m\n\u001b[1;32m    320\u001b[0m         \u001b[0;31m# Get players class\u001b[0m\u001b[0;34m\u001b[0m\u001b[0;34m\u001b[0m\u001b[0m\n\u001b[0;32m--> 321\u001b[0;31m         \u001b[0mctrLst\u001b[0m      \u001b[0;34m=\u001b[0m   \u001b[0mnp\u001b[0m\u001b[0;34m.\u001b[0m\u001b[0marray\u001b[0m\u001b[0;34m(\u001b[0m \u001b[0;34m(\u001b[0m\u001b[0mmodel\u001b[0m\u001b[0;34m[\u001b[0m\u001b[0;34m'global_centers'\u001b[0m\u001b[0;34m]\u001b[0m\u001b[0;34m[\u001b[0m\u001b[0;34m'selke'\u001b[0m\u001b[0;34m]\u001b[0m\u001b[0;34m,\u001b[0m \u001b[0mmodel\u001b[0m\u001b[0;34m[\u001b[0m\u001b[0;34m'global_centers'\u001b[0m\u001b[0;34m]\u001b[0m\u001b[0;34m[\u001b[0m\u001b[0;34m'ross'\u001b[0m\u001b[0;34m]\u001b[0m\u001b[0;34m,\u001b[0m \u001b[0mmodel\u001b[0m\u001b[0;34m[\u001b[0m\u001b[0;34m'global_centers'\u001b[0m\u001b[0;34m]\u001b[0m\u001b[0;34m[\u001b[0m\u001b[0;34m'poor'\u001b[0m\u001b[0;34m]\u001b[0m\u001b[0;34m)\u001b[0m \u001b[0;34m)\u001b[0m\u001b[0;34m\u001b[0m\u001b[0m\n\u001b[0m\u001b[1;32m    322\u001b[0m         \u001b[0mpl_class\u001b[0m    \u001b[0;34m=\u001b[0m   \u001b[0;34m[\u001b[0m\u001b[0mnp\u001b[0m\u001b[0;34m.\u001b[0m\u001b[0margmin\u001b[0m\u001b[0;34m(\u001b[0m \u001b[0mnp\u001b[0m\u001b[0;34m.\u001b[0m\u001b[0msum\u001b[0m\u001b[0;34m(\u001b[0m \u001b[0;34m(\u001b[0m\u001b[0mclassif\u001b[0m\u001b[0;34m[\u001b[0m\u001b[0mx\u001b[0m\u001b[0;34m,\u001b[0m\u001b[0;34m:\u001b[0m\u001b[0;34m]\u001b[0m \u001b[0;34m-\u001b[0m \u001b[0mctrLst\u001b[0m\u001b[0;34m)\u001b[0m\u001b[0;34m**\u001b[0m\u001b[0;36m2\u001b[0m\u001b[0;34m,\u001b[0m \u001b[0maxis\u001b[0m\u001b[0;34m=\u001b[0m\u001b[0;36m1\u001b[0m \u001b[0;34m)\u001b[0m \u001b[0;34m)\u001b[0m \u001b[0;32mfor\u001b[0m \u001b[0mx\u001b[0m \u001b[0;32min\u001b[0m \u001b[0mrange\u001b[0m\u001b[0;34m(\u001b[0m\u001b[0mclassif\u001b[0m\u001b[0;34m.\u001b[0m\u001b[0mshape\u001b[0m\u001b[0;34m[\u001b[0m\u001b[0;36m0\u001b[0m\u001b[0;34m]\u001b[0m\u001b[0;34m)\u001b[0m\u001b[0;34m]\u001b[0m\u001b[0;34m\u001b[0m\u001b[0m\n\u001b[1;32m    323\u001b[0m         \u001b[0mpl_class\u001b[0m    \u001b[0;34m=\u001b[0m   \u001b[0mpd\u001b[0m\u001b[0;34m.\u001b[0m\u001b[0mDataFrame\u001b[0m\u001b[0;34m(\u001b[0m\u001b[0mpl_class\u001b[0m\u001b[0;34m,\u001b[0m \u001b[0mcolumns\u001b[0m\u001b[0;34m=\u001b[0m\u001b[0;34m[\u001b[0m\u001b[0;34m'class'\u001b[0m\u001b[0;34m]\u001b[0m\u001b[0;34m,\u001b[0m \u001b[0mindex\u001b[0m\u001b[0;34m=\u001b[0m\u001b[0mall_plN\u001b[0m\u001b[0;34m.\u001b[0m\u001b[0mindex\u001b[0m\u001b[0;34m.\u001b[0m\u001b[0mvalues\u001b[0m\u001b[0;34m)\u001b[0m\u001b[0;34m\u001b[0m\u001b[0m\n",
      "\u001b[0;31mTypeError\u001b[0m: list indices must be integers or slices, not str"
     ]
    }
   ],
   "source": [
    "# ==== Second the players data\n",
    "\n",
    "# Visualize all player's classes: 0=def, 1=off, 2=neutral\n",
    "players_classes = get_players_classes(repoModel, data_for_game=mtlott, number_of_games=30)\n",
    "assert players_classes.equals(mtlott.player_classes)\n",
    "mtlott.player_classes\n"
   ]
  },
  {
   "cell_type": "code",
   "execution_count": null,
   "metadata": {
    "collapsed": false
   },
   "outputs": [],
   "source": [
    "# mtlott.player_classes[mtlott.player_classes[\"firstlast\"] == \"KYLE TURRIS\"]\n",
    "a = mtlott.player_classes[mtlott.player_classes.index == 238][\"class\"]"
   ]
  },
  {
   "cell_type": "markdown",
   "metadata": {},
   "source": [
    "### How to get the category of a player:"
   ]
  },
  {
   "cell_type": "code",
   "execution_count": null,
   "metadata": {
    "collapsed": false
   },
   "outputs": [],
   "source": [
    "def get_class_of_player_by_id(data_for_game, player_id: int) -> int:\n",
    "    \"0=def, 1=off, 2=neutral\"\n",
    "    try:\n",
    "        return int(data_for_game.player_classes[mtlott.player_classes.index == player_id][\"class\"])\n",
    "    except:\n",
    "        raise IndexError(\"Player %d did not play on this game\" % (player_id))\n"
   ]
  },
  {
   "cell_type": "code",
   "execution_count": null,
   "metadata": {
    "collapsed": false
   },
   "outputs": [],
   "source": [
    "get_class_of_player_by_id(mtlott, player_id = 1374)"
   ]
  },
  {
   "cell_type": "markdown",
   "metadata": {},
   "source": [
    "### Prediction of the lines that the 'away' team will use"
   ]
  },
  {
   "cell_type": "code",
   "execution_count": null,
   "metadata": {
    "collapsed": false
   },
   "outputs": [],
   "source": [
    "from typing import List\n",
    "import matplotlib.pyplot as plt\n",
    "%matplotlib inline\n",
    "\n",
    "def get_away_lines(data_for_game, accept_repeated=False) -> List[List[int]]:\n",
    "    \"\"\"\n",
    "    Calculates top lines used by opposing team\n",
    "    \"\"\"\n",
    "    data_for_game.pull_line_shifts(team='away', minduration=20)\n",
    "    df = data_for_game.lineShifts.groupby(by=mtlott.lineShifts['playersID'].apply(tuple)).agg({'iceduration':sum}).sort_values(by=['iceduration'], ascending=False)\n",
    "    \n",
    "#     plt.figure()\n",
    "#     df.plot(kind='bar')    \n",
    "    \n",
    "    a_dict = df.to_dict()['iceduration']\n",
    "    sorted_tuples_and_secs = sorted(a_dict.items(), key=lambda x:x[1], reverse=True)\n",
    "    players_used = set()\n",
    "    lines_chosen = []\n",
    "    for line, secs in sorted_tuples_and_secs:\n",
    "        # is this line using players already present?\n",
    "        line_as_set = set(line)\n",
    "        if (not 1 in line_as_set) and (accept_repeated or (len(players_used.intersection(line_as_set)) == 0)):\n",
    "            lines_chosen.append(line)\n",
    "            players_used = players_used.union(line_as_set)\n",
    "            if len(lines_chosen) == 4:\n",
    "                break\n",
    "    print(lines_chosen)\n",
    "    return lines_chosen\n",
    "\n",
    "   "
   ]
  },
  {
   "cell_type": "code",
   "execution_count": null,
   "metadata": {
    "collapsed": false
   },
   "outputs": [],
   "source": [
    "get_away_lines(mtlott, accept_repeated=True) "
   ]
  },
  {
   "cell_type": "code",
   "execution_count": null,
   "metadata": {
    "collapsed": false
   },
   "outputs": [],
   "source": [
    "_, A = get_away_lines(mtlott, accept_repeated=True)\n",
    "print(A)"
   ]
  },
  {
   "cell_type": "code",
   "execution_count": null,
   "metadata": {
    "collapsed": false
   },
   "outputs": [],
   "source": [
    "[np.sort(mtlott.player_classes.loc[list(a)][\"class\"].values) for a in get_away_lines(mtlott, accept_repeated=True)]\n",
    "# [mtlott.recode_line(linedict, b) for b in [(238, 1219, 1374), (236, 1219, 1374), (238, 621, 813), (228, 241, 621)]]\n",
    "\n",
    "# Line translation table\n",
    "linedict  = HockeySS(repoPbP, repoPSt)\n",
    "linedict.make_line_dictionary()\n",
    "linedict  = linedict.line_dictionary\n"
   ]
  },
  {
   "cell_type": "code",
   "execution_count": null,
   "metadata": {
    "collapsed": false
   },
   "outputs": [],
   "source": [
    "# === Now we get the indices in the Q-values tables corresponding to lines\n",
    "\n",
    "# Line translation table\n",
    "linedict  = HockeySS(repoPbP, repoPSt)\n",
    "linedict.make_line_dictionary()\n",
    "linedict  = linedict.line_dictionary\n",
    "\n",
    "# Get lines and translate them \n",
    "playersCode  =   mtlott.encode_line_players()\n",
    "linesCode    =   np.array( [[mtlott.recode_line(linedict, a) for a in b] for b in playersCode] )\n",
    "# linedict"
   ]
  },
  {
   "cell_type": "code",
   "execution_count": null,
   "metadata": {
    "collapsed": false
   },
   "outputs": [],
   "source": [
    "# Visualize the line codes for each shift (first digit is the code of the away team's line - state-space, \n",
    "# second digit is the code of the home team's line - action space)\n",
    "linesCode"
   ]
  },
  {
   "cell_type": "code",
   "execution_count": null,
   "metadata": {
    "collapsed": false
   },
   "outputs": [],
   "source": [
    "# ==== Now we want to evaluate the value of the first shift for the (home team)\n",
    "\n",
    "# Load the Qvalues table\n",
    "Qvalues = pickle.load( open(path.join(repoCode, 'ReinforcementLearning/NHL/playbyplay/data/stable/RL_action_values.p'), 'rb') )['action_values']\n",
    "\n",
    "# Visualize it dimensions (period x differential x away line's code x home line's code)\n",
    "print('Q-table dimensions: ', Qvalues.shape)\n",
    "\n",
    "# Get the Q-value for that specific line\n",
    "iShift = 0 # First shift\n",
    "plList = list(mtlott.player_classes.loc[mtlott.lineShifts['playersID'].iloc[iShift][0]]['firstlast'].values) + list(mtlott.player_classes.loc[mtlott.lineShifts['playersID'].iloc[iShift][1]]['firstlast'].values)\n",
    "diff   = mtlott.recode_differential( mtlott.lineShifts.iloc[iShift].differential )\n",
    "period = mtlott.recode_period( mtlott.lineShifts.iloc[iShift].period )\n",
    "q_values = Qvalues[period,diff,linesCode[iShift,0], linesCode[iShift,1]]\n",
    "print('[diff = %d, period = %d] First shift: \\n\\thome team: %s, %s, %s \\n\\taway team: %s, %s, %s \\n\\tQvalue: %.2f' %(diff, period, plList[0], plList[1], plList[2], plList[3], plList[4], plList[5], q_values) )\n",
    "                                                                          \n"
   ]
  },
  {
   "cell_type": "code",
   "execution_count": null,
   "metadata": {
    "collapsed": true
   },
   "outputs": [],
   "source": []
  },
  {
   "cell_type": "code",
   "execution_count": null,
   "metadata": {
    "collapsed": true
   },
   "outputs": [],
   "source": []
  }
 ],
 "metadata": {
  "kernelspec": {
   "display_name": "Python 3",
   "language": "python",
   "name": "python3"
  },
  "language_info": {
   "codemirror_mode": {
    "name": "ipython",
    "version": 3
   },
   "file_extension": ".py",
   "mimetype": "text/x-python",
   "name": "python",
   "nbconvert_exporter": "python",
   "pygments_lexer": "ipython3",
   "version": "3.6.0"
  }
 },
 "nbformat": 4,
 "nbformat_minor": 2
}

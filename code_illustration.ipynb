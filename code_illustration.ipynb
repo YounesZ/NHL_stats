{
 "cells": [
  {
   "cell_type": "markdown",
   "metadata": {
    "scrolled": true
   },
   "source": [
    "# Retrieve player statistics \n",
    "and convert them into player profiles (offensive, defensive, neutral). It also shows how to retrieve game info, such as players list etc.\n"
   ]
  },
  {
   "cell_type": "code",
   "execution_count": 1,
   "metadata": {
    "collapsed": true
   },
   "outputs": [],
   "source": [
    "import itertools\n",
    "from abc import abstractmethod\n",
    "from typing import List, Set, Callable, Tuple, Dict\n",
    "\n",
    "from enum import Enum, auto\n",
    "class PlayerType(Enum):\n",
    "    DEFENSIVE = 0\n",
    "    OFFENSIVE = 1\n",
    "    NEUTRAL = 2\n"
   ]
  },
  {
   "cell_type": "code",
   "execution_count": 2,
   "metadata": {
    "collapsed": true
   },
   "outputs": [],
   "source": [
    "from ReinforcementLearning.NHL.playerstats.nhl_player_stats import *\n",
    "from ReinforcementLearning.NHL.playbyplay.game import *"
   ]
  },
  {
   "cell_type": "code",
   "execution_count": 3,
   "metadata": {
    "collapsed": true
   },
   "outputs": [],
   "source": [
    "# Pointers to the data\n",
    "# repoCode    =   '/Users/younes_zerouali/Documents/Stradigi/Code/NHL_stats_SL'\n",
    "repoCode    =   '/Users/luisd/dev/NHL_stats'\n",
    "#db_root     =   '/home/younesz/Documents/Hockey'        #This is the location of the Hockey database\n",
    "# db_root     =   '/Users/younes_zerouali/Documents/Stradigi/Databases/Hockey'\n",
    "db_root     =   '/Users/luisd/dev/NHL_stats/data'\n",
    "repoPbP     =   path.join(db_root, 'PlayByPlay')\n",
    "repoPSt     =   path.join(db_root, 'PlayerStats/player')\n",
    "repoModel   =   path.join(repoCode, 'ReinforcementLearning/NHL/playerstats/offVSdef/Automatic_classification/MODEL_backup_trainedonallseasons_rankstatprediction')\n",
    "repoModel   =   path.join(repoCode, 'ReinforcementLearning/NHL/playerstats/offVSdef/Automatic_classification/MODEL_perceptron_1layer_10units_relu')\n",
    "repoSave    =   None #path.join(repoCode, 'ReinforcementLearning/NHL/playbyplay/data')"
   ]
  },
  {
   "cell_type": "code",
   "execution_count": 4,
   "metadata": {
    "collapsed": false
   },
   "outputs": [
    {
     "data": {
      "text/plain": [
       "'/Users/luisd/dev/NHL_stats/data/PlayByPlay'"
      ]
     },
     "execution_count": 4,
     "metadata": {},
     "output_type": "execute_result"
    }
   ],
   "source": [
    "repoPbP"
   ]
  },
  {
   "cell_type": "code",
   "execution_count": 5,
   "metadata": {
    "collapsed": false
   },
   "outputs": [
    {
     "data": {
      "text/plain": [
       "'/Users/luisd/dev/NHL_stats/ReinforcementLearning/NHL/playerstats/offVSdef/Automatic_classification/MODEL_perceptron_1layer_10units_relu'"
      ]
     },
     "execution_count": 5,
     "metadata": {},
     "output_type": "execute_result"
    }
   ],
   "source": [
    "repoModel"
   ]
  },
  {
   "cell_type": "markdown",
   "metadata": {},
   "source": [
    "# Re-train the model if needed\n",
    "For example if you have trouble because the file of the model is not accessible, you need to re-run this cell."
   ]
  },
  {
   "cell_type": "code",
   "execution_count": 6,
   "metadata": {
    "collapsed": false
   },
   "outputs": [],
   "source": [
    "# ==== Before starting, recompute the model\n",
    "# This should avoid path issues when reloading it\n",
    "# normalizer, pca, dtCols, CLS    =   do_ANN_training(repoPSt, repoPbP, repoCode, repoModel, minGames=0.2)"
   ]
  },
  {
   "cell_type": "markdown",
   "metadata": {},
   "source": [
    "# Definitions of Functions"
   ]
  },
  {
   "cell_type": "markdown",
   "metadata": {},
   "source": [
    "## Get game id's by team and date"
   ]
  },
  {
   "cell_type": "code",
   "execution_count": 7,
   "metadata": {
    "collapsed": false
   },
   "outputs": [],
   "source": [
    "def get_game_id(home_team_abbr, date_as_str):\n",
    "    \"\"\"\n",
    "    let's convert game date to game code.\n",
    "    For example Montreal received Ottawa on march 13, 2013 =>\n",
    "        gameId = get_game_id(home_team_abbr='MTL', date_as_str='2013-03-13')\n",
    "    \"\"\"\n",
    "    try:\n",
    "        gameInfo    =   pickle.load( open(path.join(db_root, 'gamesInfo.p'), 'rb') )\n",
    "        gameInfo    =   gameInfo[gameInfo['gameDate']==date_as_str][gameInfo['teamAbbrev']==home_team_abbr]\n",
    "        gameId      =   gameInfo['gameId']\n",
    "        gameId      =   int( gameId.values.astype('str')[0][5:] )\n",
    "        return gameId\n",
    "    except Exception as e:\n",
    "        raise IndexError(\"There was no game for '%s' on '%s'\" % (home_team_abbr, date_as_str))"
   ]
  },
  {
   "cell_type": "markdown",
   "metadata": {},
   "source": [
    "## Get players data (classes)"
   ]
  },
  {
   "cell_type": "code",
   "execution_count": 8,
   "metadata": {
    "collapsed": false
   },
   "outputs": [],
   "source": [
    "# ==== Second the players data\n",
    "\n",
    "def get_players_classes(repoModel, data_for_game, number_of_games):\n",
    "    \"\"\"\n",
    "    Calculates (dataframe with) all player's classes.\n",
    "    Updates the 'data for game' structure with it; also returns it.\n",
    "    Usage:\n",
    "        repoModel = ... # here goes the directory where your model is saved.\n",
    "        # Montreal received Ottawa on march 13, 2013\n",
    "        gameId = get_game_id(home_team_abbr='MTL', date_as_str='2013-03-13')\n",
    "        season      =   '20122013'\n",
    "        mtlott      =   Game(repoPbP, repoPSt, season, gameId=gameId )\n",
    "        #\n",
    "        players_classes = get_players_classes(repoModel, mtlott, number_of_games=30)\n",
    "        # this is equivalent to ask 'mtlott' for the data; so:\n",
    "        assert players_classes.equals(mtlott.player_classes)\n",
    "    \"\"\"\n",
    "    # Need to load the data pre-processing variables\n",
    "    preprocessing  =   pickle.load(open(path.join(repoModel, 'baseVariables.p'), 'rb'))\n",
    "\n",
    "    # Need to load the classification model (for players' predicted ranking on trophies voting lists)\n",
    "    classifier          =   {'sess':tf.Session(), 'annX':[], 'annY':[]}\n",
    "    saver               =   tf.train.import_meta_graph(path.join(repoModel, path.basename(repoModel) + '.meta'))\n",
    "    graph               =   classifier['sess'].graph\n",
    "    classifier['annX']  =   graph.get_tensor_by_name('Input_to_the_network-player_features:0')\n",
    "    classifier['annY']  =   graph.get_tensor_by_name('prediction:0')\n",
    "    saver.restore(classifier['sess'], tf.train.latest_checkpoint(path.join(repoModel, './')))\n",
    "\n",
    "    # Pick players stats - last 'n' games \n",
    "    data_for_game.pull_line_shifts(team='both', minduration=20)\n",
    "    data_for_game.lineShifts\n",
    "    data_for_game.pick_regulartime()\n",
    "    data_for_game.pick_equalstrength()\n",
    "    data_for_game.pull_players_classes(preprocessing, classifier, nGames=number_of_games)\n",
    "    return data_for_game.player_classes"
   ]
  },
  {
   "cell_type": "code",
   "execution_count": 9,
   "metadata": {
    "collapsed": false
   },
   "outputs": [],
   "source": [
    "# ==== Second the players data\n",
    "from typing import Set\n",
    "\n",
    "def get_MTL_players(players_classes) -> Set[int]:\n",
    "    return set(players_classes[players_classes[\"team\"] == \"MTL\"].index)"
   ]
  },
  {
   "cell_type": "code",
   "execution_count": 10,
   "metadata": {
    "collapsed": false
   },
   "outputs": [],
   "source": [
    "# mtlott.pull_line_shifts(team='both', minduration=20)\n",
    "# # mtlott.lineShifts\n",
    "# mtlott.encode_line_players()"
   ]
  },
  {
   "cell_type": "markdown",
   "metadata": {},
   "source": [
    "# Let's run analysis for MTL-OTT on March 13, 2013"
   ]
  },
  {
   "cell_type": "code",
   "execution_count": 11,
   "metadata": {
    "collapsed": false
   },
   "outputs": [
    {
     "name": "stderr",
     "output_type": "stream",
     "text": [
      "/Users/luisd/sw/anaconda3/lib/python3.6/site-packages/ipykernel/__main__.py:9: UserWarning: Boolean Series key will be reindexed to match DataFrame index.\n"
     ]
    }
   ],
   "source": [
    "# ==== First the game data\n",
    "\n",
    "# Montreal received Ottawa on march 13, 2013, let's convert game date to game code\n",
    "gameId = get_game_id(home_team_abbr='MTL', date_as_str='2013-03-13')\n",
    "\n",
    "# Now lets get game data \n",
    "season      =   '20122013'\n",
    "mtlott      =   Game(repoPbP, repoPSt, season, gameId=gameId )"
   ]
  },
  {
   "cell_type": "code",
   "execution_count": 14,
   "metadata": {
    "collapsed": false
   },
   "outputs": [
    {
     "ename": "IndexError",
     "evalue": "only integers, slices (`:`), ellipsis (`...`), numpy.newaxis (`None`) and integer or boolean arrays are valid indices",
     "output_type": "error",
     "traceback": [
      "\u001b[0;31m---------------------------------------------------------------------------\u001b[0m",
      "\u001b[0;31mIndexError\u001b[0m                                Traceback (most recent call last)",
      "\u001b[0;32m<ipython-input-14-bab610c6f16c>\u001b[0m in \u001b[0;36m<module>\u001b[0;34m()\u001b[0m\n\u001b[0;32m----> 1\u001b[0;31m \u001b[0mmtlott\u001b[0m\u001b[0;34m.\u001b[0m\u001b[0mpull_line_shifts\u001b[0m\u001b[0;34m(\u001b[0m\u001b[0mteam\u001b[0m\u001b[0;34m=\u001b[0m\u001b[0;34m'away'\u001b[0m\u001b[0;34m,\u001b[0m \u001b[0mminduration\u001b[0m\u001b[0;34m=\u001b[0m\u001b[0;36m20\u001b[0m\u001b[0;34m)\u001b[0m\u001b[0;34m\u001b[0m\u001b[0m\n\u001b[0m",
      "\u001b[0;32m/Users/luisd/dev/NHL_stats/ReinforcementLearning/NHL/playbyplay/game.py\u001b[0m in \u001b[0;36mpull_line_shifts\u001b[0;34m(self, team, minduration)\u001b[0m\n\u001b[1;32m    240\u001b[0m             \u001b[0;32melse\u001b[0m\u001b[0;34m:\u001b[0m\u001b[0;34m\u001b[0m\u001b[0m\n\u001b[1;32m    241\u001b[0m                 \u001b[0mcurLine\u001b[0m     \u001b[0;34m=\u001b[0m   \u001b[0mnp\u001b[0m\u001b[0;34m.\u001b[0m\u001b[0msort\u001b[0m\u001b[0;34m(\u001b[0m\u001b[0mself\u001b[0m\u001b[0;34m.\u001b[0m\u001b[0mpull_offensive_players\u001b[0m\u001b[0;34m(\u001b[0m\u001b[0mLine\u001b[0m\u001b[0;34m,\u001b[0m \u001b[0mtmP\u001b[0m\u001b[0;34m)\u001b[0m\u001b[0;34m)\u001b[0m\u001b[0;34m\u001b[0m\u001b[0m\n\u001b[0;32m--> 242\u001b[0;31m                 \u001b[0mself\u001b[0m\u001b[0;34m.\u001b[0m\u001b[0mteams\u001b[0m  \u001b[0;34m=\u001b[0m   \u001b[0mcurLine\u001b[0m\u001b[0;34m[\u001b[0m\u001b[0mteam\u001b[0m\u001b[0;34m+\u001b[0m\u001b[0;34m'team'\u001b[0m\u001b[0;34m]\u001b[0m\u001b[0;34m\u001b[0m\u001b[0m\n\u001b[0m\u001b[1;32m    243\u001b[0m \u001b[0;34m\u001b[0m\u001b[0m\n\u001b[1;32m    244\u001b[0m             \u001b[0;31m# team of interest has changed?\u001b[0m\u001b[0;34m\u001b[0m\u001b[0;34m\u001b[0m\u001b[0m\n",
      "\u001b[0;31mIndexError\u001b[0m: only integers, slices (`:`), ellipsis (`...`), numpy.newaxis (`None`) and integer or boolean arrays are valid indices"
     ]
    }
   ],
   "source": [
    "mtlott.pull_line_shifts(team='away', minduration=20)"
   ]
  },
  {
   "cell_type": "code",
   "execution_count": null,
   "metadata": {
    "collapsed": false
   },
   "outputs": [],
   "source": [
    "# ==== Second the players data\n",
    "\n",
    "# Visualize all player's classes: 0=def, 1=off, 2=neutral\n",
    "players_classes = get_players_classes(repoModel, data_for_game=mtlott, number_of_games=30)\n",
    "assert players_classes.equals(mtlott.player_classes)\n",
    "mtlott.player_classes\n"
   ]
  },
  {
   "cell_type": "code",
   "execution_count": null,
   "metadata": {
    "collapsed": false
   },
   "outputs": [],
   "source": [
    "players_classes"
   ]
  },
  {
   "cell_type": "code",
   "execution_count": null,
   "metadata": {
    "collapsed": false
   },
   "outputs": [],
   "source": [
    "get_MTL_players(players_classes)"
   ]
  },
  {
   "cell_type": "code",
   "execution_count": null,
   "metadata": {
    "collapsed": false
   },
   "outputs": [],
   "source": [
    "# mtlott.player_classes[mtlott.player_classes[\"firstlast\"] == \"KYLE TURRIS\"]\n",
    "a = mtlott.player_classes[mtlott.player_classes.index == 238][\"class\"]"
   ]
  },
  {
   "cell_type": "markdown",
   "metadata": {},
   "source": [
    "### How to get the category of a player:"
   ]
  },
  {
   "cell_type": "code",
   "execution_count": null,
   "metadata": {
    "collapsed": false
   },
   "outputs": [],
   "source": [
    "def get_class_of_player_by_id(data_for_game, player_id: int) -> int:\n",
    "    \"0=def, 1=off, 2=neutral\"\n",
    "    try:\n",
    "        return int(data_for_game.player_classes[mtlott.player_classes.index == player_id][\"class\"])\n",
    "    except:\n",
    "        raise IndexError(\"Player %d did not play on this game\" % (player_id))\n"
   ]
  },
  {
   "cell_type": "code",
   "execution_count": null,
   "metadata": {
    "collapsed": false
   },
   "outputs": [],
   "source": [
    "get_class_of_player_by_id(mtlott, player_id = 1374)"
   ]
  },
  {
   "cell_type": "markdown",
   "metadata": {},
   "source": [
    "### Prediction of the lines that the 'away' team will use"
   ]
  },
  {
   "cell_type": "code",
   "execution_count": null,
   "metadata": {
    "collapsed": false
   },
   "outputs": [],
   "source": [
    "from typing import List\n",
    "import matplotlib.pyplot as plt\n",
    "%matplotlib inline\n",
    "\n",
    "def get_away_lines(data_for_game, accept_repeated=False) -> List[List[int]]:\n",
    "    \"\"\"\n",
    "    Calculates top lines used by opposing team\n",
    "    \"\"\"\n",
    "    data_for_game.pull_line_shifts(team='away', minduration=20)\n",
    "    df = data_for_game.lineShifts.groupby(by=mtlott.lineShifts['playersID'].apply(tuple)).agg({'iceduration':sum}).sort_values(by=['iceduration'], ascending=False)\n",
    "    \n",
    "    plt.figure()\n",
    "    df.plot(kind='bar')    \n",
    "    \n",
    "    a_dict = df.to_dict()['iceduration']\n",
    "    sorted_tuples_and_secs = sorted(a_dict.items(), key=lambda x:x[1], reverse=True)\n",
    "    players_used = set()\n",
    "    lines_chosen = []\n",
    "    for line, secs in sorted_tuples_and_secs:\n",
    "        # is this line using players already present?\n",
    "        line_as_set = set(line)\n",
    "        if (not 1 in line_as_set) and (accept_repeated or (len(players_used.intersection(line_as_set)) == 0)):\n",
    "            lines_chosen.append(line)\n",
    "            players_used = players_used.union(line_as_set)\n",
    "            if len(lines_chosen) == 4:\n",
    "                break\n",
    "    print(lines_chosen)\n",
    "    return lines_chosen\n",
    "\n",
    "   "
   ]
  },
  {
   "cell_type": "code",
   "execution_count": null,
   "metadata": {
    "collapsed": false
   },
   "outputs": [],
   "source": [
    "get_away_lines(mtlott, accept_repeated=True) "
   ]
  },
  {
   "cell_type": "code",
   "execution_count": null,
   "metadata": {
    "collapsed": false
   },
   "outputs": [],
   "source": [
    "[np.sort(mtlott.player_classes.loc[list(a)][\"class\"].values) for a in get_away_lines(mtlott, accept_repeated=True)]\n",
    "# [mtlott.recode_line(linedict, b) for b in [(238, 1219, 1374), (236, 1219, 1374), (238, 621, 813), (228, 241, 621)]]\n",
    "\n",
    "# # Line translation table\n",
    "# linedict  = HockeySS(repoPbP, repoPSt)\n",
    "# linedict.make_line_dictionary()\n",
    "# linedict  = linedict.line_dictionary\n"
   ]
  },
  {
   "cell_type": "code",
   "execution_count": null,
   "metadata": {
    "collapsed": false
   },
   "outputs": [],
   "source": [
    "# === Now we get the indices in the Q-values tables corresponding to lines\n",
    "\n",
    "# Line translation table\n",
    "linedict  = HockeySS(repoPbP, repoPSt)\n",
    "linedict.make_line_dictionary()\n",
    "linedict  = linedict.line_dictionary\n",
    "\n",
    "# Get lines and translate them \n",
    "playersCode  =   mtlott.encode_line_players()\n",
    "linesCode    =   np.array( [[mtlott.recode_line(linedict, a) for a in b] for b in playersCode] )\n",
    "# linedict"
   ]
  },
  {
   "cell_type": "code",
   "execution_count": null,
   "metadata": {
    "collapsed": false
   },
   "outputs": [],
   "source": [
    "# Visualize the line codes for each shift (first digit is the code of the away team's line - state-space, \n",
    "# second digit is the code of the home team's line - action space)\n",
    "linesCode"
   ]
  },
  {
   "cell_type": "code",
   "execution_count": null,
   "metadata": {
    "collapsed": false
   },
   "outputs": [],
   "source": [
    "# ==== Now we want to evaluate the value of the first shift for the (home team)\n",
    "\n",
    "# Load the Qvalues table\n",
    "Qvalues = pickle.load( open(path.join(repoCode, 'ReinforcementLearning/NHL/playbyplay/data/stable/RL_action_values.p'), 'rb') )['action_values']\n",
    "\n",
    "# Visualize it dimensions (period x differential x away line's code x home line's code)\n",
    "print('Q-table dimensions: ', Qvalues.shape)\n",
    "\n",
    "# Get the Q-value for that specific line\n",
    "iShift = 0 # First shift\n",
    "plList = list(mtlott.player_classes.loc[mtlott.lineShifts['playersID'].iloc[iShift][0]]['firstlast'].values) + list(mtlott.player_classes.loc[mtlott.lineShifts['playersID'].iloc[iShift][1]]['firstlast'].values)\n",
    "diff   = mtlott.recode_differential( mtlott.lineShifts.iloc[iShift].differential )\n",
    "period = mtlott.recode_period( mtlott.lineShifts.iloc[iShift].period )\n",
    "q_values = Qvalues[period,diff,linesCode[iShift,0], linesCode[iShift,1]]\n",
    "print('[diff = %d, period = %d] First shift: \\n\\thome team: %s, %s, %s \\n\\taway team: %s, %s, %s \\n\\tQvalue: %.2f' %(diff, period, plList[0], plList[1], plList[2], plList[3], plList[4], plList[5], q_values) )\n",
    "                                                                          \n"
   ]
  },
  {
   "cell_type": "code",
   "execution_count": null,
   "metadata": {
    "collapsed": true
   },
   "outputs": [],
   "source": [
    "# ###########################################################################################\n",
    "# ###########################################################################################\n",
    "# ###########################################################################################\n",
    "class CategoryFetcher(object):\n",
    "\n",
    "    def __init__(self, data_for_game):\n",
    "        self.data_for_game = data_for_game\n",
    "\n",
    "    def category_of_player(self, player_id: int) -> PlayerType:\n",
    "        return get_class_of_player_by_id(self.data_for_game, player_id)\n"
   ]
  },
  {
   "cell_type": "code",
   "execution_count": null,
   "metadata": {
    "collapsed": false
   },
   "outputs": [],
   "source": [
    "cf = CategoryFetcher(data_for_game=mtlott)\n",
    "cf.category_of_player(1374)"
   ]
  },
  {
   "cell_type": "code",
   "execution_count": null,
   "metadata": {
    "collapsed": true
   },
   "outputs": [],
   "source": [
    "class QValuesFetcher(object):\n",
    "\n",
    "    def lines_to_index(home_line: List[PlayerType], away_line: List[PlayerType]) -> str:\n",
    "        return ''.join(list(map(str, home_line + away_line)))\n",
    "\n",
    "    def __init__(self):\n",
    "        pass\n",
    "\n",
    "    @abstractmethod\n",
    "    def get(self, home_line: List[PlayerType], away_line: List[PlayerType]) -> float:\n",
    "        raise NotImplementedError\n",
    "\n",
    "class QValuesFetcherFromDict(QValuesFetcher):\n",
    "\n",
    "    def __init__(self, a_dict: Dict):\n",
    "        QValuesFetcher.__init__(self)\n",
    "        self.dict = a_dict\n",
    "\n",
    "    @classmethod\n",
    "    def from_tuples(cls, q_value_tuples: List[Tuple[List[PlayerType], List[PlayerType], float]]):\n",
    "        q_value_dict = {}\n",
    "        for v in q_value_tuples:\n",
    "            home_line, away_line, q_value = v\n",
    "            for home_line_comb in list(set(itertools.permutations(home_line))):\n",
    "                for away_line_comb in list(set(itertools.permutations(away_line))):\n",
    "                    q_value_dict[QValuesFetcher.lines_to_index(home_line_comb, away_line_comb)] = q_value\n",
    "        print(\"Q value dictionary has %d entries\" % (len(q_value_dict)))\n",
    "        return cls(a_dict=q_value_dict)\n",
    "\n",
    "    def get(self, home_line: Set[PlayerType], away_line: Set[PlayerType]) -> float:\n",
    "        return self.dict[QValuesFetcher.lines_to_index(list(home_line), list(away_line))]\n",
    "# ###########################################################################################\n",
    "# ###########################################################################################\n",
    "# ###########################################################################################\n",
    "\n"
   ]
  },
  {
   "cell_type": "code",
   "execution_count": null,
   "metadata": {
    "collapsed": true
   },
   "outputs": [],
   "source": []
  },
  {
   "cell_type": "code",
   "execution_count": null,
   "metadata": {
    "collapsed": true
   },
   "outputs": [],
   "source": []
  },
  {
   "cell_type": "code",
   "execution_count": null,
   "metadata": {
    "collapsed": true
   },
   "outputs": [],
   "source": [
    "class LineRecommender(object):\n",
    "\n",
    "    def __init__(self, player_category_fetcher: CategoryFetcher, q_values_fetcher: QValuesFetcher):\n",
    "        self.player_category_fetcher=player_category_fetcher\n",
    "        self.q_values_fetcher=q_values_fetcher\n",
    "\n",
    "\n",
    "    def recommend_lines(\n",
    "            self,\n",
    "            home_team_players_ids: Set[int],\n",
    "            away_team_lines: List[List[PlayerType]],\n",
    "            comb_q_values: Callable[[List[float]], float]) -> List[List[int]]:\n",
    "        \"\"\"\n",
    "        Builds optimal lines for home team.\n",
    "        Args:\n",
    "            home_team_players_ids: a list of id's for home team.\n",
    "            away_team_lines: 4 lines of away team. Each line is composed of 3 players, represented by their class (0 = defensive, 2 = offensive, 1 = neither)\n",
    "            q_values: a function that given 2 lines (represented by CLASSES of players) returns the q-value of the home team line.\n",
    "            comb_q_values: how to combine the q-values in order to obtain a \"fitness\" for a formation (larger is better).\n",
    "        Returns:\n",
    "\n",
    "        \"\"\"\n",
    "        import datetime\n",
    "        assert len(home_team_players_ids) == len(set(home_team_players_ids)), \"There are repeated ids in the home team\"\n",
    "        assert len(away_team_lines) == 4, \"I need a formation (ie, 4 lines) for away team\"\n",
    "\n",
    "        away_line_1, away_line_2, away_line_3, away_line_4 = away_team_lines\n",
    "        best_fitness = None\n",
    "        best_formation = None\n",
    "        how_many_first_lines_tried = 0\n",
    "        #\n",
    "        entry_timestamp = datetime.datetime.now().timestamp()\n",
    "        for home_line_1_ids in itertools.combinations(home_team_players_ids, 3):\n",
    "            best_formation_found = False\n",
    "            for home_line_2_ids in itertools.combinations(home_team_players_ids -  set(home_line_1_ids), 3):\n",
    "                for home_line_3_ids in itertools.combinations(\n",
    "                                        home_team_players_ids - set(home_line_1_ids) - set(home_line_2_ids), 3):\n",
    "                    for home_line_4_ids in itertools.combinations(\n",
    "                                        home_team_players_ids - set(home_line_1_ids) - set(home_line_2_ids) - set(home_line_3_ids), 3):\n",
    "                        home_formation = [home_line_1_ids, home_line_2_ids, home_line_3_ids, home_line_4_ids]\n",
    "\n",
    "                        # print(home_formation)\n",
    "                        # get lines with CATEGORY of players\n",
    "                        home_line_1 = list(map(self.player_category_fetcher.category_of_player, home_line_1_ids))\n",
    "                        home_line_2 = list(map(self.player_category_fetcher.category_of_player, home_line_2_ids))\n",
    "                        home_line_3 = list(map(self.player_category_fetcher.category_of_player, home_line_3_ids))\n",
    "                        home_line_4 = list(map(self.player_category_fetcher.category_of_player, home_line_4_ids))\n",
    "                        # ok, then:\n",
    "                        qs = [self.q_values_fetcher.get(home_line_1, away_line_1),\n",
    "                              self.q_values_fetcher.get(home_line_2, away_line_2),\n",
    "                              self.q_values_fetcher.get(home_line_3, away_line_3),\n",
    "                              self.q_values_fetcher.get(home_line_4, away_line_4)]\n",
    "                        fitness = comb_q_values(qs)\n",
    "                        # print(qs)\n",
    "                        if (best_fitness is None) or (fitness > best_fitness):\n",
    "                            best_fitness = fitness\n",
    "                            best_formation = home_formation\n",
    "                            best_formation_found = True\n",
    "                            print(\"Best fitness: %.2f by formation %s\" % (best_fitness, best_formation))\n",
    "\n",
    "\n",
    "            how_many_first_lines_tried += 1\n",
    "            if best_formation_found:\n",
    "                time_it_took = datetime.datetime.now().timestamp() - entry_timestamp\n",
    "                time_per_cycle = time_it_took / how_many_first_lines_tried\n",
    "                print(\"=======> Took %.2f secs. to look at %d first-lines; I think we have around %.2f secs. to go\" % (\n",
    "                time_it_took, how_many_first_lines_tried, (220 - how_many_first_lines_tried) * time_per_cycle))\n",
    "\n",
    "        print(\"ALL DONE!!!!!!\")\n",
    "        print(\"================================\")\n",
    "        print(\"Best fitness: %.2f by formation \\n%s, to play against \\n%s\" % (best_fitness, best_formation, away_team_lines))\n",
    "        print(\"================================\")\n",
    "        return best_formation\n",
    "\n",
    "    def recommend_lines_maximize_average(\n",
    "            self,\n",
    "            home_team_players_ids: Set[int],\n",
    "            away_team_lines: List[List[PlayerType]]) -> List[List[int]]:\n",
    "        return self.recommend_lines(home_team_players_ids, away_team_lines, comb_q_values=(lambda a_list: sum(a_list) / len(a_list)))\n",
    "\n",
    "    def recommend_lines_maximize_max(\n",
    "            self,\n",
    "            home_team_players_ids: Set[int],\n",
    "            away_team_lines: List[List[PlayerType]]) -> List[List[int]]:\n",
    "        return self.recommend_lines(home_team_players_ids, away_team_lines, comb_q_values=(lambda a_list: max(a_list)))\n",
    "# ###########################################################################################\n",
    "# ###########################################################################################\n",
    "# ###########################################################################################\n",
    "\n",
    "\n",
    "# ############################################################\n",
    "# PUT ALL THE FOLLOWING INTO TESTING\n",
    "\n",
    "\n",
    "\n",
    "q_value_tuples = [\n",
    "    ([PlayerType.NEUTRAL, PlayerType.NEUTRAL, PlayerType.OFFENSIVE],\n",
    "     [PlayerType.OFFENSIVE, PlayerType.DEFENSIVE, PlayerType.DEFENSIVE],\n",
    "    25),\n",
    "    ([PlayerType.NEUTRAL, PlayerType.NEUTRAL, PlayerType.OFFENSIVE],\n",
    "     [PlayerType.NEUTRAL, PlayerType.NEUTRAL, PlayerType.NEUTRAL],\n",
    "    12),\n",
    "    ([PlayerType.NEUTRAL, PlayerType.NEUTRAL, PlayerType.NEUTRAL],\n",
    "     [PlayerType.OFFENSIVE, PlayerType.DEFENSIVE, PlayerType.DEFENSIVE],\n",
    "    20),\n",
    "    ([PlayerType.NEUTRAL, PlayerType.NEUTRAL, PlayerType.NEUTRAL],\n",
    "     [PlayerType.NEUTRAL, PlayerType.NEUTRAL, PlayerType.NEUTRAL],\n",
    "    1),\n",
    "]\n"
   ]
  },
  {
   "cell_type": "code",
   "execution_count": null,
   "metadata": {
    "collapsed": true
   },
   "outputs": [],
   "source": [
    "home_lines_rec = line_rec.recommend_lines_maximize_average(home_team_players_ids=get_MTL_players(players_classes),\n",
    "                                away_team_lines = [\n",
    "                                    [PlayerType.OFFENSIVE, PlayerType.DEFENSIVE, PlayerType.DEFENSIVE],\n",
    "                                    [PlayerType.NEUTRAL, PlayerType.NEUTRAL, PlayerType.NEUTRAL],\n",
    "                                    [PlayerType.NEUTRAL, PlayerType.NEUTRAL, PlayerType.NEUTRAL],\n",
    "                                    [PlayerType.NEUTRAL, PlayerType.NEUTRAL, PlayerType.NEUTRAL],\n",
    "                                ])\n",
    "print(home_lines_rec)\n"
   ]
  }
 ],
 "metadata": {
  "kernelspec": {
   "display_name": "Python 3",
   "language": "python",
   "name": "python3"
  },
  "language_info": {
   "codemirror_mode": {
    "name": "ipython",
    "version": 3
   },
   "file_extension": ".py",
   "mimetype": "text/x-python",
   "name": "python",
   "nbconvert_exporter": "python",
   "pygments_lexer": "ipython3",
   "version": "3.6.0"
  }
 },
 "nbformat": 4,
 "nbformat_minor": 2
}

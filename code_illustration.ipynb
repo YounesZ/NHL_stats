{
 "cells": [
  {
   "cell_type": "markdown",
   "metadata": {
    "scrolled": true
   },
   "source": [
    "# Retrieve player statistics \n",
    "and convert them into player profiles (offensive, defensive, neutral). It also shows how to retrieve game info, such as players list etc.\n"
   ]
  },
  {
   "cell_type": "code",
   "execution_count": 1,
   "metadata": {
    "collapsed": true
   },
   "outputs": [],
   "source": [
    "from ReinforcementLearning.NHL.playerstats.nhl_player_stats import *\n",
    "from ReinforcementLearning.NHL.playbyplay.game import *"
   ]
  },
  {
   "cell_type": "code",
   "execution_count": 2,
   "metadata": {
    "collapsed": true
   },
   "outputs": [],
   "source": [
    "# Pointers to the data\n",
    "# repoCode    =   '/Users/younes_zerouali/Documents/Stradigi/Code/NHL_stats_SL'\n",
    "repoCode    =   '/Users/luisd/dev/NHL_stats'\n",
    "#db_root     =   '/home/younesz/Documents/Hockey'        #This is the location of the Hockey database\n",
    "# db_root     =   '/Users/younes_zerouali/Documents/Stradigi/Databases/Hockey'\n",
    "db_root     =   '/Users/luisd/dev/NHL_stats/data'\n",
    "repoPbP     =   path.join(db_root, 'PlayByPlay')\n",
    "repoPSt     =   path.join(db_root, 'PlayerStats/player')\n",
    "repoModel   =   path.join(repoCode, 'ReinforcementLearning/NHL/playerstats/offVSdef/Automatic_classification/MODEL_backup_trainedonallseasons_rankstatprediction')\n",
    "repoModel   =   path.join(repoCode, 'ReinforcementLearning/NHL/playerstats/offVSdef/Automatic_classification/MODEL_perceptron_1layer_10units_relu')\n",
    "repoSave    =   None #path.join(repoCode, 'ReinforcementLearning/NHL/playbyplay/data')"
   ]
  },
  {
   "cell_type": "code",
   "execution_count": 3,
   "metadata": {
    "collapsed": false
   },
   "outputs": [
    {
     "data": {
      "text/plain": [
       "'/Users/luisd/dev/NHL_stats/data/PlayByPlay'"
      ]
     },
     "execution_count": 3,
     "metadata": {},
     "output_type": "execute_result"
    }
   ],
   "source": [
    "repoPbP"
   ]
  },
  {
   "cell_type": "code",
   "execution_count": 4,
   "metadata": {
    "collapsed": false
   },
   "outputs": [
    {
     "data": {
      "text/plain": [
       "'/Users/luisd/dev/NHL_stats/ReinforcementLearning/NHL/playerstats/offVSdef/Automatic_classification/MODEL_perceptron_1layer_10units_relu'"
      ]
     },
     "execution_count": 4,
     "metadata": {},
     "output_type": "execute_result"
    }
   ],
   "source": [
    "repoModel"
   ]
  },
  {
   "cell_type": "markdown",
   "metadata": {},
   "source": [
    "# Re-train the model if needed\n",
    "For example if you have trouble because the file of the model is not accessible, you need to re-run this cell."
   ]
  },
  {
   "cell_type": "code",
   "execution_count": 5,
   "metadata": {
    "collapsed": false
   },
   "outputs": [],
   "source": [
    "# ==== Before starting, recompute the model\n",
    "# This should avoid path issues when reloading it\n",
    "# normalizer, pca, dtCols, CLS    =   do_ANN_training(repoPSt, repoPbP, repoCode, repoModel, minGames=0.2)"
   ]
  },
  {
   "cell_type": "markdown",
   "metadata": {},
   "source": [
    "# Definitions of Functions"
   ]
  },
  {
   "cell_type": "markdown",
   "metadata": {},
   "source": [
    "## Get game id's by team and date"
   ]
  },
  {
   "cell_type": "code",
   "execution_count": 6,
   "metadata": {
    "collapsed": false
   },
   "outputs": [],
   "source": [
    "def get_game_id(home_team_abbr, date_as_str):\n",
    "    \"\"\"\n",
    "    let's convert game date to game code.\n",
    "    For example Montreal received Ottawa on march 13, 2013 =>\n",
    "        gameId = get_game_id(home_team_abbr='MTL', date_as_str='2013-03-13')\n",
    "    \"\"\"\n",
    "    try:\n",
    "        gameInfo    =   pickle.load( open(path.join(db_root, 'gamesInfo.p'), 'rb') )\n",
    "        gameInfo    =   gameInfo[gameInfo['gameDate']==date_as_str][gameInfo['teamAbbrev']==home_team_abbr]\n",
    "        gameId      =   gameInfo['gameId']\n",
    "        gameId      =   int( gameId.values.astype('str')[0][5:] )\n",
    "        return gameId\n",
    "    except Exception as e:\n",
    "        raise IndexError(\"There was no game for '%s' on '%s'\" % (home_team_abbr, date_as_str))"
   ]
  },
  {
   "cell_type": "markdown",
   "metadata": {},
   "source": [
    "## Get players data (classes)"
   ]
  },
  {
   "cell_type": "code",
   "execution_count": 7,
   "metadata": {
    "collapsed": false
   },
   "outputs": [],
   "source": [
    "# ==== Second the players data\n",
    "\n",
    "def get_players_classes(repoModel, data_for_game, number_of_games):\n",
    "    \"\"\"\n",
    "    Calculates (dataframe with) all player's classes.\n",
    "    Updates the 'data for game' structure with it; also returns it.\n",
    "    Usage:\n",
    "        repoModel = ... # here goes the directory where your model is saved.\n",
    "        # Montreal received Ottawa on march 13, 2013\n",
    "        gameId = get_game_id(home_team_abbr='MTL', date_as_str='2013-03-13')\n",
    "        season      =   '20122013'\n",
    "        mtlott      =   Game(repoPbP, repoPSt, season, gameId=gameId )\n",
    "        #\n",
    "        players_classes = get_players_classes(repoModel, mtlott, number_of_games=30)\n",
    "        # this is equivalent to ask 'mtlott' for the data; so:\n",
    "        assert players_classes.equals(mtlott.player_classes)\n",
    "    \"\"\"\n",
    "    # Need to load the data pre-processing variables\n",
    "    preprocessing  =   pickle.load(open(path.join(repoModel, 'baseVariables.p'), 'rb'))\n",
    "\n",
    "    # Need to load the classification model (for players' predicted ranking on trophies voting lists)\n",
    "    classifier          =   {'sess':tf.Session(), 'annX':[], 'annY':[]}\n",
    "    saver               =   tf.train.import_meta_graph(path.join(repoModel, path.basename(repoModel) + '.meta'))\n",
    "    graph               =   classifier['sess'].graph\n",
    "    classifier['annX']  =   graph.get_tensor_by_name('Input_to_the_network-player_features:0')\n",
    "    classifier['annY']  =   graph.get_tensor_by_name('prediction:0')\n",
    "    saver.restore(classifier['sess'], tf.train.latest_checkpoint(path.join(repoModel, './')))\n",
    "\n",
    "    # Pick players stats - last 'n' games \n",
    "    data_for_game.pull_line_shifts(team='both', minduration=20)\n",
    "    data_for_game.pick_regulartime()\n",
    "    data_for_game.pick_equalstrength()\n",
    "    data_for_game.pull_players_classes(preprocessing, classifier, nGames=number_of_games)\n",
    "    return data_for_game.player_classes"
   ]
  },
  {
   "cell_type": "markdown",
   "metadata": {},
   "source": [
    "# Let's run analysis for MTL-OTT on March 13, 2013"
   ]
  },
  {
   "cell_type": "code",
   "execution_count": 8,
   "metadata": {
    "collapsed": false
   },
   "outputs": [
    {
     "name": "stderr",
     "output_type": "stream",
     "text": [
      "/Users/luisd/sw/anaconda3/lib/python3.6/site-packages/ipykernel/__main__.py:9: UserWarning: Boolean Series key will be reindexed to match DataFrame index.\n"
     ]
    }
   ],
   "source": [
    "# ==== First the game data\n",
    "\n",
    "# Montreal received Ottawa on march 13, 2013, let's convert game date to game code\n",
    "gameId = get_game_id(home_team_abbr='MTL', date_as_str='2013-03-13')\n",
    "\n",
    "# Now lets get game data \n",
    "season      =   '20122013'\n",
    "mtlott      =   Game(repoPbP, repoPSt, season, gameId=gameId )"
   ]
  },
  {
   "cell_type": "code",
   "execution_count": 9,
   "metadata": {
    "collapsed": false
   },
   "outputs": [
    {
     "name": "stderr",
     "output_type": "stream",
     "text": [
      "/Users/luisd/sw/anaconda3/lib/python3.6/site-packages/sklearn/base.py:315: UserWarning: Trying to unpickle estimator PCA from version 0.19.1 when using version 0.18.1. This might lead to breaking code or invalid results. Use at your own risk.\n",
      "  UserWarning)\n"
     ]
    },
    {
     "data": {
      "text/html": [
       "<div>\n",
       "<style>\n",
       "    .dataframe thead tr:only-child th {\n",
       "        text-align: right;\n",
       "    }\n",
       "\n",
       "    .dataframe thead th {\n",
       "        text-align: left;\n",
       "    }\n",
       "\n",
       "    .dataframe tbody tr th {\n",
       "        vertical-align: top;\n",
       "    }\n",
       "</style>\n",
       "<table border=\"1\" class=\"dataframe\">\n",
       "  <thead>\n",
       "    <tr style=\"text-align: right;\">\n",
       "      <th></th>\n",
       "      <th>class</th>\n",
       "      <th>firstlast</th>\n",
       "      <th>pred_ross</th>\n",
       "      <th>pred_selke</th>\n",
       "    </tr>\n",
       "  </thead>\n",
       "  <tbody>\n",
       "    <tr>\n",
       "      <th>8</th>\n",
       "      <td>0</td>\n",
       "      <td>DAVID DESHARNAIS</td>\n",
       "      <td>0.065531</td>\n",
       "      <td>0.398755</td>\n",
       "    </tr>\n",
       "    <tr>\n",
       "      <th>9</th>\n",
       "      <td>0</td>\n",
       "      <td>LARS ELLER</td>\n",
       "      <td>0.071325</td>\n",
       "      <td>0.467515</td>\n",
       "    </tr>\n",
       "    <tr>\n",
       "      <th>13</th>\n",
       "      <td>2</td>\n",
       "      <td>ALEX GALCHENYUK</td>\n",
       "      <td>0.191740</td>\n",
       "      <td>0.248879</td>\n",
       "    </tr>\n",
       "    <tr>\n",
       "      <th>14</th>\n",
       "      <td>1</td>\n",
       "      <td>BRENDAN GALLAGHER</td>\n",
       "      <td>0.436872</td>\n",
       "      <td>0.202157</td>\n",
       "    </tr>\n",
       "    <tr>\n",
       "      <th>27</th>\n",
       "      <td>1</td>\n",
       "      <td>MAX PACIORETTY</td>\n",
       "      <td>0.380084</td>\n",
       "      <td>0.353909</td>\n",
       "    </tr>\n",
       "    <tr>\n",
       "      <th>31</th>\n",
       "      <td>1</td>\n",
       "      <td>TOMAS PLEKANEC</td>\n",
       "      <td>0.338640</td>\n",
       "      <td>0.383409</td>\n",
       "    </tr>\n",
       "    <tr>\n",
       "      <th>228</th>\n",
       "      <td>2</td>\n",
       "      <td>CHRIS NEIL</td>\n",
       "      <td>0.121128</td>\n",
       "      <td>0.318634</td>\n",
       "    </tr>\n",
       "    <tr>\n",
       "      <th>236</th>\n",
       "      <td>0</td>\n",
       "      <td>ZACK SMITH</td>\n",
       "      <td>0.003851</td>\n",
       "      <td>0.450651</td>\n",
       "    </tr>\n",
       "    <tr>\n",
       "      <th>237</th>\n",
       "      <td>2</td>\n",
       "      <td>MARK STONE</td>\n",
       "      <td>0.057223</td>\n",
       "      <td>0.328079</td>\n",
       "    </tr>\n",
       "    <tr>\n",
       "      <th>238</th>\n",
       "      <td>2</td>\n",
       "      <td>KYLE TURRIS</td>\n",
       "      <td>0.186008</td>\n",
       "      <td>0.412824</td>\n",
       "    </tr>\n",
       "    <tr>\n",
       "      <th>241</th>\n",
       "      <td>0</td>\n",
       "      <td>MIKA ZIBANEJAD</td>\n",
       "      <td>0.027763</td>\n",
       "      <td>0.419736</td>\n",
       "    </tr>\n",
       "    <tr>\n",
       "      <th>249</th>\n",
       "      <td>2</td>\n",
       "      <td>ERIK CONDRA</td>\n",
       "      <td>0.181039</td>\n",
       "      <td>0.369567</td>\n",
       "    </tr>\n",
       "    <tr>\n",
       "      <th>281</th>\n",
       "      <td>0</td>\n",
       "      <td>RYAN WHITE</td>\n",
       "      <td>-0.072764</td>\n",
       "      <td>0.453313</td>\n",
       "    </tr>\n",
       "    <tr>\n",
       "      <th>389</th>\n",
       "      <td>0</td>\n",
       "      <td>TRAVIS MOEN</td>\n",
       "      <td>-0.061319</td>\n",
       "      <td>0.408443</td>\n",
       "    </tr>\n",
       "    <tr>\n",
       "      <th>621</th>\n",
       "      <td>2</td>\n",
       "      <td>JAKOB SILFVERBERG</td>\n",
       "      <td>0.133286</td>\n",
       "      <td>0.323530</td>\n",
       "    </tr>\n",
       "    <tr>\n",
       "      <th>656</th>\n",
       "      <td>1</td>\n",
       "      <td>BRIAN GIONTA</td>\n",
       "      <td>0.290639</td>\n",
       "      <td>0.284820</td>\n",
       "    </tr>\n",
       "    <tr>\n",
       "      <th>813</th>\n",
       "      <td>0</td>\n",
       "      <td>COLIN GREENING</td>\n",
       "      <td>0.087838</td>\n",
       "      <td>0.367243</td>\n",
       "    </tr>\n",
       "    <tr>\n",
       "      <th>871</th>\n",
       "      <td>0</td>\n",
       "      <td>JIM O'BRIEN</td>\n",
       "      <td>0.152320</td>\n",
       "      <td>0.396720</td>\n",
       "    </tr>\n",
       "    <tr>\n",
       "      <th>1035</th>\n",
       "      <td>2</td>\n",
       "      <td>MICHAEL RYDER</td>\n",
       "      <td>0.193731</td>\n",
       "      <td>0.291521</td>\n",
       "    </tr>\n",
       "    <tr>\n",
       "      <th>1164</th>\n",
       "      <td>0</td>\n",
       "      <td>GABRIEL DUMONT</td>\n",
       "      <td>-0.010073</td>\n",
       "      <td>0.392490</td>\n",
       "    </tr>\n",
       "    <tr>\n",
       "      <th>1219</th>\n",
       "      <td>2</td>\n",
       "      <td>DANIEL ALFREDSSON</td>\n",
       "      <td>0.258252</td>\n",
       "      <td>0.311741</td>\n",
       "    </tr>\n",
       "    <tr>\n",
       "      <th>1374</th>\n",
       "      <td>2</td>\n",
       "      <td>GUILLAUME LATENDRESSE</td>\n",
       "      <td>0.202097</td>\n",
       "      <td>0.229457</td>\n",
       "    </tr>\n",
       "    <tr>\n",
       "      <th>1380</th>\n",
       "      <td>2</td>\n",
       "      <td>COLBY ARMSTRONG</td>\n",
       "      <td>0.066126</td>\n",
       "      <td>0.315941</td>\n",
       "    </tr>\n",
       "    <tr>\n",
       "      <th>1438</th>\n",
       "      <td>2</td>\n",
       "      <td>KASPARS DAUGAVINS</td>\n",
       "      <td>0.088776</td>\n",
       "      <td>0.320335</td>\n",
       "    </tr>\n",
       "  </tbody>\n",
       "</table>\n",
       "</div>"
      ],
      "text/plain": [
       "      class              firstlast  pred_ross  pred_selke\n",
       "8         0       DAVID DESHARNAIS   0.065531    0.398755\n",
       "9         0             LARS ELLER   0.071325    0.467515\n",
       "13        2        ALEX GALCHENYUK   0.191740    0.248879\n",
       "14        1      BRENDAN GALLAGHER   0.436872    0.202157\n",
       "27        1         MAX PACIORETTY   0.380084    0.353909\n",
       "31        1         TOMAS PLEKANEC   0.338640    0.383409\n",
       "228       2             CHRIS NEIL   0.121128    0.318634\n",
       "236       0             ZACK SMITH   0.003851    0.450651\n",
       "237       2             MARK STONE   0.057223    0.328079\n",
       "238       2            KYLE TURRIS   0.186008    0.412824\n",
       "241       0         MIKA ZIBANEJAD   0.027763    0.419736\n",
       "249       2            ERIK CONDRA   0.181039    0.369567\n",
       "281       0             RYAN WHITE  -0.072764    0.453313\n",
       "389       0            TRAVIS MOEN  -0.061319    0.408443\n",
       "621       2      JAKOB SILFVERBERG   0.133286    0.323530\n",
       "656       1           BRIAN GIONTA   0.290639    0.284820\n",
       "813       0         COLIN GREENING   0.087838    0.367243\n",
       "871       0            JIM O'BRIEN   0.152320    0.396720\n",
       "1035      2          MICHAEL RYDER   0.193731    0.291521\n",
       "1164      0         GABRIEL DUMONT  -0.010073    0.392490\n",
       "1219      2      DANIEL ALFREDSSON   0.258252    0.311741\n",
       "1374      2  GUILLAUME LATENDRESSE   0.202097    0.229457\n",
       "1380      2        COLBY ARMSTRONG   0.066126    0.315941\n",
       "1438      2      KASPARS DAUGAVINS   0.088776    0.320335"
      ]
     },
     "execution_count": 9,
     "metadata": {},
     "output_type": "execute_result"
    }
   ],
   "source": [
    "# ==== Second the players data\n",
    "\n",
    "# Visualize all player's classes: 0=def, 1=off, 2=neutral\n",
    "players_classes = get_players_classes(repoModel, data_for_game=mtlott, number_of_games=30)\n",
    "assert players_classes.equals(mtlott.player_classes)\n",
    "mtlott.player_classes\n"
   ]
  },
  {
   "cell_type": "code",
   "execution_count": 10,
   "metadata": {
    "collapsed": true
   },
   "outputs": [],
   "source": [
    "# === Now we get the indices in the Q-values tables corresponding to lines\n",
    "\n",
    "# Line translation table\n",
    "linedict  = HockeySS(repoPbP, repoPSt)\n",
    "linedict.make_line_dictionary()\n",
    "linedict  = linedict.line_dictionary\n",
    "\n",
    "# Get lines and translate them \n",
    "playersCode  =   mtlott.encode_line_players()\n",
    "linesCode    =   np.array( [[mtlott.recode_line(linedict, a) for a in b] for b in playersCode] )\n"
   ]
  },
  {
   "cell_type": "code",
   "execution_count": 16,
   "metadata": {
    "collapsed": false
   },
   "outputs": [
    {
     "data": {
      "text/plain": [
       "array([[ 2,  5],\n",
       "       [ 4,  4],\n",
       "       [ 8,  5],\n",
       "       [ 2,  5],\n",
       "       [ 4,  5],\n",
       "       [ 4,  5],\n",
       "       [ 8,  5],\n",
       "       [ 8,  5],\n",
       "       [ 2,  5],\n",
       "       [ 4,  6],\n",
       "       [ 8,  5],\n",
       "       [ 4,  5],\n",
       "       [-1,  6],\n",
       "       [ 8,  5],\n",
       "       [ 4,  5],\n",
       "       [ 7,  5],\n",
       "       [ 2,  5],\n",
       "       [ 4,  5],\n",
       "       [ 8,  5],\n",
       "       [ 7,  4],\n",
       "       [ 2,  5],\n",
       "       [ 4,  5],\n",
       "       [ 8,  5],\n",
       "       [ 4,  5],\n",
       "       [ 2,  5],\n",
       "       [ 4,  5],\n",
       "       [ 8,  5],\n",
       "       [ 8,  5],\n",
       "       [ 2,  5],\n",
       "       [ 4,  5],\n",
       "       [ 8,  5],\n",
       "       [ 2,  5],\n",
       "       [ 4,  5],\n",
       "       [ 4,  5],\n",
       "       [ 8,  5],\n",
       "       [ 2, -1],\n",
       "       [ 8,  5],\n",
       "       [ 2,  5],\n",
       "       [ 4,  5],\n",
       "       [ 2,  5],\n",
       "       [ 2,  5],\n",
       "       [ 2,  5],\n",
       "       [-1,  6],\n",
       "       [ 2, -1],\n",
       "       [ 4,  5],\n",
       "       [-1,  6],\n",
       "       [ 7,  4],\n",
       "       [ 2,  5],\n",
       "       [ 8,  6],\n",
       "       [ 2,  4],\n",
       "       [ 4,  5],\n",
       "       [ 4,  5],\n",
       "       [ 8,  6],\n",
       "       [ 2,  5],\n",
       "       [ 5,  4],\n",
       "       [ 8,  5],\n",
       "       [ 2,  6]])"
      ]
     },
     "execution_count": 16,
     "metadata": {},
     "output_type": "execute_result"
    }
   ],
   "source": [
    "# Visualize the line codes for each shift (first digit is the code of the away team's line - state-space, \n",
    "# second digit is the code of the home team's line - action space)\n",
    "linesCode"
   ]
  },
  {
   "cell_type": "code",
   "execution_count": 18,
   "metadata": {
    "collapsed": false
   },
   "outputs": [
    {
     "name": "stdout",
     "output_type": "stream",
     "text": [
      "Q-table dimensions:  (3, 5, 10, 10)\n",
      "[diff = 2, period = 0] First shift: \n",
      "\thome team: DAVID DESHARNAIS, BRENDAN GALLAGHER, MAX PACIORETTY \n",
      "\taway team: KYLE TURRIS, JAKOB SILFVERBERG, COLIN GREENING \n",
      "\tQvalue: 2.77\n"
     ]
    }
   ],
   "source": [
    "# ==== Now we want to evaluate the value of the first shift for the (home team)\n",
    "\n",
    "# Load the Qvalues table\n",
    "Qvalues = pickle.load( open(path.join(repoCode, 'ReinforcementLearning/NHL/playbyplay/data/stable/RL_action_values.p'), 'rb') )['action_values']\n",
    "\n",
    "# Visualize it dimensions (period x differential x away line's code x home line's code)\n",
    "print('Q-table dimensions: ', Qvalues.shape)\n",
    "\n",
    "# Get the Q-value for that specific line\n",
    "iShift = 0 # First shift\n",
    "plList = list(mtlott.player_classes.loc[mtlott.lineShifts['playersID'].iloc[iShift][0]]['firstlast'].values) + list(mtlott.player_classes.loc[mtlott.lineShifts['playersID'].iloc[iShift][1]]['firstlast'].values)\n",
    "diff   = mtlott.recode_differential( mtlott.lineShifts.iloc[iShift].differential )\n",
    "period = mtlott.recode_period( mtlott.lineShifts.iloc[iShift].period )\n",
    "q_values = Qvalues[period,diff,linesCode[iShift,0], linesCode[iShift,1]]\n",
    "print('[diff = %d, period = %d] First shift: \\n\\thome team: %s, %s, %s \\n\\taway team: %s, %s, %s \\n\\tQvalue: %.2f' %(diff, period, plList[0], plList[1], plList[2], plList[3], plList[4], plList[5], q_values) )\n",
    "                                                                          \n"
   ]
  },
  {
   "cell_type": "code",
   "execution_count": null,
   "metadata": {
    "collapsed": true
   },
   "outputs": [],
   "source": []
  },
  {
   "cell_type": "code",
   "execution_count": null,
   "metadata": {
    "collapsed": true
   },
   "outputs": [],
   "source": []
  }
 ],
 "metadata": {
  "kernelspec": {
   "display_name": "Python 3",
   "language": "python",
   "name": "python3"
  },
  "language_info": {
   "codemirror_mode": {
    "name": "ipython",
    "version": 3
   },
   "file_extension": ".py",
   "mimetype": "text/x-python",
   "name": "python",
   "nbconvert_exporter": "python",
   "pygments_lexer": "ipython3",
   "version": "3.6.0"
  }
 },
 "nbformat": 4,
 "nbformat_minor": 2
}

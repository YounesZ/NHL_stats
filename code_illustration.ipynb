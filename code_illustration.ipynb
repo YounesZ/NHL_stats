{
 "cells": [
  {
   "cell_type": "code",
   "execution_count": 1,
   "metadata": {
    "scrolled": true
   },
   "outputs": [
    {
     "data": {
      "text/plain": [
       "' \\nThis notebook illustrates how to retrieve player statistics and convert them into player profiles \\n(offensive, defensive, neutral). It also shows how to retrieve game info, such as players list etc.\\n'"
      ]
     },
     "execution_count": 1,
     "metadata": {},
     "output_type": "execute_result"
    }
   ],
   "source": [
    "\"\"\" \n",
    "This notebook illustrates how to retrieve player statistics and convert them into player profiles \n",
    "(offensive, defensive, neutral). It also shows how to retrieve game info, such as players list etc.\n",
    "\"\"\"\n"
   ]
  },
  {
   "cell_type": "code",
   "execution_count": 2,
   "metadata": {},
   "outputs": [],
   "source": [
    "from ReinforcementLearning.NHL.playerstats.nhl_player_stats import *\n",
    "from ReinforcementLearning.NHL.playbyplay.game import *"
   ]
  },
  {
   "cell_type": "code",
   "execution_count": 3,
   "metadata": {},
   "outputs": [],
   "source": [
    "# Pointers to the data\n",
    "#repoCode    =   '/home/younesz/Documents/Code/Python'\n",
    "repoCode    =   '/Users/younes_zerouali/Documents/Stradigi/Code/NHL_stats_SL'\n",
    "#db_root     =   '/home/younesz/Documents/Hockey'        #This is the location of the Hockey database\n",
    "db_root     =   '/Users/younes_zerouali/Documents/Stradigi/Databases/Hockey'\n",
    "repoPbP     =   path.join(db_root, 'PlayByPlay')\n",
    "repoPSt     =   path.join(db_root, 'PlayerStats/player')\n",
    "repoModel   =   path.join(repoCode, 'ReinforcementLearning/NHL/playerstats/offVSdef/Automatic_classification/MODEL_backup_trainedonallseasons_rankstatprediction')\n",
    "repoModel   =   path.join(repoCode, 'ReinforcementLearning/NHL/playerstats/offVSdef/Automatic_classification/MODEL_perceptron_1layer_10units_relu')\n",
    "repoSave    =   None #path.join(repoCode, 'ReinforcementLearning/NHL/playbyplay/data')"
   ]
  },
  {
   "cell_type": "code",
   "execution_count": 4,
   "metadata": {},
   "outputs": [
    {
     "data": {
      "text/plain": [
       "'/Users/younes_zerouali/Documents/Stradigi/Databases/Hockey/PlayByPlay'"
      ]
     },
     "execution_count": 4,
     "metadata": {},
     "output_type": "execute_result"
    }
   ],
   "source": [
    "repoPbP"
   ]
  },
  {
   "cell_type": "code",
   "execution_count": null,
   "metadata": {},
   "outputs": [
    {
     "name": "stdout",
     "output_type": "stream",
     "text": [
      "Player 3000/3058 - ANDY BERENZWEIG: [======================================= ] 98%, completedd"
     ]
    },
    {
     "name": "stderr",
     "output_type": "stream",
     "text": [
      "/Users/younes_zerouali/Documents/Stradigi/Code/NHL_stats_SL/ReinforcementLearning/NHL/playerstats/nhl_player_stats.py:391: FutureWarning: \n",
      "Passing list-likes to .loc or [] with any missing label will raise\n",
      "KeyError in the future, you can use .reindex() as an alternative.\n",
      "\n",
      "See the documentation here:\n",
      "http://pandas.pydata.org/pandas-docs/stable/indexing.html#deprecate-loc-reindex-listlike\n",
      "  tempX   =   sea_stats.loc[tempY.index, dtCols]\n"
     ]
    },
    {
     "name": "stdout",
     "output_type": "stream",
     "text": [
      "Player 3000/3058 - ANDY BERENZWEIG: [======================================= ] 98%, completedd"
     ]
    }
   ],
   "source": [
    "# ==== Before starting, recompute the model\n",
    "# This should avoid path issues when reloading it\n",
    "normalizer, pca, dtCols, CLS    =   do_ANN_training(repoPSt, repoPbP, repoCode, repoModel, minGames=0.2)"
   ]
  },
  {
   "cell_type": "code",
   "execution_count": 5,
   "metadata": {},
   "outputs": [
    {
     "name": "stderr",
     "output_type": "stream",
     "text": [
      "/Users/younes_zerouali/anaconda3/envs/tensorflow/lib/python3.6/site-packages/ipykernel_launcher.py:5: UserWarning: Boolean Series key will be reindexed to match DataFrame index.\n",
      "  \"\"\"\n"
     ]
    }
   ],
   "source": [
    "# ==== First the game data\n",
    "\n",
    "# Montreal received Ottawa on march 13, 2013, let's convert game date to game code\n",
    "gameInfo    =   pickle.load( open(path.join(db_root, 'gamesInfo.p'), 'rb') )\n",
    "gameInfo    =   gameInfo[gameInfo['gameDate']=='2013-03-13'][gameInfo['teamAbbrev']=='MTL']\n",
    "gameId      =   gameInfo['gameId']\n",
    "gameId      =   int( gameId.values.astype('str')[0][5:] )\n",
    "\n",
    "# Now lets get game data \n",
    "season      =   '20122013'\n",
    "mtlott      =   Game(repoPbP, repoPSt, season, gameId=gameId )"
   ]
  },
  {
   "cell_type": "code",
   "execution_count": 6,
   "metadata": {},
   "outputs": [
    {
     "data": {
      "text/plain": [
       "'/Users/younes_zerouali/Documents/Stradigi/Code/NHL_stats_SL/ReinforcementLearning/NHL/playerstats/offVSdef/Automatic_classification/MODEL_perceptron_1layer_10units_relu'"
      ]
     },
     "execution_count": 6,
     "metadata": {},
     "output_type": "execute_result"
    }
   ],
   "source": [
    "repoModel"
   ]
  },
  {
   "cell_type": "code",
   "execution_count": 7,
   "metadata": {},
   "outputs": [
    {
     "ename": "NotFoundError",
     "evalue": "/home/younesz/Documents/Code/Python/ReinforcementLearning/NHL/playerstats/offVSdef/Automatic_classification/MODEL_perceptron_1layer_10units_relu",
     "output_type": "error",
     "traceback": [
      "\u001b[0;31m---------------------------------------------------------------------------\u001b[0m",
      "\u001b[0;31mNotFoundError\u001b[0m                             Traceback (most recent call last)",
      "\u001b[0;32m<ipython-input-7-99f9404f51c4>\u001b[0m in \u001b[0;36m<module>\u001b[0;34m()\u001b[0m\n\u001b[1;32m     10\u001b[0m \u001b[0mclassifier\u001b[0m\u001b[0;34m[\u001b[0m\u001b[0;34m'annX'\u001b[0m\u001b[0;34m]\u001b[0m  \u001b[0;34m=\u001b[0m   \u001b[0mgraph\u001b[0m\u001b[0;34m.\u001b[0m\u001b[0mget_tensor_by_name\u001b[0m\u001b[0;34m(\u001b[0m\u001b[0;34m'Input_to_the_network-player_features:0'\u001b[0m\u001b[0;34m)\u001b[0m\u001b[0;34m\u001b[0m\u001b[0m\n\u001b[1;32m     11\u001b[0m \u001b[0mclassifier\u001b[0m\u001b[0;34m[\u001b[0m\u001b[0;34m'annY'\u001b[0m\u001b[0;34m]\u001b[0m  \u001b[0;34m=\u001b[0m   \u001b[0mgraph\u001b[0m\u001b[0;34m.\u001b[0m\u001b[0mget_tensor_by_name\u001b[0m\u001b[0;34m(\u001b[0m\u001b[0;34m'prediction:0'\u001b[0m\u001b[0;34m)\u001b[0m\u001b[0;34m\u001b[0m\u001b[0m\n\u001b[0;32m---> 12\u001b[0;31m \u001b[0msaver\u001b[0m\u001b[0;34m.\u001b[0m\u001b[0mrestore\u001b[0m\u001b[0;34m(\u001b[0m\u001b[0mclassifier\u001b[0m\u001b[0;34m[\u001b[0m\u001b[0;34m'sess'\u001b[0m\u001b[0;34m]\u001b[0m\u001b[0;34m,\u001b[0m \u001b[0mtf\u001b[0m\u001b[0;34m.\u001b[0m\u001b[0mtrain\u001b[0m\u001b[0;34m.\u001b[0m\u001b[0mlatest_checkpoint\u001b[0m\u001b[0;34m(\u001b[0m\u001b[0mpath\u001b[0m\u001b[0;34m.\u001b[0m\u001b[0mjoin\u001b[0m\u001b[0;34m(\u001b[0m\u001b[0mrepoModel\u001b[0m\u001b[0;34m,\u001b[0m \u001b[0;34m'./'\u001b[0m\u001b[0;34m)\u001b[0m\u001b[0;34m)\u001b[0m\u001b[0;34m)\u001b[0m\u001b[0;34m\u001b[0m\u001b[0m\n\u001b[0m\u001b[1;32m     13\u001b[0m \u001b[0;34m\u001b[0m\u001b[0m\n\u001b[1;32m     14\u001b[0m \u001b[0;31m# Pick players stats - last 30 games\u001b[0m\u001b[0;34m\u001b[0m\u001b[0;34m\u001b[0m\u001b[0m\n",
      "\u001b[0;32m~/anaconda3/envs/tensorflow/lib/python3.6/site-packages/tensorflow/python/training/saver.py\u001b[0m in \u001b[0;36mlatest_checkpoint\u001b[0;34m(checkpoint_dir, latest_filename)\u001b[0m\n\u001b[1;32m   1612\u001b[0m     v1_path = _prefix_to_checkpoint_path(ckpt.model_checkpoint_path,\n\u001b[1;32m   1613\u001b[0m                                          saver_pb2.SaverDef.V1)\n\u001b[0;32m-> 1614\u001b[0;31m     if file_io.get_matching_files(v2_path) or file_io.get_matching_files(\n\u001b[0m\u001b[1;32m   1615\u001b[0m         v1_path):\n\u001b[1;32m   1616\u001b[0m       \u001b[0;32mreturn\u001b[0m \u001b[0mckpt\u001b[0m\u001b[0;34m.\u001b[0m\u001b[0mmodel_checkpoint_path\u001b[0m\u001b[0;34m\u001b[0m\u001b[0m\n",
      "\u001b[0;32m~/anaconda3/envs/tensorflow/lib/python3.6/site-packages/tensorflow/python/lib/io/file_io.py\u001b[0m in \u001b[0;36mget_matching_files\u001b[0;34m(filename)\u001b[0m\n\u001b[1;32m    330\u001b[0m           \u001b[0;31m# Convert the filenames to string from bytes.\u001b[0m\u001b[0;34m\u001b[0m\u001b[0;34m\u001b[0m\u001b[0m\n\u001b[1;32m    331\u001b[0m           \u001b[0mcompat\u001b[0m\u001b[0;34m.\u001b[0m\u001b[0mas_str_any\u001b[0m\u001b[0;34m(\u001b[0m\u001b[0mmatching_filename\u001b[0m\u001b[0;34m)\u001b[0m\u001b[0;34m\u001b[0m\u001b[0m\n\u001b[0;32m--> 332\u001b[0;31m           \u001b[0;32mfor\u001b[0m \u001b[0msingle_filename\u001b[0m \u001b[0;32min\u001b[0m \u001b[0mfilename\u001b[0m\u001b[0;34m\u001b[0m\u001b[0m\n\u001b[0m\u001b[1;32m    333\u001b[0m           for matching_filename in pywrap_tensorflow.GetMatchingFiles(\n\u001b[1;32m    334\u001b[0m               compat.as_bytes(single_filename), status)\n",
      "\u001b[0;32m~/anaconda3/envs/tensorflow/lib/python3.6/contextlib.py\u001b[0m in \u001b[0;36m__exit__\u001b[0;34m(self, type, value, traceback)\u001b[0m\n\u001b[1;32m     86\u001b[0m         \u001b[0;32mif\u001b[0m \u001b[0mtype\u001b[0m \u001b[0;32mis\u001b[0m \u001b[0;32mNone\u001b[0m\u001b[0;34m:\u001b[0m\u001b[0;34m\u001b[0m\u001b[0m\n\u001b[1;32m     87\u001b[0m             \u001b[0;32mtry\u001b[0m\u001b[0;34m:\u001b[0m\u001b[0;34m\u001b[0m\u001b[0m\n\u001b[0;32m---> 88\u001b[0;31m                 \u001b[0mnext\u001b[0m\u001b[0;34m(\u001b[0m\u001b[0mself\u001b[0m\u001b[0;34m.\u001b[0m\u001b[0mgen\u001b[0m\u001b[0;34m)\u001b[0m\u001b[0;34m\u001b[0m\u001b[0m\n\u001b[0m\u001b[1;32m     89\u001b[0m             \u001b[0;32mexcept\u001b[0m \u001b[0mStopIteration\u001b[0m\u001b[0;34m:\u001b[0m\u001b[0;34m\u001b[0m\u001b[0m\n\u001b[1;32m     90\u001b[0m                 \u001b[0;32mreturn\u001b[0m \u001b[0;32mFalse\u001b[0m\u001b[0;34m\u001b[0m\u001b[0m\n",
      "\u001b[0;32m~/anaconda3/envs/tensorflow/lib/python3.6/site-packages/tensorflow/python/framework/errors_impl.py\u001b[0m in \u001b[0;36mraise_exception_on_not_ok_status\u001b[0;34m()\u001b[0m\n\u001b[1;32m    464\u001b[0m           \u001b[0;32mNone\u001b[0m\u001b[0;34m,\u001b[0m \u001b[0;32mNone\u001b[0m\u001b[0;34m,\u001b[0m\u001b[0;34m\u001b[0m\u001b[0m\n\u001b[1;32m    465\u001b[0m           \u001b[0mcompat\u001b[0m\u001b[0;34m.\u001b[0m\u001b[0mas_text\u001b[0m\u001b[0;34m(\u001b[0m\u001b[0mpywrap_tensorflow\u001b[0m\u001b[0;34m.\u001b[0m\u001b[0mTF_Message\u001b[0m\u001b[0;34m(\u001b[0m\u001b[0mstatus\u001b[0m\u001b[0;34m)\u001b[0m\u001b[0;34m)\u001b[0m\u001b[0;34m,\u001b[0m\u001b[0;34m\u001b[0m\u001b[0m\n\u001b[0;32m--> 466\u001b[0;31m           pywrap_tensorflow.TF_GetCode(status))\n\u001b[0m\u001b[1;32m    467\u001b[0m   \u001b[0;32mfinally\u001b[0m\u001b[0;34m:\u001b[0m\u001b[0;34m\u001b[0m\u001b[0m\n\u001b[1;32m    468\u001b[0m     \u001b[0mpywrap_tensorflow\u001b[0m\u001b[0;34m.\u001b[0m\u001b[0mTF_DeleteStatus\u001b[0m\u001b[0;34m(\u001b[0m\u001b[0mstatus\u001b[0m\u001b[0;34m)\u001b[0m\u001b[0;34m\u001b[0m\u001b[0m\n",
      "\u001b[0;31mNotFoundError\u001b[0m: /home/younesz/Documents/Code/Python/ReinforcementLearning/NHL/playerstats/offVSdef/Automatic_classification/MODEL_perceptron_1layer_10units_relu"
     ]
    }
   ],
   "source": [
    "# ==== Second the players data\n",
    "\n",
    "# Need to load the data pre-processing variables\n",
    "preprocessing  =   pickle.load(open(path.join(repoModel, 'baseVariables.p'), 'rb'))\n",
    "\n",
    "# Need to load the classification model (for players' predicted ranking on trophies voting lists)\n",
    "classifier          =   {'sess':tf.Session(), 'annX':[], 'annY':[]}\n",
    "saver               =   tf.train.import_meta_graph(path.join(repoModel, path.basename(repoModel) + '.meta'))\n",
    "graph               =   classifier['sess'].graph\n",
    "classifier['annX']  =   graph.get_tensor_by_name('Input_to_the_network-player_features:0')\n",
    "classifier['annY']  =   graph.get_tensor_by_name('prediction:0')\n",
    "saver.restore(classifier['sess'], tf.train.latest_checkpoint(path.join(repoModel, './')))\n",
    "\n",
    "# Pick players stats - last 30 games \n",
    "mtlott.pull_line_shifts(team='both', minduration=20)\n",
    "mtlott.pick_regulartime()\n",
    "mtlott.pick_equalstrength()\n",
    "mtlott.pull_players_classes(preprocessing, classifier, nGames=30) #Here set number of n-back games to 30\n",
    "\n"
   ]
  },
  {
   "cell_type": "code",
   "execution_count": 12,
   "metadata": {},
   "outputs": [
    {
     "ename": "AttributeError",
     "evalue": "'Game' object has no attribute 'player_classes'",
     "output_type": "error",
     "traceback": [
      "\u001b[0;31m---------------------------------------------------------------------------\u001b[0m",
      "\u001b[0;31mAttributeError\u001b[0m                            Traceback (most recent call last)",
      "\u001b[0;32m<ipython-input-12-ffc6ffb39a5a>\u001b[0m in \u001b[0;36m<module>\u001b[0;34m()\u001b[0m\n\u001b[1;32m      1\u001b[0m \u001b[0;31m# Visualize all player's classes: 0=def, 1=off, 2=neutral\u001b[0m\u001b[0;34m\u001b[0m\u001b[0;34m\u001b[0m\u001b[0m\n\u001b[0;32m----> 2\u001b[0;31m \u001b[0mmtlott\u001b[0m\u001b[0;34m.\u001b[0m\u001b[0mplayer_classes\u001b[0m\u001b[0;34m\u001b[0m\u001b[0m\n\u001b[0m",
      "\u001b[0;31mAttributeError\u001b[0m: 'Game' object has no attribute 'player_classes'"
     ]
    }
   ],
   "source": [
    "# Visualize all player's classes: 0=def, 1=off, 2=neutral\n",
    "mtlott.player_classes\n"
   ]
  },
  {
   "cell_type": "code",
   "execution_count": 13,
   "metadata": {},
   "outputs": [
    {
     "ename": "KeyError",
     "evalue": "'playersID'",
     "output_type": "error",
     "traceback": [
      "\u001b[0;31m---------------------------------------------------------------------------\u001b[0m",
      "\u001b[0;31mKeyError\u001b[0m                                  Traceback (most recent call last)",
      "\u001b[0;32m<ipython-input-13-f8b4e087c2e8>\u001b[0m in \u001b[0;36m<module>\u001b[0;34m()\u001b[0m\n\u001b[1;32m      7\u001b[0m \u001b[0;34m\u001b[0m\u001b[0m\n\u001b[1;32m      8\u001b[0m \u001b[0;31m# Get lines and translate them\u001b[0m\u001b[0;34m\u001b[0m\u001b[0;34m\u001b[0m\u001b[0m\n\u001b[0;32m----> 9\u001b[0;31m \u001b[0mplayersCode\u001b[0m  \u001b[0;34m=\u001b[0m   \u001b[0mmtlott\u001b[0m\u001b[0;34m.\u001b[0m\u001b[0mencode_line_players\u001b[0m\u001b[0;34m(\u001b[0m\u001b[0;34m)\u001b[0m\u001b[0;34m\u001b[0m\u001b[0m\n\u001b[0m\u001b[1;32m     10\u001b[0m \u001b[0mlinesCode\u001b[0m    \u001b[0;34m=\u001b[0m   \u001b[0mnp\u001b[0m\u001b[0;34m.\u001b[0m\u001b[0marray\u001b[0m\u001b[0;34m(\u001b[0m \u001b[0;34m[\u001b[0m\u001b[0;34m[\u001b[0m\u001b[0mmtlott\u001b[0m\u001b[0;34m.\u001b[0m\u001b[0mrecode_line\u001b[0m\u001b[0;34m(\u001b[0m\u001b[0mlinedict\u001b[0m\u001b[0;34m,\u001b[0m \u001b[0ma\u001b[0m\u001b[0;34m)\u001b[0m \u001b[0;32mfor\u001b[0m \u001b[0ma\u001b[0m \u001b[0;32min\u001b[0m \u001b[0mb\u001b[0m\u001b[0;34m]\u001b[0m \u001b[0;32mfor\u001b[0m \u001b[0mb\u001b[0m \u001b[0;32min\u001b[0m \u001b[0mlCode\u001b[0m\u001b[0;34m]\u001b[0m \u001b[0;34m)\u001b[0m\u001b[0;34m\u001b[0m\u001b[0m\n",
      "\u001b[0;32m~/Documents/Stradigi/Code/NHL_stats_SL/ReinforcementLearning/NHL/playbyplay/game.py\u001b[0m in \u001b[0;36mencode_line_players\u001b[0;34m(self)\u001b[0m\n\u001b[1;32m    331\u001b[0m \u001b[0;34m\u001b[0m\u001b[0m\n\u001b[1;32m    332\u001b[0m     \u001b[0;32mdef\u001b[0m \u001b[0mencode_line_players\u001b[0m\u001b[0;34m(\u001b[0m\u001b[0mself\u001b[0m\u001b[0;34m)\u001b[0m\u001b[0;34m:\u001b[0m\u001b[0;34m\u001b[0m\u001b[0m\n\u001b[0;32m--> 333\u001b[0;31m         \u001b[0mlComp\u001b[0m   \u001b[0;34m=\u001b[0m   \u001b[0mself\u001b[0m\u001b[0;34m.\u001b[0m\u001b[0mlineShifts\u001b[0m\u001b[0;34m[\u001b[0m\u001b[0;34m'playersID'\u001b[0m\u001b[0;34m]\u001b[0m\u001b[0;34m\u001b[0m\u001b[0m\n\u001b[0m\u001b[1;32m    334\u001b[0m         \u001b[0mlineCode\u001b[0m\u001b[0;34m=\u001b[0m   \u001b[0;34m[\u001b[0m\u001b[0;34m]\u001b[0m\u001b[0;34m\u001b[0m\u001b[0m\n\u001b[1;32m    335\u001b[0m         \u001b[0;32mfor\u001b[0m \u001b[0miR\u001b[0m \u001b[0;32min\u001b[0m \u001b[0mlComp\u001b[0m\u001b[0;34m.\u001b[0m\u001b[0mindex\u001b[0m\u001b[0;34m:\u001b[0m\u001b[0;34m\u001b[0m\u001b[0m\n",
      "\u001b[0;31mKeyError\u001b[0m: 'playersID'"
     ]
    }
   ],
   "source": [
    "# === Now we get the indices in the Q-values tables corresponding to lines\n",
    "\n",
    "# Line translation table\n",
    "linedict  = HockeySS(repoPbP, repoPSt)\n",
    "linedict.make_line_dictionary()\n",
    "linedict  = linedict.line_dictionary\n",
    "\n",
    "# Get lines and translate them \n",
    "playersCode  =   mtlott.encode_line_players()\n",
    "linesCode    =   np.array( [[mtlott.recode_line(linedict, a) for a in b] for b in lCode] )\n"
   ]
  },
  {
   "cell_type": "code",
   "execution_count": 22,
   "metadata": {},
   "outputs": [
    {
     "data": {
      "text/plain": [
       "array([[ 6,  6],\n",
       "       [ 6,  6],\n",
       "       [ 6,  6],\n",
       "       [ 6,  6],\n",
       "       [ 6,  6],\n",
       "       [ 6,  6],\n",
       "       [ 6,  6],\n",
       "       [ 6,  6],\n",
       "       [ 6,  6],\n",
       "       [ 6,  6],\n",
       "       [ 6,  6],\n",
       "       [ 6,  6],\n",
       "       [-1,  6],\n",
       "       [ 6,  6],\n",
       "       [ 6,  6],\n",
       "       [ 6,  6],\n",
       "       [ 6,  6],\n",
       "       [ 6,  6],\n",
       "       [ 6,  6],\n",
       "       [ 6,  6],\n",
       "       [ 6,  6],\n",
       "       [ 6,  6],\n",
       "       [ 6,  6],\n",
       "       [ 6,  6],\n",
       "       [ 6,  6],\n",
       "       [ 6,  6],\n",
       "       [ 6,  6],\n",
       "       [ 6,  6],\n",
       "       [ 6,  6],\n",
       "       [ 6,  6],\n",
       "       [ 6,  6],\n",
       "       [ 6,  6],\n",
       "       [ 6,  6],\n",
       "       [ 6,  6],\n",
       "       [ 6,  6],\n",
       "       [ 6, -1],\n",
       "       [ 6,  6],\n",
       "       [ 6,  6],\n",
       "       [ 6,  6],\n",
       "       [ 6,  6],\n",
       "       [ 6,  6],\n",
       "       [ 6,  6],\n",
       "       [-1,  6],\n",
       "       [ 6, -1],\n",
       "       [ 6,  6],\n",
       "       [-1,  6],\n",
       "       [ 6,  6],\n",
       "       [ 6,  6],\n",
       "       [ 6,  6],\n",
       "       [ 6,  6],\n",
       "       [ 6,  6],\n",
       "       [ 6,  6],\n",
       "       [ 6,  6],\n",
       "       [ 6,  6],\n",
       "       [ 6,  6],\n",
       "       [ 6,  6],\n",
       "       [ 6,  6]])"
      ]
     },
     "execution_count": 22,
     "metadata": {},
     "output_type": "execute_result"
    }
   ],
   "source": [
    "# Visualize the line codes for each shift (first digit is the code of the away team's line - state-space, \n",
    "# second digit is the code of the home team's line - action space)\n",
    "lComp"
   ]
  },
  {
   "cell_type": "code",
   "execution_count": 68,
   "metadata": {},
   "outputs": [
    {
     "name": "stdout",
     "output_type": "stream",
     "text": [
      "Q-table dimensions:  (3, 5, 10, 10)\n",
      "First shift: \n",
      "\thome team: DAVID DESHARNAIS, BRENDAN GALLAGHER, MAX PACIORETTY \n",
      "\taway team: KYLE TURRIS, JAKOB SILFVERBERG, COLIN GREENING \n",
      "\tQvalue: 3.75\n"
     ]
    }
   ],
   "source": [
    "# ==== Now we want to evaluate the value of the first shift for the (home team)\n",
    "\n",
    "# Load the Qvalues table\n",
    "Qvalues = pickle.load( open(path.join(repoCode, 'ReinforcementLearning/NHL/playbyplay/data/stable/RL_action_values.p'), 'rb') )['action_values']\n",
    "\n",
    "# Visualize it dimensions (period x differential x away line's code x home line's code)\n",
    "print('Q-table dimensions: ', Qvalues.shape)\n",
    "\n",
    "# Get the Q-value for that specific line\n",
    "iShift = 0 # First shift\n",
    "plList = list(mtlott.player_classes.loc[mtlott.lineShifts['playersID'].iloc[iShift][0]]['firstlast'].values) + list(mtlott.player_classes.loc[mtlott.lineShifts['playersID'].iloc[iShift][1]]['firstlast'].values)\n",
    "diff   = mtlott.recode_differential( mtlott.lineShifts.iloc[iShift].differential )\n",
    "period = mtlott.recode_period( mtlott.lineShifts.iloc[iShift].period )\n",
    "print('First shift: \\n\\thome team: %s, %s, %s \\n\\taway team: %s, %s, %s \\n\\tQvalue: %.2f' %(plList[0], plList[1], plList[2], plList[3], plList[4], plList[5], Qvalues[period,diff,lComp[iShift,0], lComp[iShift,1]]) )\n",
    "                                                                          \n"
   ]
  },
  {
   "cell_type": "code",
   "execution_count": null,
   "metadata": {},
   "outputs": [],
   "source": []
  }
 ],
 "metadata": {
  "kernelspec": {
   "display_name": "Python 3",
   "language": "python",
   "name": "python3"
  },
  "language_info": {
   "codemirror_mode": {
    "name": "ipython",
    "version": 3
   },
   "file_extension": ".py",
   "mimetype": "text/x-python",
   "name": "python",
   "nbconvert_exporter": "python",
   "pygments_lexer": "ipython3",
   "version": "3.6.3"
  }
 },
 "nbformat": 4,
 "nbformat_minor": 2
}

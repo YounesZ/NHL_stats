{
 "cells": [
  {
   "cell_type": "markdown",
   "metadata": {},
   "source": [
    "# Purpose: find games with problematic play-by-play data. Some have a very low number of marked events which should be a criterion for rejection"
   ]
  },
  {
   "cell_type": "code",
   "execution_count": 1,
   "metadata": {},
   "outputs": [],
   "source": [
    "from ReinforcementLearning.NHL.playerstats.nhl_player_stats import *\n",
    "from ReinforcementLearning.NHL.playbyplay.game import *"
   ]
  },
  {
   "cell_type": "code",
   "execution_count": 2,
   "metadata": {},
   "outputs": [],
   "source": [
    "# Pointers to the data\n",
    "# repoCode    =   '/Users/younes_zerouali/Documents/Stradigi/Code/NHL_stats_SL'\n",
    "# repoCode    =   '/Users/luisd/dev/NHL_stats'\n",
    "repoCode    =   '/home/younesz/Documents/Code/NHL_stats_SL'\n",
    "db_root     =   '/home/younesz/Documents/Databases/Hockey'        #This is the location of the Hockey database\n",
    "# db_root     =   '/Users/younes_zerouali/Documents/Stradigi/Databases/Hockey'\n",
    "# db_root     =   '/Users/luisd/dev/NHL_stats/data'\n",
    "repoPbP     =   path.join(db_root, 'PlayByPlay')\n",
    "repoPSt     =   path.join(db_root, 'PlayerStats/player')\n",
    "repoModel   =   path.join(repoCode, 'ReinforcementLearning/NHL/playerstats/offVSdef/Automatic_classification/MODEL_backup_trainedonallseasons_rankstatprediction')\n",
    "repoModel   =   path.join(repoCode, 'ReinforcementLearning/NHL/playerstats/offVSdef/Automatic_classification/MODEL_perceptron_1layer_10units_relu')\n",
    "repoSave    =   None #path.join(repoCode, 'ReinforcementLearning/NHL/playbyplay/data')"
   ]
  },
  {
   "cell_type": "code",
   "execution_count": 3,
   "metadata": {
    "scrolled": true
   },
   "outputs": [
    {
     "name": "stdout",
     "output_type": "stream",
     "text": [
      "Launching analysis\n",
      "\n",
      "\tAnalysing season Season_20142015 (1/14): \n",
      "\t"
     ]
    },
    {
     "ename": "NameError",
     "evalue": "name 'games' is not defined",
     "output_type": "error",
     "traceback": [
      "\u001b[0;31m---------------------------------------------------------------------------\u001b[0m",
      "\u001b[0;31mNameError\u001b[0m                                 Traceback (most recent call last)",
      "\u001b[0;32m<ipython-input-3-6cf8c1176f1f>\u001b[0m in \u001b[0;36m<module>\u001b[0;34m()\u001b[0m\n\u001b[1;32m     35\u001b[0m             \u001b[0mstdout\u001b[0m\u001b[0;34m.\u001b[0m\u001b[0mwrite\u001b[0m\u001b[0;34m(\u001b[0m\u001b[0;34m'\\r\\t'\u001b[0m\u001b[0;34m)\u001b[0m\u001b[0;34m\u001b[0m\u001b[0m\n\u001b[1;32m     36\u001b[0m             \u001b[0;31m# the exact output you're looking for:\u001b[0m\u001b[0;34m\u001b[0m\u001b[0;34m\u001b[0m\u001b[0m\n\u001b[0;32m---> 37\u001b[0;31m             \u001b[0mstdout\u001b[0m\u001b[0;34m.\u001b[0m\u001b[0mwrite\u001b[0m\u001b[0;34m(\u001b[0m\u001b[0;34m\"Game %i/%i: [%-40s] %d%%, completed\"\u001b[0m \u001b[0;34m%\u001b[0m \u001b[0;34m(\u001b[0m\u001b[0mcount\u001b[0m\u001b[0;34m,\u001b[0m \u001b[0mlen\u001b[0m\u001b[0;34m(\u001b[0m\u001b[0mgames\u001b[0m\u001b[0;34m)\u001b[0m\u001b[0;34m,\u001b[0m \u001b[0;34m'='\u001b[0m \u001b[0;34m*\u001b[0m \u001b[0mint\u001b[0m\u001b[0;34m(\u001b[0m\u001b[0mcount\u001b[0m \u001b[0;34m/\u001b[0m \u001b[0mlen\u001b[0m\u001b[0;34m(\u001b[0m\u001b[0mgames\u001b[0m\u001b[0;34m)\u001b[0m \u001b[0;34m*\u001b[0m \u001b[0;36m40\u001b[0m\u001b[0;34m)\u001b[0m\u001b[0;34m,\u001b[0m \u001b[0;36m100\u001b[0m \u001b[0;34m*\u001b[0m \u001b[0mcount\u001b[0m \u001b[0;34m/\u001b[0m \u001b[0mlen\u001b[0m\u001b[0;34m(\u001b[0m\u001b[0mgames\u001b[0m\u001b[0;34m)\u001b[0m\u001b[0;34m)\u001b[0m\u001b[0;34m)\u001b[0m\u001b[0;34m\u001b[0m\u001b[0m\n\u001b[0m\u001b[1;32m     38\u001b[0m             \u001b[0mstdout\u001b[0m\u001b[0;34m.\u001b[0m\u001b[0mflush\u001b[0m\u001b[0;34m(\u001b[0m\u001b[0;34m)\u001b[0m\u001b[0;34m\u001b[0m\u001b[0m\n\u001b[1;32m     39\u001b[0m \u001b[0;34m\u001b[0m\u001b[0m\n",
      "\u001b[0;31mNameError\u001b[0m: name 'games' is not defined"
     ]
    }
   ],
   "source": [
    "# === First list seasons\n",
    "seasons  =  ut_find_folders(repoPbP)\n",
    "\n",
    "# Prep containers\n",
    "gmInfo   =  pd.DataFrame(columns=['allE', 'filtE'])\n",
    "\n",
    "# Loop on seasons\n",
    "print('Launching analysis\\n')\n",
    "for iS in seasons:\n",
    "    \n",
    "    print('\\tAnalysing season %s (%i/%i): ' %(iS, seasons.index(iS)+1, len(seasons)) )\n",
    "    # List all games\n",
    "    iSea   =  Season(iS)\n",
    "    iSea.list_game_ids(repoPbP, repoPSt)\n",
    "    \n",
    "    # Loop on games\n",
    "    count  =  0\n",
    "    for iG in iSea.games_id['gcode']:\n",
    "        \n",
    "        # pull data\n",
    "        iSea.game_active.switch_to_game(iG)\n",
    "        iSea.game_active.pull_line_shifts('both', minduration=20)\n",
    "        allE      =  len(iSea.game_active.lineShifts)\n",
    "        \n",
    "        # Filter for regulartime and equalstrength\n",
    "        iSea.game_active.pick_regulartime()\n",
    "        iSea.game_active.pick_equalstrength()\n",
    "        filtE     =  len(iSea.game_active.lineShifts)\n",
    "        \n",
    "        # Store\n",
    "        gmInfo    =  pd.concat( (gmInfo, pd.DataFrame( np.reshape([allE, filtE], [1,-1]), columns=['allE', 'filtE'])), ignore_index=True )\n",
    "        \n",
    "        count+=1\n",
    "        if count % 50 == 0:\n",
    "            # the exact output you're looking for:\n",
    "            stdout.write(\"Game %i/%i: [%-40s] %d%%, completed\" % (count, len(iSea.games_id), '=' * int(count / len(iSea.games_id) * 40), 100 * count / len(iSea.games_id)))\n",
    "            stdout.flush()\n",
    "        \n",
    "    print('done\\n')\n",
    "    "
   ]
  },
  {
   "cell_type": "markdown",
   "metadata": {},
   "source": [
    "# VISU: check histograms"
   ]
  },
  {
   "cell_type": "code",
   "execution_count": 20,
   "metadata": {},
   "outputs": [
    {
     "name": "stderr",
     "output_type": "stream",
     "text": [
      "/usr/local/lib/python3.5/dist-packages/numpy/core/fromnumeric.py:57: FutureWarning: reshape is deprecated and will raise in a subsequent release. Please use .values.reshape(...) instead\n",
      "  return getattr(obj, method)(*args, **kwds)\n"
     ]
    },
    {
     "data": {
      "text/plain": [
       "Text(0.5,1,'Distribution: nb of filtered events per game')"
      ]
     },
     "execution_count": 20,
     "metadata": {},
     "output_type": "execute_result"
    },
    {
     "data": {
      "image/png": "[encoded data removed]",
      "text/plain": [
       "<matplotlib.figure.Figure at 0x7fac2dc277f0>"
      ]
     },
     "metadata": {},
     "output_type": "display_data"
    }
   ],
   "source": [
    "%matplotlib inline\n",
    "import matplotlib.pyplot as plt\n",
    "\n",
    "Fig  =  plt.figure()\n",
    "Ax1  =  Fig.add_subplot(121)\n",
    "Ax1.hist( np.reshape(gmInfo['allE'], [-1,1]) )\n",
    "Ax1.set_xlabel('Number of events (raw)')\n",
    "Ax1.set_ylabel('Number of games')\n",
    "Ax1.set_title('Distribution: total nb of events per game')\n",
    "\n",
    "Ax2  =  Fig.add_subplot(122)\n",
    "Ax2.hist( np.reshape(gmInfo['filtE'], [-1,1]) )\n",
    "Ax2.set_xlabel('Number of events (filtered)')\n",
    "Ax2.set_ylabel('Number of games')\n",
    "Ax2.set_title('Distribution: nb of filtered events per game')\n",
    "\n"
   ]
  },
  {
   "cell_type": "code",
   "execution_count": null,
   "metadata": {},
   "outputs": [],
   "source": []
  }
 ],
 "metadata": {
  "kernelspec": {
   "display_name": "Python 3",
   "language": "python",
   "name": "python3"
  },
  "language_info": {
   "codemirror_mode": {
    "name": "ipython",
    "version": 3
   },
   "file_extension": ".py",
   "mimetype": "text/x-python",
   "name": "python",
   "nbconvert_exporter": "python",
   "pygments_lexer": "ipython3",
   "version": "3.5.2"
  }
 },
 "nbformat": 4,
 "nbformat_minor": 2
}

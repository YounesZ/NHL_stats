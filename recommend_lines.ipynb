{
 "cells": [
  {
   "cell_type": "markdown",
   "metadata": {
    "scrolled": true
   },
   "source": [
    "# Recommend lines for home team\n"
   ]
  },
  {
   "cell_type": "code",
   "execution_count": 1,
   "metadata": {},
   "outputs": [],
   "source": [
    "%load_ext autoreload\n",
    "%autoreload 2"
   ]
  },
  {
   "cell_type": "code",
   "execution_count": 2,
   "metadata": {},
   "outputs": [
    {
     "ename": "ImportError",
     "evalue": "cannot import name 'auto'",
     "output_type": "error",
     "traceback": [
      "\u001b[0;31m---------------------------------------------------------------------------\u001b[0m",
      "\u001b[0;31mImportError\u001b[0m                               Traceback (most recent call last)",
      "\u001b[0;32m<ipython-input-2-eb039674fa52>\u001b[0m in \u001b[0;36m<module>\u001b[0;34m()\u001b[0m\n\u001b[1;32m      3\u001b[0m \u001b[0;32mfrom\u001b[0m \u001b[0mtyping\u001b[0m \u001b[0;32mimport\u001b[0m \u001b[0mList\u001b[0m\u001b[0;34m,\u001b[0m \u001b[0mSet\u001b[0m\u001b[0;34m,\u001b[0m \u001b[0mCallable\u001b[0m\u001b[0;34m,\u001b[0m \u001b[0mTuple\u001b[0m\u001b[0;34m,\u001b[0m \u001b[0mDict\u001b[0m\u001b[0;34m\u001b[0m\u001b[0m\n\u001b[1;32m      4\u001b[0m \u001b[0;34m\u001b[0m\u001b[0m\n\u001b[0;32m----> 5\u001b[0;31m \u001b[0;32mfrom\u001b[0m \u001b[0menum\u001b[0m \u001b[0;32mimport\u001b[0m \u001b[0mEnum\u001b[0m\u001b[0;34m,\u001b[0m \u001b[0mauto\u001b[0m\u001b[0;34m\u001b[0m\u001b[0m\n\u001b[0m\u001b[1;32m      6\u001b[0m \u001b[0;32mclass\u001b[0m \u001b[0mPlayerType\u001b[0m\u001b[0;34m(\u001b[0m\u001b[0mEnum\u001b[0m\u001b[0;34m)\u001b[0m\u001b[0;34m:\u001b[0m\u001b[0;34m\u001b[0m\u001b[0m\n\u001b[1;32m      7\u001b[0m     \u001b[0mDEFENSIVE\u001b[0m \u001b[0;34m=\u001b[0m \u001b[0;36m0\u001b[0m\u001b[0;34m\u001b[0m\u001b[0m\n",
      "\u001b[0;31mImportError\u001b[0m: cannot import name 'auto'"
     ]
    }
   ],
   "source": [
    "import itertools\n",
    "from abc import abstractmethod\n",
    "from typing import List, Set, Callable, Tuple, Dict\n",
    "\n",
    "from enum import Enum, auto\n",
    "class PlayerType(Enum):\n",
    "    DEFENSIVE = 0\n",
    "    OFFENSIVE = 1\n",
    "    NEUTRAL = 2\n"
   ]
  },
  {
   "cell_type": "code",
   "execution_count": 3,
   "metadata": {},
   "outputs": [],
   "source": [
    "from ReinforcementLearning.NHL.playerstats.nhl_player_stats import *\n",
    "from ReinforcementLearning.NHL.playbyplay.playbyplay_data import *\n",
    "from ReinforcementLearning.NHL.playbyplay.state_space_data import *\n",
    "# from ReinforcementLearning.NHL.playbyplay.season import Season\n"
   ]
  },
  {
   "cell_type": "code",
   "execution_count": 4,
   "metadata": {},
   "outputs": [],
   "source": [
    "# Pointers to the data\n",
    "repoCode    =   '/home/younesz/Documents/Code/NHL_stats_SL'\n",
    "# repoCode    =   '/Users/luisd/dev/NHL_stats'\n",
    "#db_root     =   '/home/younesz/Documents/Hockey'        #This is the location of the Hockey database\n",
    "db_root     =   '/home/younesz/Documents/Databases/Hockey'\n",
    "# db_root     =   '/Users/luisd/dev/NHL_stats/data'\n",
    "repoPbP     =   path.join(db_root, 'PlayByPlay')\n",
    "repoPSt     =   path.join(db_root, 'PlayerStats/player')\n",
    "repoModel   =   path.join(repoCode, 'ReinforcementLearning/NHL/playerstats/offVSdef/Automatic_classification/MODEL_backup_trainedonallseasons_rankstatprediction')\n",
    "repoModel   =   path.join(repoCode, 'ReinforcementLearning/NHL/playerstats/offVSdef/Automatic_classification/MODEL_perceptron_1layer_10units_relu')\n",
    "repoSave    =   None #path.join(repoCode, 'ReinforcementLearning/NHL/playbyplay/data')"
   ]
  },
  {
   "cell_type": "code",
   "execution_count": 5,
   "metadata": {},
   "outputs": [
    {
     "data": {
      "text/plain": [
       "'/home/younesz/Documents/Databases/Hockey/PlayByPlay'"
      ]
     },
     "execution_count": 5,
     "metadata": {},
     "output_type": "execute_result"
    }
   ],
   "source": [
    "repoPbP"
   ]
  },
  {
   "cell_type": "code",
   "execution_count": 6,
   "metadata": {},
   "outputs": [
    {
     "data": {
      "text/plain": [
       "'/home/younesz/Documents/Code/NHL_stats_SL/ReinforcementLearning/NHL/playerstats/offVSdef/Automatic_classification/MODEL_perceptron_1layer_10units_relu'"
      ]
     },
     "execution_count": 6,
     "metadata": {},
     "output_type": "execute_result"
    }
   ],
   "source": [
    "repoModel"
   ]
  },
  {
   "cell_type": "markdown",
   "metadata": {},
   "source": [
    "# Re-train the model if needed\n",
    "For example if you have trouble because the file of the model is not accessible, you need to re-run this cell."
   ]
  },
  {
   "cell_type": "code",
   "execution_count": 7,
   "metadata": {},
   "outputs": [],
   "source": [
    "# ==== Before starting, recompute the model\n",
    "# This should avoid path issues when reloading it\n",
    "# normalizer, pca, dtCols, CLS    =   do_ANN_training(repoPSt, repoPbP, repoCode, repoModel, minGames=0.2)"
   ]
  },
  {
   "cell_type": "markdown",
   "metadata": {},
   "source": [
    "# Definitions of Functions"
   ]
  },
  {
   "cell_type": "markdown",
   "metadata": {},
   "source": [
    "## Get players data (classes)"
   ]
  },
  {
   "cell_type": "code",
   "execution_count": 8,
   "metadata": {},
   "outputs": [],
   "source": [
    "# ==== Second the players data\n",
    "\n",
    "def get_players_classes(repoModel, data_for_game, number_of_games):\n",
    "    return data_for_game.pull_players_classes_from_repo_address(repoModel, number_of_games)"
   ]
  },
  {
   "cell_type": "code",
   "execution_count": 9,
   "metadata": {},
   "outputs": [],
   "source": [
    "# ==== Second the players data\n",
    "from typing import Set\n",
    "\n",
    "def get_MTL_players(players_classes) -> Set[int]:\n",
    "    return set(players_classes[players_classes[\"team\"] == \"MTL\"].index)"
   ]
  },
  {
   "cell_type": "code",
   "execution_count": 10,
   "metadata": {},
   "outputs": [],
   "source": [
    "gameInfo    =   pickle.load( open(path.join(db_root, 'processed', 'gamesInfo.p'), 'rb') )"
   ]
  },
  {
   "cell_type": "markdown",
   "metadata": {},
   "source": [
    "# Let's run analysis for MTL-OTT on March 13, 2013"
   ]
  },
  {
   "cell_type": "code",
   "execution_count": 11,
   "metadata": {},
   "outputs": [
    {
     "name": "stderr",
     "output_type": "stream",
     "text": [
      "/home/younesz/Documents/Code/NHL_stats_SL/ReinforcementLearning/NHL/playbyplay/playbyplay_data.py:55: UserWarning: Boolean Series key will be reindexed to match DataFrame index.\n",
      "  gameInfo    =   gameInfo[gameInfo['gameDate']==date_as_str][gameInfo['teamAbbrev']==home_team_abbr]\n"
     ]
    }
   ],
   "source": [
    "# ==== First the game data\n",
    "\n",
    "# Montreal received Ottawa on march 13, 2013, let's convert game date to game code\n",
    "gameId = Season.get_game_id(db_root=db_root, home_team_abbr='MTL', date_as_str='2013-03-13')\n",
    "\n",
    "# Now lets get game data \n",
    "season      =   Season(db_root, year_begin=2012) # Season.from_year_begin(2012) # '20122013'\n",
    "mtlott      =   season.pick_game(gameId)"
   ]
  },
  {
   "cell_type": "code",
   "execution_count": 12,
   "metadata": {},
   "outputs": [
    {
     "data": {
      "text/plain": [
       "2012"
      ]
     },
     "execution_count": 12,
     "metadata": {},
     "output_type": "execute_result"
    }
   ],
   "source": [
    "season.year_begin"
   ]
  },
  {
   "cell_type": "code",
   "execution_count": 13,
   "metadata": {},
   "outputs": [
    {
     "name": "stdout",
     "output_type": "stream",
     "text": [
      "INFO:tensorflow:Restoring parameters from /home/younesz/Documents/Code/NHL_stats_SL/ReinforcementLearning/NHL/playerstats/offVSdef/Automatic_classification/MODEL_perceptron_1layer_10units_relu/MODEL_perceptron_1layer_10units_relu\n"
     ]
    },
    {
     "data": {
      "text/html": [
       "<div>\n",
       "<style scoped>\n",
       "    .dataframe tbody tr th:only-of-type {\n",
       "        vertical-align: middle;\n",
       "    }\n",
       "\n",
       "    .dataframe tbody tr th {\n",
       "        vertical-align: top;\n",
       "    }\n",
       "\n",
       "    .dataframe thead th {\n",
       "        text-align: right;\n",
       "    }\n",
       "</style>\n",
       "<table border=\"1\" class=\"dataframe\">\n",
       "  <thead>\n",
       "    <tr style=\"text-align: right;\">\n",
       "      <th></th>\n",
       "      <th>class</th>\n",
       "      <th>firstlast</th>\n",
       "      <th>pred_ross</th>\n",
       "      <th>pred_selke</th>\n",
       "      <th>team</th>\n",
       "    </tr>\n",
       "  </thead>\n",
       "  <tbody>\n",
       "    <tr>\n",
       "      <th>8</th>\n",
       "      <td>2</td>\n",
       "      <td>DAVID DESHARNAIS</td>\n",
       "      <td>0.152358</td>\n",
       "      <td>0.271184</td>\n",
       "      <td>MTL</td>\n",
       "    </tr>\n",
       "    <tr>\n",
       "      <th>9</th>\n",
       "      <td>2</td>\n",
       "      <td>LARS ELLER</td>\n",
       "      <td>0.168679</td>\n",
       "      <td>0.419280</td>\n",
       "      <td>MTL</td>\n",
       "    </tr>\n",
       "    <tr>\n",
       "      <th>13</th>\n",
       "      <td>2</td>\n",
       "      <td>ALEX GALCHENYUK</td>\n",
       "      <td>0.043458</td>\n",
       "      <td>0.240716</td>\n",
       "      <td>MTL</td>\n",
       "    </tr>\n",
       "    <tr>\n",
       "      <th>14</th>\n",
       "      <td>2</td>\n",
       "      <td>BRENDAN GALLAGHER</td>\n",
       "      <td>0.137976</td>\n",
       "      <td>0.347929</td>\n",
       "      <td>MTL</td>\n",
       "    </tr>\n",
       "    <tr>\n",
       "      <th>27</th>\n",
       "      <td>1</td>\n",
       "      <td>MAX PACIORETTY</td>\n",
       "      <td>0.301386</td>\n",
       "      <td>0.283442</td>\n",
       "      <td>MTL</td>\n",
       "    </tr>\n",
       "    <tr>\n",
       "      <th>31</th>\n",
       "      <td>1</td>\n",
       "      <td>TOMAS PLEKANEC</td>\n",
       "      <td>0.357017</td>\n",
       "      <td>0.399162</td>\n",
       "      <td>MTL</td>\n",
       "    </tr>\n",
       "    <tr>\n",
       "      <th>228</th>\n",
       "      <td>2</td>\n",
       "      <td>CHRIS NEIL</td>\n",
       "      <td>0.191784</td>\n",
       "      <td>0.443006</td>\n",
       "      <td>OTT</td>\n",
       "    </tr>\n",
       "    <tr>\n",
       "      <th>236</th>\n",
       "      <td>0</td>\n",
       "      <td>ZACK SMITH</td>\n",
       "      <td>0.100964</td>\n",
       "      <td>0.439869</td>\n",
       "      <td>OTT</td>\n",
       "    </tr>\n",
       "    <tr>\n",
       "      <th>237</th>\n",
       "      <td>2</td>\n",
       "      <td>MARK STONE</td>\n",
       "      <td>0.101008</td>\n",
       "      <td>0.339734</td>\n",
       "      <td>OTT</td>\n",
       "    </tr>\n",
       "    <tr>\n",
       "      <th>238</th>\n",
       "      <td>0</td>\n",
       "      <td>KYLE TURRIS</td>\n",
       "      <td>0.102196</td>\n",
       "      <td>0.388576</td>\n",
       "      <td>OTT</td>\n",
       "    </tr>\n",
       "    <tr>\n",
       "      <th>241</th>\n",
       "      <td>0</td>\n",
       "      <td>MIKA ZIBANEJAD</td>\n",
       "      <td>0.060674</td>\n",
       "      <td>0.395046</td>\n",
       "      <td>OTT</td>\n",
       "    </tr>\n",
       "    <tr>\n",
       "      <th>249</th>\n",
       "      <td>2</td>\n",
       "      <td>ERIK CONDRA</td>\n",
       "      <td>0.105223</td>\n",
       "      <td>0.315759</td>\n",
       "      <td>OTT</td>\n",
       "    </tr>\n",
       "    <tr>\n",
       "      <th>281</th>\n",
       "      <td>2</td>\n",
       "      <td>RYAN WHITE</td>\n",
       "      <td>0.136709</td>\n",
       "      <td>0.319078</td>\n",
       "      <td>MTL</td>\n",
       "    </tr>\n",
       "    <tr>\n",
       "      <th>389</th>\n",
       "      <td>2</td>\n",
       "      <td>TRAVIS MOEN</td>\n",
       "      <td>0.058123</td>\n",
       "      <td>0.301517</td>\n",
       "      <td>MTL</td>\n",
       "    </tr>\n",
       "    <tr>\n",
       "      <th>621</th>\n",
       "      <td>2</td>\n",
       "      <td>JAKOB SILFVERBERG</td>\n",
       "      <td>0.170364</td>\n",
       "      <td>0.460437</td>\n",
       "      <td>OTT</td>\n",
       "    </tr>\n",
       "    <tr>\n",
       "      <th>656</th>\n",
       "      <td>0</td>\n",
       "      <td>BRIAN GIONTA</td>\n",
       "      <td>0.089530</td>\n",
       "      <td>0.421456</td>\n",
       "      <td>MTL</td>\n",
       "    </tr>\n",
       "    <tr>\n",
       "      <th>813</th>\n",
       "      <td>0</td>\n",
       "      <td>COLIN GREENING</td>\n",
       "      <td>0.073467</td>\n",
       "      <td>0.385268</td>\n",
       "      <td>OTT</td>\n",
       "    </tr>\n",
       "    <tr>\n",
       "      <th>871</th>\n",
       "      <td>0</td>\n",
       "      <td>JIM O'BRIEN</td>\n",
       "      <td>0.008751</td>\n",
       "      <td>0.372701</td>\n",
       "      <td>OTT</td>\n",
       "    </tr>\n",
       "    <tr>\n",
       "      <th>1035</th>\n",
       "      <td>1</td>\n",
       "      <td>MICHAEL RYDER</td>\n",
       "      <td>0.357081</td>\n",
       "      <td>0.219747</td>\n",
       "      <td>MTL</td>\n",
       "    </tr>\n",
       "    <tr>\n",
       "      <th>1164</th>\n",
       "      <td>2</td>\n",
       "      <td>GABRIEL DUMONT</td>\n",
       "      <td>0.140161</td>\n",
       "      <td>0.300612</td>\n",
       "      <td>MTL</td>\n",
       "    </tr>\n",
       "    <tr>\n",
       "      <th>1219</th>\n",
       "      <td>2</td>\n",
       "      <td>DANIEL ALFREDSSON</td>\n",
       "      <td>0.194518</td>\n",
       "      <td>0.514697</td>\n",
       "      <td>OTT</td>\n",
       "    </tr>\n",
       "    <tr>\n",
       "      <th>1374</th>\n",
       "      <td>2</td>\n",
       "      <td>GUILLAUME LATENDRESSE</td>\n",
       "      <td>0.093440</td>\n",
       "      <td>0.294345</td>\n",
       "      <td>OTT</td>\n",
       "    </tr>\n",
       "    <tr>\n",
       "      <th>1380</th>\n",
       "      <td>2</td>\n",
       "      <td>COLBY ARMSTRONG</td>\n",
       "      <td>0.104906</td>\n",
       "      <td>0.330882</td>\n",
       "      <td>MTL</td>\n",
       "    </tr>\n",
       "    <tr>\n",
       "      <th>1438</th>\n",
       "      <td>0</td>\n",
       "      <td>KASPARS DAUGAVINS</td>\n",
       "      <td>0.014635</td>\n",
       "      <td>0.383701</td>\n",
       "      <td>OTT</td>\n",
       "    </tr>\n",
       "  </tbody>\n",
       "</table>\n",
       "</div>"
      ],
      "text/plain": [
       "      class              firstlast  pred_ross  pred_selke team\n",
       "8         2       DAVID DESHARNAIS   0.152358    0.271184  MTL\n",
       "9         2             LARS ELLER   0.168679    0.419280  MTL\n",
       "13        2        ALEX GALCHENYUK   0.043458    0.240716  MTL\n",
       "14        2      BRENDAN GALLAGHER   0.137976    0.347929  MTL\n",
       "27        1         MAX PACIORETTY   0.301386    0.283442  MTL\n",
       "31        1         TOMAS PLEKANEC   0.357017    0.399162  MTL\n",
       "228       2             CHRIS NEIL   0.191784    0.443006  OTT\n",
       "236       0             ZACK SMITH   0.100964    0.439869  OTT\n",
       "237       2             MARK STONE   0.101008    0.339734  OTT\n",
       "238       0            KYLE TURRIS   0.102196    0.388576  OTT\n",
       "241       0         MIKA ZIBANEJAD   0.060674    0.395046  OTT\n",
       "249       2            ERIK CONDRA   0.105223    0.315759  OTT\n",
       "281       2             RYAN WHITE   0.136709    0.319078  MTL\n",
       "389       2            TRAVIS MOEN   0.058123    0.301517  MTL\n",
       "621       2      JAKOB SILFVERBERG   0.170364    0.460437  OTT\n",
       "656       0           BRIAN GIONTA   0.089530    0.421456  MTL\n",
       "813       0         COLIN GREENING   0.073467    0.385268  OTT\n",
       "871       0            JIM O'BRIEN   0.008751    0.372701  OTT\n",
       "1035      1          MICHAEL RYDER   0.357081    0.219747  MTL\n",
       "1164      2         GABRIEL DUMONT   0.140161    0.300612  MTL\n",
       "1219      2      DANIEL ALFREDSSON   0.194518    0.514697  OTT\n",
       "1374      2  GUILLAUME LATENDRESSE   0.093440    0.294345  OTT\n",
       "1380      2        COLBY ARMSTRONG   0.104906    0.330882  MTL\n",
       "1438      0      KASPARS DAUGAVINS   0.014635    0.383701  OTT"
      ]
     },
     "execution_count": 13,
     "metadata": {},
     "output_type": "execute_result"
    }
   ],
   "source": [
    "# ==== Second the players data\n",
    "\n",
    "# Visualize all player's classes: 0=def, 1=off, 2=neutral\n",
    "# mtlott.pull_line_shifts(team='both')\n",
    "players_classes = mtlott.pull_players_classes_from_repo_address(repoModel, number_of_games=30)\n",
    "assert players_classes.equals(mtlott.player_classes)\n",
    "mtlott.player_classes\n"
   ]
  },
  {
   "cell_type": "code",
   "execution_count": 14,
   "metadata": {},
   "outputs": [
    {
     "data": {
      "text/plain": [
       "{8, 9, 13, 14, 27, 31, 281, 389, 656, 1035, 1164, 1380}"
      ]
     },
     "execution_count": 14,
     "metadata": {},
     "output_type": "execute_result"
    }
   ],
   "source": [
    "get_MTL_players(players_classes)"
   ]
  },
  {
   "cell_type": "markdown",
   "metadata": {},
   "source": [
    "### How to get the category of a player:"
   ]
  },
  {
   "cell_type": "code",
   "execution_count": 15,
   "metadata": {},
   "outputs": [],
   "source": [
    "def get_class_of_player_by_id(data_for_game, player_id: int) -> int:\n",
    "    \"0=def, 1=off, 2=neutral\"\n",
    "    try:\n",
    "        return int(data_for_game.player_classes[mtlott.player_classes.index == player_id][\"class\"])\n",
    "    except:\n",
    "        raise IndexError(\"Player %d did not play on this game\" % (player_id))\n"
   ]
  },
  {
   "cell_type": "code",
   "execution_count": 16,
   "metadata": {},
   "outputs": [
    {
     "data": {
      "text/plain": [
       "2"
      ]
     },
     "execution_count": 16,
     "metadata": {},
     "output_type": "execute_result"
    }
   ],
   "source": [
    "get_class_of_player_by_id(mtlott, player_id = 1374)"
   ]
  },
  {
   "cell_type": "markdown",
   "metadata": {},
   "source": [
    "### Prediction of the lines that the 'away' team will use"
   ]
  },
  {
   "cell_type": "code",
   "execution_count": 17,
   "metadata": {},
   "outputs": [
    {
     "data": {
      "text/plain": [
       "<matplotlib.axes._subplots.AxesSubplot at 0x7f4c87663748>"
      ]
     },
     "execution_count": 17,
     "metadata": {},
     "output_type": "execute_result"
    }
   ],
   "source": [
    "df, away_lines = mtlott.get_away_lines(accept_repeated=True) \n",
    "plt.figure()\n",
    "df.plot(kind='bar')"
   ]
  },
  {
   "cell_type": "code",
   "execution_count": 18,
   "metadata": {},
   "outputs": [
    {
     "data": {
      "text/plain": [
       "[[0, 2, 2], [0, 2, 2], [0, 0, 2], [0, 2, 2]]"
      ]
     },
     "execution_count": 18,
     "metadata": {},
     "output_type": "execute_result"
    }
   ],
   "source": [
    "away_lines"
   ]
  },
  {
   "cell_type": "code",
   "execution_count": 20,
   "metadata": {},
   "outputs": [],
   "source": [
    "# === Now we get the indices in the Q-values tables corresponding to lines\n",
    "\n",
    "mtlott.pull_line_shifts(team='both', minduration=20)\n",
    "\n",
    "# Line translation table\n",
    "linedict  = HockeySS(db_root)\n",
    "linedict.make_line_dictionary()\n",
    "linedict  = linedict.line_dictionary\n",
    "\n",
    "# Get lines and translate them \n",
    "playersCode  =   mtlott.encode_line_players()\n",
    "linesCode    =   np.array( [[mtlott.recode_line(linedict, a) for a in b] for b in playersCode] )\n",
    "# linedict"
   ]
  },
  {
   "cell_type": "code",
   "execution_count": 21,
   "metadata": {},
   "outputs": [
    {
     "data": {
      "text/plain": [
       "array([[ 9,  4],\n",
       "       [ 6,  4],\n",
       "       [ 2,  5],\n",
       "       [ 9,  5],\n",
       "       [ 6,  4],\n",
       "       [ 6,  4],\n",
       "       [ 2,  5],\n",
       "       [ 2,  5],\n",
       "       [ 9,  4],\n",
       "       [ 6,  4],\n",
       "       [ 2,  4],\n",
       "       [ 6,  5],\n",
       "       [-1,  5],\n",
       "       [-1,  5],\n",
       "       [-1,  5],\n",
       "       [ 9,  4],\n",
       "       [ 2,  5],\n",
       "       [ 6,  4],\n",
       "       [ 6,  4],\n",
       "       [ 9,  4],\n",
       "       [ 6,  4],\n",
       "       [ 2,  5],\n",
       "       [ 7,  4],\n",
       "       [ 9,  5],\n",
       "       [ 6,  5],\n",
       "       [ 2,  4],\n",
       "       [ 6,  5],\n",
       "       [ 7,  4],\n",
       "       [ 6,  5],\n",
       "       [ 2,  5],\n",
       "       [ 2,  5],\n",
       "       [ 9,  4],\n",
       "       [ 6,  5],\n",
       "       [ 2,  4],\n",
       "       [ 9,  4],\n",
       "       [ 6,  5],\n",
       "       [ 6,  5],\n",
       "       [ 2,  5],\n",
       "       [ 9, -1],\n",
       "       [ 6,  4],\n",
       "       [ 7,  5],\n",
       "       [ 7,  4],\n",
       "       [ 6,  5],\n",
       "       [ 9,  5],\n",
       "       [ 7,  5],\n",
       "       [ 7,  5],\n",
       "       [-1,  5],\n",
       "       [-1,  5],\n",
       "       [-1,  5],\n",
       "       [-1,  5],\n",
       "       [ 9,  4],\n",
       "       [ 9, -1],\n",
       "       [ 7, -1],\n",
       "       [ 6,  5],\n",
       "       [-1,  5],\n",
       "       [-1,  5],\n",
       "       [-1, -1],\n",
       "       [-1, -1],\n",
       "       [ 2,  5],\n",
       "       [ 6,  4],\n",
       "       [ 9, -1],\n",
       "       [ 9, -1],\n",
       "       [ 6,  5],\n",
       "       [ 9,  4],\n",
       "       [ 9,  5],\n",
       "       [ 2,  5],\n",
       "       [ 9,  4],\n",
       "       [ 2, -1],\n",
       "       [ 8, -1],\n",
       "       [ 9, -1],\n",
       "       [ 6,  4],\n",
       "       [ 2, -1],\n",
       "       [ 2, -1],\n",
       "       [ 9,  4],\n",
       "       [ 6,  5],\n",
       "       [ 6,  5],\n",
       "       [ 2,  5],\n",
       "       [ 9,  5],\n",
       "       [ 6,  4],\n",
       "       [ 2,  5],\n",
       "       [ 9,  5],\n",
       "       [-1, -1],\n",
       "       [-1, -1],\n",
       "       [-1, -1],\n",
       "       [-1, -1],\n",
       "       [-1, -1],\n",
       "       [-1, -1],\n",
       "       [-1, -1]])"
      ]
     },
     "execution_count": 21,
     "metadata": {},
     "output_type": "execute_result"
    }
   ],
   "source": [
    "# Visualize the line codes for each shift (first digit is the code of the away team's line - state-space, \n",
    "# second digit is the code of the home team's line - action space)\n",
    "linesCode"
   ]
  },
  {
   "cell_type": "code",
   "execution_count": 22,
   "metadata": {},
   "outputs": [
    {
     "name": "stdout",
     "output_type": "stream",
     "text": [
      "Q-table dimensions:  (3, 5, 10, 10)\n",
      "[diff = 2, period = 0] First shift: \n",
      "\thome team: DAVID DESHARNAIS, BRENDAN GALLAGHER, MAX PACIORETTY \n",
      "\taway team: KYLE TURRIS, JAKOB SILFVERBERG, COLIN GREENING \n",
      "\tQvalue: 3.17\n"
     ]
    }
   ],
   "source": [
    "# ==== Now we want to evaluate the value of the first shift for the (home team)\n",
    "\n",
    "# Load the Qvalues table\n",
    "Qvalues = pickle.load( open(path.join(repoCode, 'ReinforcementLearning/NHL/playbyplay/data/stable/RL_action_values.p'), 'rb') )['action_values']\n",
    "\n",
    "# Visualize it dimensions (period x differential x away line's code x home line's code)\n",
    "print('Q-table dimensions: ', Qvalues.shape)\n",
    "\n",
    "# Get the Q-value for that specific line\n",
    "iShift = 0 # First shift\n",
    "plList = list(mtlott.player_classes.loc[mtlott.lineShifts['playersID'].iloc[iShift][0]]['firstlast'].values) + list(mtlott.player_classes.loc[mtlott.lineShifts['playersID'].iloc[iShift][1]]['firstlast'].values)\n",
    "diff   = mtlott.recode_differential( mtlott.lineShifts.iloc[iShift].differential )\n",
    "period = mtlott.recode_period( mtlott.lineShifts.iloc[iShift].period )\n",
    "q_values = Qvalues[period,diff,linesCode[iShift,0], linesCode[iShift,1]]\n",
    "print('[diff = %d, period = %d] First shift: \\n\\thome team: %s, %s, %s \\n\\taway team: %s, %s, %s \\n\\tQvalue: %.2f' %(diff, period, plList[0], plList[1], plList[2], plList[3], plList[4], plList[5], q_values) )\n",
    "                                                                          \n"
   ]
  },
  {
   "cell_type": "code",
   "execution_count": 23,
   "metadata": {},
   "outputs": [
    {
     "ename": "NameError",
     "evalue": "name 'PlayerType' is not defined",
     "output_type": "error",
     "traceback": [
      "\u001b[0;31m---------------------------------------------------------------------------\u001b[0m",
      "\u001b[0;31mNameError\u001b[0m                                 Traceback (most recent call last)",
      "\u001b[0;32m<ipython-input-23-bbc7c4de5800>\u001b[0m in \u001b[0;36m<module>\u001b[0;34m()\u001b[0m\n\u001b[1;32m      2\u001b[0m \u001b[0;31m# ###########################################################################################\u001b[0m\u001b[0;34m\u001b[0m\u001b[0;34m\u001b[0m\u001b[0m\n\u001b[1;32m      3\u001b[0m \u001b[0;31m# ###########################################################################################\u001b[0m\u001b[0;34m\u001b[0m\u001b[0;34m\u001b[0m\u001b[0m\n\u001b[0;32m----> 4\u001b[0;31m \u001b[0;32mclass\u001b[0m \u001b[0mCategoryFetcher\u001b[0m\u001b[0;34m(\u001b[0m\u001b[0mobject\u001b[0m\u001b[0;34m)\u001b[0m\u001b[0;34m:\u001b[0m\u001b[0;34m\u001b[0m\u001b[0m\n\u001b[0m\u001b[1;32m      5\u001b[0m \u001b[0;34m\u001b[0m\u001b[0m\n\u001b[1;32m      6\u001b[0m     \u001b[0;32mdef\u001b[0m \u001b[0m__init__\u001b[0m\u001b[0;34m(\u001b[0m\u001b[0mself\u001b[0m\u001b[0;34m,\u001b[0m \u001b[0mdata_for_game\u001b[0m\u001b[0;34m)\u001b[0m\u001b[0;34m:\u001b[0m\u001b[0;34m\u001b[0m\u001b[0m\n",
      "\u001b[0;32m<ipython-input-23-bbc7c4de5800>\u001b[0m in \u001b[0;36mCategoryFetcher\u001b[0;34m()\u001b[0m\n\u001b[1;32m      7\u001b[0m         \u001b[0mself\u001b[0m\u001b[0;34m.\u001b[0m\u001b[0mdata_for_game\u001b[0m \u001b[0;34m=\u001b[0m \u001b[0mdata_for_game\u001b[0m\u001b[0;34m\u001b[0m\u001b[0m\n\u001b[1;32m      8\u001b[0m \u001b[0;34m\u001b[0m\u001b[0m\n\u001b[0;32m----> 9\u001b[0;31m     \u001b[0;32mdef\u001b[0m \u001b[0mcategory_of_player\u001b[0m\u001b[0;34m(\u001b[0m\u001b[0mself\u001b[0m\u001b[0;34m,\u001b[0m \u001b[0mplayer_id\u001b[0m\u001b[0;34m:\u001b[0m \u001b[0mint\u001b[0m\u001b[0;34m)\u001b[0m \u001b[0;34m->\u001b[0m \u001b[0mPlayerType\u001b[0m\u001b[0;34m:\u001b[0m\u001b[0;34m\u001b[0m\u001b[0m\n\u001b[0m\u001b[1;32m     10\u001b[0m         \u001b[0;32mreturn\u001b[0m \u001b[0mget_class_of_player_by_id\u001b[0m\u001b[0;34m(\u001b[0m\u001b[0mself\u001b[0m\u001b[0;34m.\u001b[0m\u001b[0mdata_for_game\u001b[0m\u001b[0;34m,\u001b[0m \u001b[0mplayer_id\u001b[0m\u001b[0;34m)\u001b[0m\u001b[0;34m\u001b[0m\u001b[0m\n",
      "\u001b[0;31mNameError\u001b[0m: name 'PlayerType' is not defined"
     ]
    }
   ],
   "source": [
    "# ###########################################################################################\n",
    "# ###########################################################################################\n",
    "# ###########################################################################################\n",
    "class CategoryFetcher(object):\n",
    "\n",
    "    def __init__(self, data_for_game):\n",
    "        self.data_for_game = data_for_game\n",
    "\n",
    "    def category_of_player(self, player_id: int) -> PlayerType:\n",
    "        return get_class_of_player_by_id(self.data_for_game, player_id)\n"
   ]
  },
  {
   "cell_type": "code",
   "execution_count": 24,
   "metadata": {},
   "outputs": [
    {
     "ename": "NameError",
     "evalue": "name 'CategoryFetcher' is not defined",
     "output_type": "error",
     "traceback": [
      "\u001b[0;31m---------------------------------------------------------------------------\u001b[0m",
      "\u001b[0;31mNameError\u001b[0m                                 Traceback (most recent call last)",
      "\u001b[0;32m<ipython-input-24-67c78d42f91f>\u001b[0m in \u001b[0;36m<module>\u001b[0;34m()\u001b[0m\n\u001b[0;32m----> 1\u001b[0;31m \u001b[0mcf\u001b[0m \u001b[0;34m=\u001b[0m \u001b[0mCategoryFetcher\u001b[0m\u001b[0;34m(\u001b[0m\u001b[0mdata_for_game\u001b[0m\u001b[0;34m=\u001b[0m\u001b[0mmtlott\u001b[0m\u001b[0;34m)\u001b[0m\u001b[0;34m\u001b[0m\u001b[0m\n\u001b[0m\u001b[1;32m      2\u001b[0m \u001b[0mcf\u001b[0m\u001b[0;34m.\u001b[0m\u001b[0mcategory_of_player\u001b[0m\u001b[0;34m(\u001b[0m\u001b[0;36m1374\u001b[0m\u001b[0;34m)\u001b[0m\u001b[0;34m\u001b[0m\u001b[0m\n",
      "\u001b[0;31mNameError\u001b[0m: name 'CategoryFetcher' is not defined"
     ]
    }
   ],
   "source": [
    "cf = CategoryFetcher(data_for_game=mtlott)\n",
    "cf.category_of_player(1374)"
   ]
  },
  {
   "cell_type": "code",
   "execution_count": null,
   "metadata": {
    "collapsed": true
   },
   "outputs": [],
   "source": [
    "class QValuesFetcher(object):\n",
    "\n",
    "    def lines_to_index(home_line: List[PlayerType], away_line: List[PlayerType]) -> str:\n",
    "        return ''.join(list(map(str, home_line + away_line)))\n",
    "\n",
    "    def __init__(self):\n",
    "        pass\n",
    "\n",
    "    @abstractmethod\n",
    "    def get(self, home_line: List[PlayerType], away_line: List[PlayerType]) -> float:\n",
    "        raise NotImplementedError\n",
    "\n",
    "class QValuesFetcherFromDict(QValuesFetcher):\n",
    "\n",
    "    def __init__(self, a_dict: Dict):\n",
    "        QValuesFetcher.__init__(self)\n",
    "        self.dict = a_dict\n",
    "\n",
    "    @classmethod\n",
    "    def from_tuples(cls, q_value_tuples: List[Tuple[List[PlayerType], List[PlayerType], float]]):\n",
    "        q_value_dict = {}\n",
    "        for v in q_value_tuples:\n",
    "            home_line, away_line, q_value = v\n",
    "            for home_line_comb in list(set(itertools.permutations(home_line))):\n",
    "                for away_line_comb in list(set(itertools.permutations(away_line))):\n",
    "                    q_value_dict[QValuesFetcher.lines_to_index(home_line_comb, away_line_comb)] = q_value\n",
    "        print(\"Q value dictionary has %d entries\" % (len(q_value_dict)))\n",
    "        return cls(a_dict=q_value_dict)\n",
    "\n",
    "    def get(self, home_line: Set[PlayerType], away_line: Set[PlayerType]) -> float:\n",
    "        from math import floor\n",
    "        from random import uniform\n",
    "        \n",
    "        return uniform(1,30)\n",
    "        # return self.dict[QValuesFetcher.lines_to_index(list(home_line), list(away_line))]\n",
    "# ###########################################################################################\n",
    "# ###########################################################################################\n",
    "# ###########################################################################################\n",
    "\n"
   ]
  },
  {
   "cell_type": "code",
   "execution_count": null,
   "metadata": {
    "collapsed": true
   },
   "outputs": [],
   "source": []
  },
  {
   "cell_type": "code",
   "execution_count": null,
   "metadata": {
    "collapsed": true
   },
   "outputs": [],
   "source": [
    "q_value_tuples = [\n",
    "    ([PlayerType.NEUTRAL, PlayerType.NEUTRAL, PlayerType.OFFENSIVE],\n",
    "     [PlayerType.OFFENSIVE, PlayerType.DEFENSIVE, PlayerType.DEFENSIVE],\n",
    "    25),\n",
    "    ([PlayerType.NEUTRAL, PlayerType.NEUTRAL, PlayerType.OFFENSIVE],\n",
    "     [PlayerType.NEUTRAL, PlayerType.NEUTRAL, PlayerType.NEUTRAL],\n",
    "    12),\n",
    "    ([PlayerType.NEUTRAL, PlayerType.NEUTRAL, PlayerType.NEUTRAL],\n",
    "     [PlayerType.OFFENSIVE, PlayerType.DEFENSIVE, PlayerType.DEFENSIVE],\n",
    "    20),\n",
    "    ([PlayerType.NEUTRAL, PlayerType.NEUTRAL, PlayerType.NEUTRAL],\n",
    "     [PlayerType.NEUTRAL, PlayerType.NEUTRAL, PlayerType.NEUTRAL],\n",
    "    1),\n",
    "]\n"
   ]
  },
  {
   "cell_type": "code",
   "execution_count": null,
   "metadata": {},
   "outputs": [],
   "source": [
    "class LineRecommender(object):\n",
    "\n",
    "    def __init__(self, player_category_fetcher: CategoryFetcher, q_values_fetcher: QValuesFetcher):\n",
    "        self.player_category_fetcher=player_category_fetcher\n",
    "        self.q_values_fetcher=q_values_fetcher\n",
    "\n",
    "\n",
    "    def recommend_lines(\n",
    "            self,\n",
    "            home_team_players_ids: Set[int],\n",
    "            away_team_lines: List[List[PlayerType]],\n",
    "            comb_q_values: Callable[[List[float]], float]) -> List[List[int]]:\n",
    "        \"\"\"\n",
    "        Builds optimal lines for home team.\n",
    "        Args:\n",
    "            home_team_players_ids: a list of id's for home team.\n",
    "            away_team_lines: 4 lines of away team. Each line is composed of 3 players, represented by their class (0 = defensive, 2 = offensive, 1 = neither)\n",
    "            q_values: a function that given 2 lines (represented by CLASSES of players) returns the q-value of the home team line.\n",
    "            comb_q_values: how to combine the q-values in order to obtain a \"fitness\" for a formation (larger is better).\n",
    "        Returns:\n",
    "\n",
    "        \"\"\"\n",
    "        import datetime\n",
    "        assert len(home_team_players_ids) == len(set(home_team_players_ids)), \"There are repeated ids in the home team\"\n",
    "        assert len(away_team_lines) == 4, \"I need a formation (ie, 4 lines) for away team\"\n",
    "\n",
    "        away_line_1, away_line_2, away_line_3, away_line_4 = away_team_lines\n",
    "        best_fitness = None\n",
    "        best_formation = None\n",
    "        how_many_first_lines_tried = 0\n",
    "        #\n",
    "        entry_timestamp = datetime.datetime.now().timestamp()\n",
    "        for home_line_1_ids in itertools.combinations(home_team_players_ids, 3):\n",
    "            best_formation_found = False\n",
    "            for home_line_2_ids in itertools.combinations(home_team_players_ids -  set(home_line_1_ids), 3):\n",
    "                for home_line_3_ids in itertools.combinations(\n",
    "                                        home_team_players_ids - set(home_line_1_ids) - set(home_line_2_ids), 3):\n",
    "                    for home_line_4_ids in itertools.combinations(\n",
    "                                        home_team_players_ids - set(home_line_1_ids) - set(home_line_2_ids) - set(home_line_3_ids), 3):\n",
    "                        home_formation = [home_line_1_ids, home_line_2_ids, home_line_3_ids, home_line_4_ids]\n",
    "\n",
    "                        # print(home_formation)\n",
    "                        # get lines with CATEGORY of players\n",
    "                        home_line_1 = list(map(self.player_category_fetcher.category_of_player, home_line_1_ids))\n",
    "                        home_line_2 = list(map(self.player_category_fetcher.category_of_player, home_line_2_ids))\n",
    "                        home_line_3 = list(map(self.player_category_fetcher.category_of_player, home_line_3_ids))\n",
    "                        home_line_4 = list(map(self.player_category_fetcher.category_of_player, home_line_4_ids))\n",
    "                        # ok, then:\n",
    "                        qs = [self.q_values_fetcher.get(home_line_1, away_line_1),\n",
    "                              self.q_values_fetcher.get(home_line_2, away_line_2),\n",
    "                              self.q_values_fetcher.get(home_line_3, away_line_3),\n",
    "                              self.q_values_fetcher.get(home_line_4, away_line_4)]\n",
    "                        fitness = comb_q_values(qs)\n",
    "                        # print(qs)\n",
    "                        if (best_fitness is None) or (fitness > best_fitness):\n",
    "                            best_fitness = fitness\n",
    "                            best_formation = home_formation\n",
    "                            best_formation_found = True\n",
    "                            print(\"Best fitness: %.2f by formation %s\" % (best_fitness, best_formation))\n",
    "\n",
    "\n",
    "            how_many_first_lines_tried += 1\n",
    "            if best_formation_found:\n",
    "                time_it_took = datetime.datetime.now().timestamp() - entry_timestamp\n",
    "                time_per_cycle = time_it_took / how_many_first_lines_tried\n",
    "                print(\"=======> Took %.2f secs. to look at %d first-lines; I think we have around %.2f secs. to go\" % (\n",
    "                time_it_took, how_many_first_lines_tried, (220 - how_many_first_lines_tried) * time_per_cycle))\n",
    "\n",
    "        print(\"ALL DONE!!!!!!\")\n",
    "        print(\"================================\")\n",
    "        print(\"Best fitness: %.2f by formation \\n%s, to play against \\n%s\" % (best_fitness, best_formation, away_team_lines))\n",
    "        print(\"================================\")\n",
    "        return best_formation\n",
    "\n",
    "    def recommend_lines_maximize_average(\n",
    "            self,\n",
    "            home_team_players_ids: Set[int],\n",
    "            away_team_lines: List[List[PlayerType]]) -> List[List[int]]:\n",
    "        return self.recommend_lines(home_team_players_ids, away_team_lines, comb_q_values=(lambda a_list: sum(a_list) / len(a_list)))\n",
    "\n",
    "    def recommend_lines_maximize_max(\n",
    "            self,\n",
    "            home_team_players_ids: Set[int],\n",
    "            away_team_lines: List[List[PlayerType]]) -> List[List[int]]:\n",
    "        return self.recommend_lines(home_team_players_ids, away_team_lines, comb_q_values=(lambda a_list: max(a_list)))\n",
    "# ###########################################################################################\n",
    "# ###########################################################################################\n",
    "# ###########################################################################################\n",
    "\n",
    "\n",
    "# ############################################################\n",
    "# PUT ALL THE FOLLOWING INTO TESTING\n",
    "\n"
   ]
  },
  {
   "cell_type": "code",
   "execution_count": null,
   "metadata": {},
   "outputs": [],
   "source": [
    "line_rec = LineRecommender(\n",
    "    player_category_fetcher=CategoryFetcher(data_for_game=mtlott),\n",
    "    q_values_fetcher=QValuesFetcherFromDict.from_tuples(q_value_tuples))\n",
    "\n"
   ]
  },
  {
   "cell_type": "code",
   "execution_count": null,
   "metadata": {},
   "outputs": [],
   "source": [
    "home_lines_rec = line_rec.recommend_lines_maximize_average(\n",
    "                                home_team_players_ids=get_MTL_players(players_classes),\n",
    "                                away_team_lines = away_lines)\n",
    "print(home_lines_rec)\n"
   ]
  },
  {
   "cell_type": "code",
   "execution_count": null,
   "metadata": {
    "collapsed": true
   },
   "outputs": [],
   "source": []
  }
 ],
 "metadata": {
  "kernelspec": {
   "display_name": "Python 3",
   "language": "python",
   "name": "python3"
  },
  "language_info": {
   "codemirror_mode": {
    "name": "ipython",
    "version": 3
   },
   "file_extension": ".py",
   "mimetype": "text/x-python",
   "name": "python",
   "nbconvert_exporter": "python",
   "pygments_lexer": "ipython3",
   "version": "3.5.2"
  }
 },
 "nbformat": 4,
 "nbformat_minor": 2
}

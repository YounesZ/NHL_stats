{
 "cells": [
  {
   "cell_type": "code",
   "execution_count": 1,
   "metadata": {},
   "outputs": [],
   "source": [
    "from ReinforcementLearning.NHL.playerstats.nhl_player_stats import *\n",
    "from ReinforcementLearning.NHL.playbyplay.game import *"
   ]
  },
  {
   "cell_type": "code",
   "execution_count": 2,
   "metadata": {},
   "outputs": [],
   "source": [
    "# Pointers to the data\n",
    "# repoCode    =   '/Users/younes_zerouali/Documents/Stradigi/Code/NHL_stats_SL'\n",
    "# repoCode    =   '/Users/luisd/dev/NHL_stats'\n",
    "repoCode    =   '/home/younesz/Documents/Code/NHL_stats_SL'\n",
    "db_root     =   '/home/younesz/Documents/Databases/Hockey'        #This is the location of the Hockey database\n",
    "# db_root     =   '/Users/younes_zerouali/Documents/Stradigi/Databases/Hockey'\n",
    "# db_root     =   '/Users/luisd/dev/NHL_stats/data'\n",
    "repoPbP     =   path.join(db_root, 'PlayByPlay')\n",
    "repoPSt     =   path.join(db_root, 'PlayerStats/player')\n",
    "repoModel   =   path.join(repoCode, 'ReinforcementLearning/NHL/playerstats/offVSdef/Automatic_classification/MODEL_backup_trainedonallseasons_rankstatprediction')\n",
    "repoModel   =   path.join(repoCode, 'ReinforcementLearning/NHL/playerstats/offVSdef/Automatic_classification/MODEL_perceptron_1layer_10units_relu')\n",
    "repoSave    =   None #path.join(repoCode, 'ReinforcementLearning/NHL/playbyplay/data')"
   ]
  },
  {
   "cell_type": "code",
   "execution_count": 3,
   "metadata": {},
   "outputs": [],
   "source": [
    "def get_game_id(home_team_abbr, date_as_str):\n",
    "    \"\"\"\n",
    "    let's convert game date to game code.\n",
    "    For example Montreal received Ottawa on march 13, 2013 =>\n",
    "        gameId = get_game_id(home_team_abbr='MTL', date_as_str='2013-03-13')\n",
    "    \"\"\"\n",
    "    try:\n",
    "        gameInfo    =   pickle.load( open(path.join(db_root, 'gamesInfo.p'), 'rb') )\n",
    "        gameInfo    =   gameInfo[gameInfo['gameDate']==date_as_str][gameInfo['teamAbbrev']==home_team_abbr]\n",
    "        gameId      =   gameInfo['gameId']\n",
    "        gameId      =   int( gameId.values.astype('str')[0][5:] )\n",
    "        return gameId\n",
    "    except Exception as e:\n",
    "        raise IndexError(\"There was no game for '%s' on '%s'\" % (home_team_abbr, date_as_str))"
   ]
  },
  {
   "cell_type": "code",
   "execution_count": 4,
   "metadata": {},
   "outputs": [],
   "source": [
    "# ==== Second the players data\n",
    "\n",
    "def get_players_classes(repoModel, data_for_game, number_of_games):\n",
    "    \"\"\"\n",
    "    Calculates (dataframe with) all player's classes.\n",
    "    Updates the 'data for game' structure with it; also returns it.\n",
    "    Usage:\n",
    "        repoModel = ... # here goes the directory where your model is saved.\n",
    "        # Montreal received Ottawa on march 13, 2013\n",
    "        gameId = get_game_id(home_team_abbr='MTL', date_as_str='2013-03-13')\n",
    "        season      =   '20122013'\n",
    "        mtlott      =   Game(repoPbP, repoPSt, season, gameId=gameId )\n",
    "        #\n",
    "        players_classes = get_players_classes(repoModel, mtlott, number_of_games=30)\n",
    "        # this is equivalent to ask 'mtlott' for the data; so:\n",
    "        assert players_classes.equals(mtlott.player_classes)\n",
    "    \"\"\"\n",
    "    # Need to load the data pre-processing variables\n",
    "    preprocessing  =   pickle.load(open(path.join(repoModel, 'baseVariables.p'), 'rb'))\n",
    "\n",
    "    # Need to load the classification model (for players' predicted ranking on trophies voting lists)\n",
    "    classifier          =   {'sess':tf.Session(), 'annX':[], 'annY':[]}\n",
    "    saver               =   tf.train.import_meta_graph(path.join(repoModel, path.basename(repoModel) + '.meta'))\n",
    "    graph               =   classifier['sess'].graph\n",
    "    classifier['annX']  =   graph.get_tensor_by_name('Input_to_the_network-player_features:0')\n",
    "    classifier['annY']  =   graph.get_tensor_by_name('prediction:0')\n",
    "    saver.restore(classifier['sess'], tf.train.latest_checkpoint(path.join(repoModel, './')))\n",
    "\n",
    "    # Pick players stats - last 'n' games \n",
    "    data_for_game.pull_line_shifts(team='both', minduration=20)\n",
    "    data_for_game.pick_regulartime()\n",
    "    data_for_game.pick_equalstrength()\n",
    "    data_for_game.pull_players_classes(preprocessing, classifier, nGames=number_of_games)\n",
    "    return data_for_game.player_classes"
   ]
  },
  {
   "cell_type": "code",
   "execution_count": 136,
   "metadata": {},
   "outputs": [
    {
     "name": "stdout",
     "output_type": "stream",
     "text": [
      "INFO:tensorflow:Restoring parameters from /home/younesz/Documents/Code/NHL_stats_SL/ReinforcementLearning/NHL/playerstats/offVSdef/Automatic_classification/MODEL_perceptron_1layer_10units_relu/MODEL_perceptron_1layer_10units_relu\n"
     ]
    },
    {
     "name": "stderr",
     "output_type": "stream",
     "text": [
      "INFO:tensorflow:Restoring parameters from /home/younesz/Documents/Code/NHL_stats_SL/ReinforcementLearning/NHL/playerstats/offVSdef/Automatic_classification/MODEL_perceptron_1layer_10units_relu/MODEL_perceptron_1layer_10units_relu\n"
     ]
    }
   ],
   "source": [
    "# ==== Third the classification model\n",
    "\n",
    "# Prepare players model:reload info\n",
    "players_model  =   pickle.load(open(path.join(repoModel, 'baseVariables.p'), 'rb'))\n",
    "classifier     =   {'sess':tf.Session(), 'annX':[], 'annY':[]}\n",
    "saver          =   tf.train.import_meta_graph(path.join(repoModel, path.basename(repoModel) + '.meta'))\n",
    "graph          =   classifier['sess'].graph\n",
    "classifier['annX'] =   graph.get_tensor_by_name('Input_to_the_network-player_features:0')\n",
    "classifier['annY'] =   graph.get_tensor_by_name('prediction:0')\n",
    "saver.restore(classifier['sess'], tf.train.latest_checkpoint(path.join(repoModel, './')))    \n"
   ]
  },
  {
   "cell_type": "markdown",
   "metadata": {},
   "source": [
    "# FIRST: List all teams in the league\n"
   ]
  },
  {
   "cell_type": "code",
   "execution_count": 166,
   "metadata": {},
   "outputs": [],
   "source": [
    "# Select a season\n",
    "season = '20122013'\n",
    "\n",
    "# List all games\n",
    "HSS    = HockeySS(repoPbP, repoPSt)\n",
    "HSS.list_all_games()\n",
    "\n",
    "# Keep only selected season\n",
    "HSS.games_lst  =  HSS.games_lst[HSS.games_lst['season']==int(season)] \n",
    "\n",
    "# List all teams\n",
    "allTeams  =  HSS.games_lst[['hometeam', 'awayteam']]\n",
    "allTeams  =  np.unique( np.concatenate(allTeams.values) )\n",
    "\n",
    "# Initialize empty containers\n",
    "seaInfo   =  dict([(x, pd.DataFrame(columns=['gameCode', 'avgQ', 'points', 'goalsFor', 'goalsAg'])) for x in allTeams])"
   ]
  },
  {
   "cell_type": "markdown",
   "metadata": {},
   "source": [
    "# SECOND: Determine game Qvalues and points"
   ]
  },
  {
   "cell_type": "code",
   "execution_count": 167,
   "metadata": {},
   "outputs": [],
   "source": [
    "# Line translation table\n",
    "linedict  =  HockeySS(repoPbP, repoPSt)\n",
    "linedict.make_line_dictionary()\n",
    "linedict  =  linedict.line_dictionary\n",
    "\n",
    "# Qvalue table\n",
    "# Load the Qvalues table\n",
    "Qvalues   =  pickle.load( open(path.join(repoCode, 'ReinforcementLearning/NHL/playbyplay/data/RL_action_values.p'), 'rb') )['action_values']\n",
    "\n"
   ]
  },
  {
   "cell_type": "code",
   "execution_count": null,
   "metadata": {},
   "outputs": [
    {
     "name": "stdout",
     "output_type": "stream",
     "text": [
      "Game 700/806: [==================================      ] 86%, completed"
     ]
    }
   ],
   "source": [
    "# Loop on games\n",
    "count  =  0\n",
    "for iG in range( len(HSS.games_lst) ):\n",
    "    \n",
    "    # Get game code\n",
    "    gameCode = HSS.games_lst.iloc[iG]['gcode']\n",
    "    \n",
    "    # Get game data\n",
    "    gameData = Game(repoPbP, repoPSt, season, gameCode)\n",
    "    gameData.pull_line_shifts('both', minduration=20)\n",
    "    gameData.pick_regulartime()\n",
    "    gameData.pick_equalstrength()\n",
    "    gameData.pull_players_classes(players_model, classifier)\n",
    "    \n",
    "    # Get game score\n",
    "    homeTeam     =   HSS.games_lst.iloc[iG]['hometeam']\n",
    "    goals        =   gameData.df[gameData.df['gcode']==gameCode]\n",
    "    goals        =   goals[goals['etype']=='GOAL']['ev.team']\n",
    "    homeTeam     =   HSS.games_lst.iloc[iG]['hometeam']\n",
    "    goals        =   gameData.df[gameData.df['gcode']==gameCode]\n",
    "    goals        =   goals[goals['etype']=='GOAL']['ev.team']\n",
    "    points       =   int( (goals==homeTeam).sum() > (goals!=homeTeam).sum() ) * 2\n",
    "    if gameData.df[gameData.df['gcode']==gameCode].iloc[-1]['period']>3:\n",
    "        points   =   np.maximum(1, points)\n",
    "        \n",
    "    # Get state-space\n",
    "    playersCode  =   gameData.encode_line_players()\n",
    "    linesCode    =   np.array( [[gameData.recode_line(linedict, a) for a in b] for b in playersCode] )\n",
    "    perCode      =   gameData.recode_period(gameData.lineShifts['period'])\n",
    "    difCode      =   gameData.recode_differential(gameData.lineShifts['differential'])\n",
    "    \n",
    "    # Get info for home team\n",
    "    qv_shifts    =   [Qvalues[w,x,y,z] for w,x,y,z in zip(perCode, difCode, linesCode[:,1], linesCode[:,0])]\n",
    "    \n",
    "    # Append this game to the team's data\n",
    "    seaInfo[homeTeam]  =  pd.concat( (seaInfo[homeTeam], pd.DataFrame( np.reshape([gameCode, np.mean(qv_shifts), points, (goals==homeTeam).sum(), (goals!=homeTeam).sum()], [1,5]), columns=['gameCode', 'avgQ', 'points', 'goalsFor', 'goalsAg'] )), ignore_index=True )\n",
    " \n",
    "    count+=1\n",
    "    if count % 100 == 0:\n",
    "        stdout.write('\\r')\n",
    "        # the exact output you're looking for:\n",
    "        stdout.write(\"Game %i/%i: [%-40s] %d%%, completed\" % (count, len(HSS.games_lst), '=' * int(count / len(HSS.games_lst) * 40), 100 * count / len(HSS.games_lst)))\n",
    "        stdout.flush()"
   ]
  },
  {
   "cell_type": "code",
   "execution_count": 165,
   "metadata": {},
   "outputs": [
    {
     "data": {
      "text/plain": [
       "{'ANA': Empty DataFrame\n",
       " Columns: [gameCode, avgQ, points, goalsFor, goalsAg]\n",
       " Index: [], 'BOS': Empty DataFrame\n",
       " Columns: [gameCode, avgQ, points, goalsFor, goalsAg]\n",
       " Index: [], 'BUF': Empty DataFrame\n",
       " Columns: [gameCode, avgQ, points, goalsFor, goalsAg]\n",
       " Index: [], 'CAR': Empty DataFrame\n",
       " Columns: [gameCode, avgQ, points, goalsFor, goalsAg]\n",
       " Index: [], 'CBJ': Empty DataFrame\n",
       " Columns: [gameCode, avgQ, points, goalsFor, goalsAg]\n",
       " Index: [], 'CGY': Empty DataFrame\n",
       " Columns: [gameCode, avgQ, points, goalsFor, goalsAg]\n",
       " Index: [], 'CHI': Empty DataFrame\n",
       " Columns: [gameCode, avgQ, points, goalsFor, goalsAg]\n",
       " Index: [], 'COL': Empty DataFrame\n",
       " Columns: [gameCode, avgQ, points, goalsFor, goalsAg]\n",
       " Index: [], 'DAL': Empty DataFrame\n",
       " Columns: [gameCode, avgQ, points, goalsFor, goalsAg]\n",
       " Index: [], 'DET': Empty DataFrame\n",
       " Columns: [gameCode, avgQ, points, goalsFor, goalsAg]\n",
       " Index: [], 'EDM': Empty DataFrame\n",
       " Columns: [gameCode, avgQ, points, goalsFor, goalsAg]\n",
       " Index: [], 'FLA': Empty DataFrame\n",
       " Columns: [gameCode, avgQ, points, goalsFor, goalsAg]\n",
       " Index: [], 'L.A': Empty DataFrame\n",
       " Columns: [gameCode, avgQ, points, goalsFor, goalsAg]\n",
       " Index: [], 'MIN': Empty DataFrame\n",
       " Columns: [gameCode, avgQ, points, goalsFor, goalsAg]\n",
       " Index: [], 'MTL': Empty DataFrame\n",
       " Columns: [gameCode, avgQ, points, goalsFor, goalsAg]\n",
       " Index: [], 'N.J': Empty DataFrame\n",
       " Columns: [gameCode, avgQ, points, goalsFor, goalsAg]\n",
       " Index: [], 'NSH': Empty DataFrame\n",
       " Columns: [gameCode, avgQ, points, goalsFor, goalsAg]\n",
       " Index: [], 'NYI': Empty DataFrame\n",
       " Columns: [gameCode, avgQ, points, goalsFor, goalsAg]\n",
       " Index: [], 'NYR': Empty DataFrame\n",
       " Columns: [gameCode, avgQ, points, goalsFor, goalsAg]\n",
       " Index: [], 'OTT': Empty DataFrame\n",
       " Columns: [gameCode, avgQ, points, goalsFor, goalsAg]\n",
       " Index: [], 'PHI':      gameCode      avgQ  points  goalsFor  goalsAg\n",
       " 0     20001.0  2.813321     0.0       1.0      3.0\n",
       " 1     20001.0  2.813321     0.0       1.0      3.0\n",
       " 2     20001.0  2.813321     0.0       1.0      3.0\n",
       " 3     20001.0  2.813321     0.0       1.0      3.0\n",
       " 4     20001.0  2.813321     0.0       1.0      3.0\n",
       " 5     20001.0  2.813321     0.0       1.0      3.0\n",
       " 6     20001.0  2.813321     0.0       1.0      3.0\n",
       " 7     20001.0  2.813321     0.0       1.0      3.0\n",
       " 8     20001.0  2.813321     0.0       1.0      3.0\n",
       " 9     20001.0  2.813321     0.0       1.0      3.0\n",
       " 10    20001.0  2.813321     0.0       1.0      3.0\n",
       " 11    20001.0  2.813321     0.0       1.0      3.0\n",
       " 12    20001.0  2.813321     0.0       1.0      3.0\n",
       " 13    20001.0  2.813321     0.0       1.0      3.0\n",
       " 14    20001.0  2.813321     0.0       1.0      3.0\n",
       " 15    20001.0  2.813321     0.0       1.0      3.0\n",
       " 16    20001.0  2.813321     0.0       1.0      3.0\n",
       " 17    20001.0  2.813321     0.0       1.0      3.0\n",
       " 18    20001.0  2.813321     0.0       1.0      3.0\n",
       " 19    20001.0  2.813321     0.0       1.0      3.0\n",
       " 20    20001.0  2.813321     0.0       1.0      3.0\n",
       " 21    20001.0  2.813321     0.0       1.0      3.0\n",
       " 22    20001.0  2.813321     0.0       1.0      3.0\n",
       " 23    20001.0  2.813321     0.0       1.0      3.0\n",
       " 24    20001.0  2.813321     0.0       1.0      3.0\n",
       " 25    20001.0  2.813321     0.0       1.0      3.0\n",
       " 26    20001.0  2.813321     0.0       1.0      3.0\n",
       " 27    20001.0  2.813321     0.0       1.0      3.0\n",
       " 28    20001.0  2.813321     0.0       1.0      3.0\n",
       " 29    20001.0  2.813321     0.0       1.0      3.0\n",
       " ..        ...       ...     ...       ...      ...\n",
       " 777   20001.0  2.813321     0.0       1.0      3.0\n",
       " 778   20001.0  2.813321     0.0       1.0      3.0\n",
       " 779   20001.0  2.813321     0.0       1.0      3.0\n",
       " 780   20001.0  2.813321     0.0       1.0      3.0\n",
       " 781   20001.0  2.813321     0.0       1.0      3.0\n",
       " 782   20001.0  2.813321     0.0       1.0      3.0\n",
       " 783   20001.0  2.813321     0.0       1.0      3.0\n",
       " 784   20001.0  2.813321     0.0       1.0      3.0\n",
       " 785   20001.0  2.813321     0.0       1.0      3.0\n",
       " 786   20001.0  2.813321     0.0       1.0      3.0\n",
       " 787   20001.0  2.813321     0.0       1.0      3.0\n",
       " 788   20001.0  2.813321     0.0       1.0      3.0\n",
       " 789   20001.0  2.813321     0.0       1.0      3.0\n",
       " 790   20001.0  2.813321     0.0       1.0      3.0\n",
       " 791   20001.0  2.813321     0.0       1.0      3.0\n",
       " 792   20001.0  2.813321     0.0       1.0      3.0\n",
       " 793   20001.0  2.813321     0.0       1.0      3.0\n",
       " 794   20001.0  2.813321     0.0       1.0      3.0\n",
       " 795   20001.0  2.813321     0.0       1.0      3.0\n",
       " 796   20001.0  2.813321     0.0       1.0      3.0\n",
       " 797   20001.0  2.813321     0.0       1.0      3.0\n",
       " 798   20001.0  2.813321     0.0       1.0      3.0\n",
       " 799   20001.0  2.813321     0.0       1.0      3.0\n",
       " 800   20001.0  2.813321     0.0       1.0      3.0\n",
       " 801   20001.0  2.813321     0.0       1.0      3.0\n",
       " 802   20001.0  2.813321     0.0       1.0      3.0\n",
       " 803   20001.0  2.813321     0.0       1.0      3.0\n",
       " 804   20001.0  2.813321     0.0       1.0      3.0\n",
       " 805   20001.0  2.813321     0.0       1.0      3.0\n",
       " 806   20001.0  2.813321     0.0       1.0      3.0\n",
       " \n",
       " [807 rows x 5 columns], 'PHX': Empty DataFrame\n",
       " Columns: [gameCode, avgQ, points, goalsFor, goalsAg]\n",
       " Index: [], 'PIT': Empty DataFrame\n",
       " Columns: [gameCode, avgQ, points, goalsFor, goalsAg]\n",
       " Index: [], 'S.J': Empty DataFrame\n",
       " Columns: [gameCode, avgQ, points, goalsFor, goalsAg]\n",
       " Index: [], 'STL': Empty DataFrame\n",
       " Columns: [gameCode, avgQ, points, goalsFor, goalsAg]\n",
       " Index: [], 'T.B': Empty DataFrame\n",
       " Columns: [gameCode, avgQ, points, goalsFor, goalsAg]\n",
       " Index: [], 'TOR': Empty DataFrame\n",
       " Columns: [gameCode, avgQ, points, goalsFor, goalsAg]\n",
       " Index: [], 'VAN': Empty DataFrame\n",
       " Columns: [gameCode, avgQ, points, goalsFor, goalsAg]\n",
       " Index: [], 'WPG': Empty DataFrame\n",
       " Columns: [gameCode, avgQ, points, goalsFor, goalsAg]\n",
       " Index: [], 'WSH': Empty DataFrame\n",
       " Columns: [gameCode, avgQ, points, goalsFor, goalsAg]\n",
       " Index: []}"
      ]
     },
     "execution_count": 165,
     "metadata": {},
     "output_type": "execute_result"
    }
   ],
   "source": [
    "\n",
    "seaInfo"
   ]
  },
  {
   "cell_type": "code",
   "execution_count": null,
   "metadata": {},
   "outputs": [],
   "source": []
  }
 ],
 "metadata": {
  "kernelspec": {
   "display_name": "Python 3",
   "language": "python",
   "name": "python3"
  },
  "language_info": {
   "codemirror_mode": {
    "name": "ipython",
    "version": 3
   },
   "file_extension": ".py",
   "mimetype": "text/x-python",
   "name": "python",
   "nbconvert_exporter": "python",
   "pygments_lexer": "ipython3",
   "version": "3.5.2"
  }
 },
 "nbformat": 4,
 "nbformat_minor": 2
}

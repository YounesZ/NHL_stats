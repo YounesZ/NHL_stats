{
 "cells": [
  {
   "cell_type": "code",
   "execution_count": 1,
   "metadata": {},
   "outputs": [],
   "source": [
    "import tensorflow as tf\n",
    "import matplotlib.pyplot as plt\n",
    "import numpy as np"
   ]
  },
  {
   "cell_type": "code",
   "execution_count": 2,
   "metadata": {},
   "outputs": [],
   "source": [
    "%matplotlib inline"
   ]
  },
  {
   "cell_type": "code",
   "execution_count": 3,
   "metadata": {},
   "outputs": [],
   "source": [
    "# Make the model - 5 layers with sigmoid activation\n",
    "nChannels = [3, 6, 12]\n",
    "filtSize1 = [5,5]\n",
    "filtSize2 = [4,4]\n",
    "imChannels = 1 # Gray scale image\n",
    "X = tf.placeholder(tf.float32, [None, 28, 28, 1])\n",
    "W1 = tf.Variable(tf.truncated_normal(filtSize1+[imChannels, nChannels[0]], stddev=0.1))\n",
    "b1 = tf.Variable(tf.ones([nChannels[0]])/10)\n",
    "\n",
    "W2 = tf.Variable(tf.truncated_normal(filtSize2+nChannels[:2], stddev=0.1))\n",
    "b2 = tf.Variable(tf.ones([nChannels[1]])/10)\n",
    "\n",
    "W3 = tf.Variable(tf.truncated_normal(filtSize2+nChannels[1:], stddev=0.1))\n",
    "b3 = tf.Variable(tf.ones([nChannels[2]])/10)\n",
    "\n",
    "Nfc= 200\n",
    "W4 = tf.Variable(tf.truncated_normal([7*7*nChannels[-1], Nfc], stddev=0.1))\n",
    "b4 = tf.Variable(tf.ones([Nfc])/10)\n",
    "\n",
    "W5 = tf.Variable(tf.truncated_normal([Nfc, 10], stddev=0.1))\n",
    "b5 = tf.Variable(tf.ones(10)/10)"
   ]
  },
  {
   "cell_type": "code",
   "execution_count": 4,
   "metadata": {},
   "outputs": [],
   "source": [
    "init = tf.global_variables_initializer()"
   ]
  },
  {
   "cell_type": "code",
   "execution_count": 5,
   "metadata": {},
   "outputs": [],
   "source": [
    "# Dropout probability\n",
    "pKeep = tf.placeholder(tf.float32)\n",
    "\n",
    "# Model\n",
    "Y1 = tf.nn.relu( tf.nn.conv2d(X,W1, strides=[1,1,1,1], padding='SAME') + b1)\n",
    "Y2 = tf.nn.relu( tf.nn.conv2d(Y1,W2, strides=[1,2,2,1], padding='SAME') + b2)\n",
    "Y3 = tf.nn.relu( tf.nn.conv2d(Y2, W3, strides=[1,2,2,1], padding='SAME') + b3)\n",
    "\n",
    "# Flatten output of convolutional layers\n",
    "YY = tf.reshape( Y3, shape=[-1, 7*7*nChannels[-1]])\n",
    "# Connect convolutional layer to FC layer\n",
    "Y4 = tf.nn.relu( tf.matmul(YY, W4) + b4) \n",
    "Y4d= tf.nn.dropout( Y4, pKeep )\n",
    "Y5 = tf.nn.softmax( tf.matmul(Y4d, W5) + b5) * (1-1e-8) + 1e-8\n",
    "\n",
    "# Prepare teacher vector\n",
    "Y_ = tf.placeholder(tf.float32, [None, 10])"
   ]
  },
  {
   "cell_type": "code",
   "execution_count": 6,
   "metadata": {},
   "outputs": [],
   "source": [
    "# Loss\n",
    "cost = -tf.reduce_sum(Y_ * tf.log(Y5))"
   ]
  },
  {
   "cell_type": "code",
   "execution_count": 7,
   "metadata": {},
   "outputs": [],
   "source": [
    "# Nb of correct answers in batch\n",
    "is_correct = tf.equal( tf.argmax(Y_, 1), tf.argmax(Y5, 1) )\n",
    "accuracy = tf.reduce_mean( tf.cast(is_correct, tf.float32))"
   ]
  },
  {
   "cell_type": "code",
   "execution_count": 8,
   "metadata": {},
   "outputs": [
    {
     "data": {
      "text/plain": [
       "0.0030000000000000001"
      ]
     },
     "execution_count": 8,
     "metadata": {},
     "output_type": "execute_result"
    }
   ],
   "source": [
    "dec = 0.003 / np.exp( np.array(range(10000))/3000 )\n",
    "dec[0]"
   ]
  },
  {
   "cell_type": "code",
   "execution_count": 9,
   "metadata": {},
   "outputs": [],
   "source": [
    "# Training - set training method\n",
    "decay = tf.placeholder(tf.float32)\n",
    "optimizer = tf.train.GradientDescentOptimizer( decay )\n",
    "# Training - make a step\n",
    "train_step = optimizer.minimize(cost)"
   ]
  },
  {
   "cell_type": "code",
   "execution_count": 10,
   "metadata": {},
   "outputs": [
    {
     "name": "stdout",
     "output_type": "stream",
     "text": [
      "Extracting /Users/younes_zerouali/Documents/Stradigi/Databases/MNIST/train-images-idx3-ubyte.gz\n",
      "Extracting /Users/younes_zerouali/Documents/Stradigi/Databases/MNIST/train-labels-idx1-ubyte.gz\n",
      "Extracting /Users/younes_zerouali/Documents/Stradigi/Databases/MNIST/t10k-images-idx3-ubyte.gz\n",
      "Extracting /Users/younes_zerouali/Documents/Stradigi/Databases/MNIST/t10k-labels-idx1-ubyte.gz\n"
     ]
    }
   ],
   "source": [
    "# Load data\n",
    "import utils.RBrown_input_data as rbm\n",
    "dt_path = '/Users/younes_zerouali/Documents/Stradigi/Databases/MNIST' \n",
    "mnist = rbm.read_data_sets(dt_path, one_hot=True)"
   ]
  },
  {
   "cell_type": "code",
   "execution_count": 11,
   "metadata": {},
   "outputs": [],
   "source": [
    "sess = tf.Session()\n",
    "sess.run(init)"
   ]
  },
  {
   "cell_type": "code",
   "execution_count": 12,
   "metadata": {},
   "outputs": [
    {
     "name": "stdout",
     "output_type": "stream",
     "text": [
      "Accuracy at iteration 0: 0.100000\n",
      "Accuracy at iteration 99: 0.860000\n",
      "Accuracy at iteration 198: 0.960000\n",
      "Accuracy at iteration 297: 0.960000\n",
      "Accuracy at iteration 396: 0.990000\n",
      "Accuracy at iteration 495: 0.970000\n",
      "Accuracy at iteration 594: 0.970000\n",
      "Accuracy at iteration 693: 0.990000\n",
      "Accuracy at iteration 792: 0.970000\n",
      "Accuracy at iteration 891: 0.970000\n",
      "Accuracy at iteration 990: 0.990000\n",
      "Accuracy at iteration 1089: 1.000000\n",
      "Accuracy at iteration 1188: 0.980000\n",
      "Accuracy at iteration 1287: 0.980000\n",
      "Accuracy at iteration 1386: 0.980000\n",
      "Accuracy at iteration 1485: 0.990000\n",
      "Accuracy at iteration 1584: 0.990000\n",
      "Accuracy at iteration 1683: 0.990000\n",
      "Accuracy at iteration 1782: 0.980000\n",
      "Accuracy at iteration 1881: 1.000000\n",
      "Accuracy at iteration 1980: 0.980000\n",
      "Accuracy at iteration 2079: 0.990000\n",
      "Accuracy at iteration 2178: 0.970000\n",
      "Accuracy at iteration 2277: 1.000000\n",
      "Accuracy at iteration 2376: 1.000000\n",
      "Accuracy at iteration 2475: 0.980000\n",
      "Accuracy at iteration 2574: 1.000000\n",
      "Accuracy at iteration 2673: 1.000000\n",
      "Accuracy at iteration 2772: 0.970000\n",
      "Accuracy at iteration 2871: 0.990000\n",
      "Accuracy at iteration 2970: 0.990000\n",
      "Accuracy at iteration 3069: 0.980000\n",
      "Accuracy at iteration 3168: 0.990000\n",
      "Accuracy at iteration 3267: 1.000000\n",
      "Accuracy at iteration 3366: 0.990000\n",
      "Accuracy at iteration 3465: 0.990000\n",
      "Accuracy at iteration 3564: 0.990000\n",
      "Accuracy at iteration 3663: 1.000000\n",
      "Accuracy at iteration 3762: 0.990000\n",
      "Accuracy at iteration 3861: 0.970000\n",
      "Accuracy at iteration 3960: 0.980000\n",
      "Accuracy at iteration 4059: 0.990000\n",
      "Accuracy at iteration 4158: 1.000000\n",
      "Accuracy at iteration 4257: 0.980000\n",
      "Accuracy at iteration 4356: 1.000000\n",
      "Accuracy at iteration 4455: 0.990000\n",
      "Accuracy at iteration 4554: 1.000000\n",
      "Accuracy at iteration 4653: 0.970000\n",
      "Accuracy at iteration 4752: 0.990000\n",
      "Accuracy at iteration 4851: 1.000000\n",
      "Accuracy at iteration 4950: 1.000000\n",
      "Accuracy at iteration 5049: 0.990000\n",
      "Accuracy at iteration 5148: 0.970000\n",
      "Accuracy at iteration 5247: 1.000000\n",
      "Accuracy at iteration 5346: 1.000000\n",
      "Accuracy at iteration 5445: 0.960000\n",
      "Accuracy at iteration 5544: 0.980000\n",
      "Accuracy at iteration 5643: 1.000000\n",
      "Accuracy at iteration 5742: 0.990000\n",
      "Accuracy at iteration 5841: 0.980000\n",
      "Accuracy at iteration 5940: 1.000000\n",
      "Accuracy at iteration 6039: 0.980000\n",
      "Accuracy at iteration 6138: 0.990000\n",
      "Accuracy at iteration 6237: 1.000000\n",
      "Accuracy at iteration 6336: 1.000000\n",
      "Accuracy at iteration 6435: 0.990000\n",
      "Accuracy at iteration 6534: 0.970000\n",
      "Accuracy at iteration 6633: 0.990000\n",
      "Accuracy at iteration 6732: 1.000000\n",
      "Accuracy at iteration 6831: 0.990000\n",
      "Accuracy at iteration 6930: 0.980000\n",
      "Accuracy at iteration 7029: 1.000000\n",
      "Accuracy at iteration 7128: 0.990000\n",
      "Accuracy at iteration 7227: 1.000000\n",
      "Accuracy at iteration 7326: 0.970000\n",
      "Accuracy at iteration 7425: 0.990000\n",
      "Accuracy at iteration 7524: 0.990000\n",
      "Accuracy at iteration 7623: 0.990000\n",
      "Accuracy at iteration 7722: 0.980000\n",
      "Accuracy at iteration 7821: 0.990000\n",
      "Accuracy at iteration 7920: 0.990000\n",
      "Accuracy at iteration 8019: 0.990000\n",
      "Accuracy at iteration 8118: 0.990000\n",
      "Accuracy at iteration 8217: 1.000000\n",
      "Accuracy at iteration 8316: 0.990000\n",
      "Accuracy at iteration 8415: 0.990000\n",
      "Accuracy at iteration 8514: 0.990000\n",
      "Accuracy at iteration 8613: 0.990000\n",
      "Accuracy at iteration 8712: 0.980000\n",
      "Accuracy at iteration 8811: 0.990000\n",
      "Accuracy at iteration 8910: 1.000000\n",
      "Accuracy at iteration 9009: 0.990000\n",
      "Accuracy at iteration 9108: 1.000000\n",
      "Accuracy at iteration 9207: 0.990000\n",
      "Accuracy at iteration 9306: 1.000000\n",
      "Accuracy at iteration 9405: 0.980000\n",
      "Accuracy at iteration 9504: 1.000000\n",
      "Accuracy at iteration 9603: 1.000000\n",
      "Accuracy at iteration 9702: 0.990000\n",
      "Accuracy at iteration 9801: 0.980000\n",
      "Accuracy at iteration 9900: 0.990000\n",
      "Accuracy at iteration 9999: 1.000000\n"
     ]
    }
   ],
   "source": [
    "# Loop and train/test\n",
    "ACCtr = []\n",
    "LOStr = []\n",
    "ACCts = []\n",
    "LOSts = []\n",
    "dec = 0.003 / np.exp( np.array(range(10000))/3000 )\n",
    "for i,d in zip(range(10000), dec):\n",
    "    # Get a batch\n",
    "    batchX, batchY = mnist.train.next_batch(100)\n",
    "    batchX = np.array( [np.reshape(batchX[x,:], [28,28,1]) for x in range(100)] )\n",
    "    # TRAIN: make training dictionary\n",
    "    trdict = {X:batchX, Y_:batchY, decay:d, pKeep:0.75}\n",
    "    # TRAIN: update weigths\n",
    "    sess.run(train_step, feed_dict=trdict)\n",
    "    # TRAIN: accuracy\n",
    "    a,c = sess.run([accuracy, cost], feed_dict=trdict)\n",
    "    ACCtr.append(a)    \n",
    "    LOStr.append(c)\n",
    "    # Log weights\n",
    "    Ww5 = sess.run(W5)\n",
    "    # TEST\n",
    "    testX, testY = mnist.test.next_batch(100)\n",
    "    testX = np.array( [np.reshape(testX[x,:], [28,28,1]) for x in range(100)] )\n",
    "    tsdict = {X:testX, Y_:testY, pKeep:1}\n",
    "    a,c = sess.run([accuracy, cost], feed_dict=tsdict)\n",
    "    ACCts.append(a)    \n",
    "    LOSts.append(c)\n",
    "    if i%99==0: print('Accuracy at iteration %i: %f' %(i, a)) "
   ]
  },
  {
   "cell_type": "code",
   "execution_count": 13,
   "metadata": {},
   "outputs": [
    {
     "data": {
      "image/png": "[encoded data removed]",
      "text/plain": [
       "<matplotlib.figure.Figure at 0x114cef780>"
      ]
     },
     "metadata": {},
     "output_type": "display_data"
    }
   ],
   "source": [
    "FIG = plt.figure()\n",
    "N_run = 50\n",
    "\n",
    "# Plot accuracy\n",
    "Ax1 = FIG.add_subplot(121)\n",
    "Ax1.plot( range(10000), np.convolve( np.concatenate( (ACCtr, np.zeros(N_run-1,)) ), np.ones((N_run,))/N_run, mode='valid'), 'b', label='training accuracy')\n",
    "Ax1.plot( range(10000), np.convolve( np.concatenate( (ACCts, np.zeros(N_run-1,)) ), np.ones((N_run,))/N_run, mode='valid'), 'r', label='test accuracy')\n",
    "Ax1.set_ylim([0.96, 1])\n",
    "Ax1.set_xlim([0, 10000-10])\n",
    "Ax1.x_label = 'Iteration number'\n",
    "\n",
    "# Plot loss\n",
    "Ax2 = FIG.add_subplot(122)\n",
    "Ax2.plot( range(10000), np.convolve( np.concatenate( (LOStr, np.zeros(N_run-1,)) ), np.ones((N_run,))/N_run, mode='valid'), 'b', label='training loss')\n",
    "Ax2.plot( range(10000), np.convolve( np.concatenate( (LOSts, np.zeros(N_run-1,)) ), np.ones((N_run,))/N_run, mode='valid'), 'r', label='test loss')\n",
    "Ax2.set_ylim([0, 20])\n",
    "Ax2.x_label = 'Iteration number'"
   ]
  },
  {
   "cell_type": "code",
   "execution_count": 17,
   "metadata": {},
   "outputs": [
    {
     "data": {
      "text/plain": [
       "1.0"
      ]
     },
     "execution_count": 17,
     "metadata": {},
     "output_type": "execute_result"
    }
   ],
   "source": [
    "np.mean(ACC)"
   ]
  },
  {
   "cell_type": "code",
   "execution_count": 18,
   "metadata": {},
   "outputs": [
    {
     "data": {
      "text/plain": [
       "[1.0]"
      ]
     },
     "execution_count": 18,
     "metadata": {},
     "output_type": "execute_result"
    }
   ],
   "source": [
    "ACC"
   ]
  },
  {
   "cell_type": "code",
   "execution_count": null,
   "metadata": {},
   "outputs": [],
   "source": []
  }
 ],
 "metadata": {
  "kernelspec": {
   "display_name": "Python 3",
   "language": "python",
   "name": "python3"
  },
  "language_info": {
   "codemirror_mode": {
    "name": "ipython",
    "version": 3
   },
   "file_extension": ".py",
   "mimetype": "text/x-python",
   "name": "python",
   "nbconvert_exporter": "python",
   "pygments_lexer": "ipython3",
   "version": "3.6.3"
  }
 },
 "nbformat": 4,
 "nbformat_minor": 2
}

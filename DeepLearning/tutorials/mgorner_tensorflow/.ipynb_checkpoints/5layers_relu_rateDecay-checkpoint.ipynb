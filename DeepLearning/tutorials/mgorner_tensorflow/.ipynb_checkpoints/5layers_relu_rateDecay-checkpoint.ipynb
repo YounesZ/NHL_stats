{
 "cells": [
  {
   "cell_type": "code",
   "execution_count": 1,
   "metadata": {},
   "outputs": [],
   "source": [
    "import tensorflow as tf\n",
    "import matplotlib.pyplot as plt\n",
    "import numpy as np"
   ]
  },
  {
   "cell_type": "code",
   "execution_count": 2,
   "metadata": {},
   "outputs": [],
   "source": [
    "%matplotlib inline"
   ]
  },
  {
   "cell_type": "code",
   "execution_count": 3,
   "metadata": {},
   "outputs": [],
   "source": [
    "# Make the model - 5 layers with sigmoid activation\n",
    "nLayers = [200, 100, 50, 25, 10]\n",
    "X = tf.placeholder(tf.float32, [None, 28*28])\n",
    "W1 = tf.Variable(tf.truncated_normal([28*28, nLayers[0]], stddev=0.1))\n",
    "b1 = tf.Variable(tf.zeros([nLayers[0]]))\n",
    "\n",
    "W2 = tf.Variable(tf.truncated_normal([nLayers[0], nLayers[1]], stddev=0.1))\n",
    "b2 = tf.Variable(tf.zeros([nLayers[1]]))\n",
    "\n",
    "W3 = tf.Variable(tf.truncated_normal([nLayers[1], nLayers[2]], stddev=0.1))\n",
    "b3 = tf.Variable(tf.zeros([nLayers[2]]))\n",
    "\n",
    "W4 = tf.Variable(tf.truncated_normal([nLayers[2], nLayers[3]], stddev=0.1))\n",
    "b4 = tf.Variable(tf.zeros([nLayers[3]]))\n",
    "\n",
    "W5 = tf.Variable(tf.truncated_normal([nLayers[3], nLayers[4]], stddev=0.1))\n",
    "b5 = tf.Variable(tf.zeros([nLayers[4]]))"
   ]
  },
  {
   "cell_type": "code",
   "execution_count": 4,
   "metadata": {},
   "outputs": [],
   "source": [
    "init = tf.global_variables_initializer()"
   ]
  },
  {
   "cell_type": "code",
   "execution_count": 5,
   "metadata": {},
   "outputs": [],
   "source": [
    "# Model\n",
    "Y1 = tf.nn.relu( tf.matmul(X, W1) + b1 )\n",
    "Y2 = tf.nn.relu( tf.matmul(Y1, W2) + b2 )\n",
    "Y3 = tf.nn.relu( tf.matmul(Y2, W3) + b3 )\n",
    "Y4 = tf.nn.relu( tf.matmul(Y3, W4) + b4 )\n",
    "Y5 = tf.nn.softmax( tf.matmul(Y4, W5) + b5 )\n",
    "# Ground truth\n",
    "Y_ = tf.placeholder(tf.float32, [None, 10])"
   ]
  },
  {
   "cell_type": "code",
   "execution_count": 6,
   "metadata": {},
   "outputs": [],
   "source": [
    "# Loss\n",
    "cost = -tf.reduce_sum(Y_ * tf.log(Y5))"
   ]
  },
  {
   "cell_type": "code",
   "execution_count": 7,
   "metadata": {},
   "outputs": [],
   "source": [
    "# Nb of correct answers in batch\n",
    "is_correct = tf.equal( tf.argmax(Y_, 1), tf.argmax(Y5, 1) )\n",
    "accuracy = tf.reduce_mean( tf.cast(is_correct, tf.float32))"
   ]
  },
  {
   "cell_type": "code",
   "execution_count": 8,
   "metadata": {},
   "outputs": [
    {
     "data": {
      "text/plain": [
       "0.0030000000000000001"
      ]
     },
     "execution_count": 8,
     "metadata": {},
     "output_type": "execute_result"
    }
   ],
   "source": [
    "dec = 0.003 / np.exp( np.array(range(10000))/3000 )\n",
    "dec[0]"
   ]
  },
  {
   "cell_type": "code",
   "execution_count": 9,
   "metadata": {},
   "outputs": [],
   "source": [
    "# Training - set training method\n",
    "decay = tf.Variable(0.003, trainable=False)\n",
    "optimizer = tf.train.GradientDescentOptimizer( decay )\n",
    "# Training - make a step\n",
    "train_step = optimizer.minimize(cost)"
   ]
  },
  {
   "cell_type": "code",
   "execution_count": 10,
   "metadata": {},
   "outputs": [
    {
     "name": "stdout",
     "output_type": "stream",
     "text": [
      "Extracting /Users/younes_zerouali/Documents/Stradigi/Databases/MNIST/train-images-idx3-ubyte.gz\n",
      "Extracting /Users/younes_zerouali/Documents/Stradigi/Databases/MNIST/train-labels-idx1-ubyte.gz\n",
      "Extracting /Users/younes_zerouali/Documents/Stradigi/Databases/MNIST/t10k-images-idx3-ubyte.gz\n",
      "Extracting /Users/younes_zerouali/Documents/Stradigi/Databases/MNIST/t10k-labels-idx1-ubyte.gz\n"
     ]
    }
   ],
   "source": [
    "# Load data\n",
    "import utils.RBrown_input_data as rbm\n",
    "dt_path = '/Users/younes_zerouali/Documents/Stradigi/Databases/MNIST' \n",
    "mnist = rbm.read_data_sets(dt_path, one_hot=True)"
   ]
  },
  {
   "cell_type": "code",
   "execution_count": 11,
   "metadata": {},
   "outputs": [],
   "source": [
    "sess = tf.Session()\n",
    "sess.run(init)"
   ]
  },
  {
   "cell_type": "code",
   "execution_count": 13,
   "metadata": {},
   "outputs": [
    {
     "name": "stdout",
     "output_type": "stream",
     "text": [
      "Accuracy at iteration 0: 0.190000\n",
      "Accuracy at iteration 99: 0.800000\n",
      "Accuracy at iteration 198: 0.970000\n",
      "Accuracy at iteration 297: 0.910000\n",
      "Accuracy at iteration 396: 0.950000\n",
      "Accuracy at iteration 495: 0.960000\n",
      "Accuracy at iteration 594: 0.980000\n",
      "Accuracy at iteration 693: 0.970000\n",
      "Accuracy at iteration 792: 0.950000\n",
      "Accuracy at iteration 891: 0.970000\n",
      "Accuracy at iteration 990: 0.990000\n",
      "Accuracy at iteration 1089: 0.960000\n",
      "Accuracy at iteration 1188: 0.940000\n",
      "Accuracy at iteration 1287: 0.980000\n",
      "Accuracy at iteration 1386: 0.960000\n",
      "Accuracy at iteration 1485: 0.920000\n",
      "Accuracy at iteration 1584: 1.000000\n",
      "Accuracy at iteration 1683: 0.950000\n",
      "Accuracy at iteration 1782: 1.000000\n",
      "Accuracy at iteration 1881: 0.990000\n",
      "Accuracy at iteration 1980: 0.990000\n",
      "Accuracy at iteration 2079: 0.970000\n",
      "Accuracy at iteration 2178: 0.960000\n",
      "Accuracy at iteration 2277: 0.950000\n",
      "Accuracy at iteration 2376: 0.970000\n",
      "Accuracy at iteration 2475: 0.980000\n",
      "Accuracy at iteration 2574: 0.980000\n",
      "Accuracy at iteration 2673: 0.980000\n",
      "Accuracy at iteration 2772: 0.970000\n",
      "Accuracy at iteration 2871: 0.980000\n",
      "Accuracy at iteration 2970: 0.990000\n",
      "Accuracy at iteration 3069: 0.990000\n",
      "Accuracy at iteration 3168: 0.960000\n",
      "Accuracy at iteration 3267: 0.990000\n",
      "Accuracy at iteration 3366: 0.990000\n",
      "Accuracy at iteration 3465: 1.000000\n",
      "Accuracy at iteration 3564: 0.970000\n",
      "Accuracy at iteration 3663: 0.970000\n",
      "Accuracy at iteration 3762: 0.960000\n",
      "Accuracy at iteration 3861: 0.980000\n",
      "Accuracy at iteration 3960: 0.970000\n",
      "Accuracy at iteration 4059: 0.970000\n",
      "Accuracy at iteration 4158: 0.980000\n",
      "Accuracy at iteration 4257: 0.990000\n",
      "Accuracy at iteration 4356: 0.970000\n",
      "Accuracy at iteration 4455: 0.980000\n",
      "Accuracy at iteration 4554: 0.970000\n",
      "Accuracy at iteration 4653: 0.970000\n",
      "Accuracy at iteration 4752: 0.990000\n",
      "Accuracy at iteration 4851: 0.940000\n",
      "Accuracy at iteration 4950: 0.980000\n",
      "Accuracy at iteration 5049: 0.970000\n",
      "Accuracy at iteration 5148: 0.970000\n",
      "Accuracy at iteration 5247: 0.960000\n",
      "Accuracy at iteration 5346: 0.960000\n",
      "Accuracy at iteration 5445: 0.980000\n",
      "Accuracy at iteration 5544: 0.980000\n",
      "Accuracy at iteration 5643: 0.990000\n",
      "Accuracy at iteration 5742: 0.970000\n",
      "Accuracy at iteration 5841: 0.940000\n",
      "Accuracy at iteration 5940: 0.960000\n",
      "Accuracy at iteration 6039: 0.980000\n",
      "Accuracy at iteration 6138: 0.970000\n",
      "Accuracy at iteration 6237: 0.990000\n",
      "Accuracy at iteration 6336: 1.000000\n",
      "Accuracy at iteration 6435: 0.990000\n",
      "Accuracy at iteration 6534: 0.990000\n",
      "Accuracy at iteration 6633: 0.980000\n",
      "Accuracy at iteration 6732: 0.980000\n",
      "Accuracy at iteration 6831: 0.100000\n",
      "Accuracy at iteration 6930: 0.140000\n",
      "Accuracy at iteration 7029: 0.150000\n",
      "Accuracy at iteration 7128: 0.120000\n",
      "Accuracy at iteration 7227: 0.080000\n",
      "Accuracy at iteration 7326: 0.060000\n",
      "Accuracy at iteration 7425: 0.060000\n",
      "Accuracy at iteration 7524: 0.030000\n",
      "Accuracy at iteration 7623: 0.140000\n",
      "Accuracy at iteration 7722: 0.080000\n",
      "Accuracy at iteration 7821: 0.110000\n",
      "Accuracy at iteration 7920: 0.150000\n",
      "Accuracy at iteration 8019: 0.060000\n",
      "Accuracy at iteration 8118: 0.130000\n",
      "Accuracy at iteration 8217: 0.100000\n",
      "Accuracy at iteration 8316: 0.150000\n",
      "Accuracy at iteration 8415: 0.060000\n",
      "Accuracy at iteration 8514: 0.060000\n",
      "Accuracy at iteration 8613: 0.070000\n",
      "Accuracy at iteration 8712: 0.130000\n",
      "Accuracy at iteration 8811: 0.090000\n",
      "Accuracy at iteration 8910: 0.090000\n",
      "Accuracy at iteration 9009: 0.070000\n",
      "Accuracy at iteration 9108: 0.120000\n",
      "Accuracy at iteration 9207: 0.090000\n",
      "Accuracy at iteration 9306: 0.100000\n",
      "Accuracy at iteration 9405: 0.070000\n",
      "Accuracy at iteration 9504: 0.100000\n",
      "Accuracy at iteration 9603: 0.120000\n",
      "Accuracy at iteration 9702: 0.170000\n",
      "Accuracy at iteration 9801: 0.120000\n",
      "Accuracy at iteration 9900: 0.130000\n",
      "Accuracy at iteration 9999: 0.120000\n"
     ]
    }
   ],
   "source": [
    "# Loop and train/test\n",
    "ACC = []\n",
    "LOS = []\n",
    "dec = 0.003 / np.exp( np.array(range(10000))/3000 )\n",
    "for i,d in zip(range(10000), dec):\n",
    "    # Get a batch\n",
    "    batchX, batchY = mnist.train.next_batch(100)\n",
    "    # TRAIN: make training dictionary\n",
    "    trdict = {X:batchX, Y_:batchY, decay:d}\n",
    "    # TRAIN: update weigths\n",
    "    sess.run(train_step, feed_dict=trdict)\n",
    "    # TRAIN: accuracy\n",
    "    a,c = sess.run([accuracy, cost], feed_dict=trdict)\n",
    "    ACC.append(a)    \n",
    "    LOS.append(c)\n",
    "    # TEST\n",
    "    testX, testY = mnist.test.next_batch(100)\n",
    "    tsdict = {X:testX, Y_:testY}\n",
    "    a,c = sess.run([accuracy, cost], feed_dict=tsdict)\n",
    "    if i%99==0: print('Accuracy at iteration %i: %f' %(i, a) )"
   ]
  },
  {
   "cell_type": "code",
   "execution_count": 20,
   "metadata": {},
   "outputs": [
    {
     "data": {
      "text/plain": [
       "nan"
      ]
     },
     "execution_count": 20,
     "metadata": {},
     "output_type": "execute_result"
    },
    {
     "data": {
      "image/png": "[encoded data removed]",
      "text/plain": [
       "<matplotlib.figure.Figure at 0x11f7d9240>"
      ]
     },
     "metadata": {},
     "output_type": "display_data"
    }
   ],
   "source": [
    "#plt.plot( range(10000), ACC, label='accuracy')\n",
    "plt.plot( range(10000), LOS, label='loss')\n",
    "plt.gca().x_label = 'Training iteration'\n",
    "plt.gca().y_label = 'Classification accuracy'\n",
    "LOS[7000]"
   ]
  },
  {
   "cell_type": "code",
   "execution_count": 1,
   "metadata": {},
   "outputs": [
    {
     "ename": "NameError",
     "evalue": "name 'np' is not defined",
     "output_type": "error",
     "traceback": [
      "\u001b[0;31m---------------------------------------------------------------------------\u001b[0m",
      "\u001b[0;31mNameError\u001b[0m                                 Traceback (most recent call last)",
      "\u001b[0;32m<ipython-input-1-337d3dc8b5dc>\u001b[0m in \u001b[0;36m<module>\u001b[0;34m()\u001b[0m\n\u001b[0;32m----> 1\u001b[0;31m fcn = 0.003 / np.exp( range(1000 \n\u001b[0m\u001b[1;32m      2\u001b[0m                            ))\n",
      "\u001b[0;31mNameError\u001b[0m: name 'np' is not defined"
     ]
    }
   ],
   "source": [
    "fcn = 0.003 / np.exp( range(1000))"
   ]
  },
  {
   "cell_type": "code",
   "execution_count": null,
   "metadata": {},
   "outputs": [],
   "source": []
  }
 ],
 "metadata": {
  "kernelspec": {
   "display_name": "Python 3",
   "language": "python",
   "name": "python3"
  },
  "language_info": {
   "codemirror_mode": {
    "name": "ipython",
    "version": 3
   },
   "file_extension": ".py",
   "mimetype": "text/x-python",
   "name": "python",
   "nbconvert_exporter": "python",
   "pygments_lexer": "ipython3",
   "version": "3.6.3"
  }
 },
 "nbformat": 4,
 "nbformat_minor": 2
}

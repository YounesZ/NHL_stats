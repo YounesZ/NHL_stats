{
 "cells": [
  {
   "cell_type": "code",
   "execution_count": 1,
   "metadata": {},
   "outputs": [],
   "source": [
    "import tensorflow as tf\n",
    "import matplotlib.pyplot as plt\n",
    "import numpy as np"
   ]
  },
  {
   "cell_type": "code",
   "execution_count": 2,
   "metadata": {},
   "outputs": [],
   "source": [
    "%matplotlib inline"
   ]
  },
  {
   "cell_type": "code",
   "execution_count": 3,
   "metadata": {},
   "outputs": [],
   "source": [
    "# Make the model - 5 layers with sigmoid activation\n",
    "nLayers = [200, 100, 50, 25, 10]\n",
    "X = tf.placeholder(tf.float32, [None, 28*28])\n",
    "W1 = tf.Variable(tf.truncated_normal([28*28, nLayers[0]], stddev=0.1))\n",
    "b1 = tf.Variable(tf.zeros([nLayers[0]]))\n",
    "\n",
    "W2 = tf.Variable(tf.truncated_normal([nLayers[0], nLayers[1]], stddev=0.1))\n",
    "b2 = tf.Variable(tf.zeros([nLayers[1]]))\n",
    "\n",
    "W3 = tf.Variable(tf.truncated_normal([nLayers[1], nLayers[2]], stddev=0.1))\n",
    "b3 = tf.Variable(tf.zeros([nLayers[2]]))\n",
    "\n",
    "W4 = tf.Variable(tf.truncated_normal([nLayers[2], nLayers[3]], stddev=0.1))\n",
    "b4 = tf.Variable(tf.zeros([nLayers[3]]))\n",
    "\n",
    "W5 = tf.Variable(tf.truncated_normal([nLayers[3], nLayers[4]], stddev=0.1))\n",
    "b5 = tf.Variable(tf.zeros([nLayers[4]]))"
   ]
  },
  {
   "cell_type": "code",
   "execution_count": 4,
   "metadata": {},
   "outputs": [],
   "source": [
    "init = tf.global_variables_initializer()"
   ]
  },
  {
   "cell_type": "code",
   "execution_count": 5,
   "metadata": {},
   "outputs": [],
   "source": [
    "# Model\n",
    "Y1 = tf.nn.relu( tf.matmul(X, W1) + b1 )\n",
    "Y2 = tf.nn.relu( tf.matmul(Y1, W2) + b2 )\n",
    "Y3 = tf.nn.relu( tf.matmul(Y2, W3) + b3 )\n",
    "Y4 = tf.nn.relu( tf.matmul(Y3, W4) + b4 )\n",
    "Y5 = tf.nn.softmax( tf.matmul(Y4, W5) + b5 ) * (1-1e-8) + 1e-8\n",
    "# Ground truth\n",
    "Y_ = tf.placeholder(tf.float32, [None, 10])"
   ]
  },
  {
   "cell_type": "code",
   "execution_count": 6,
   "metadata": {},
   "outputs": [],
   "source": [
    "# Loss\n",
    "cost = -tf.reduce_sum(Y_ * tf.log(Y5))"
   ]
  },
  {
   "cell_type": "code",
   "execution_count": 7,
   "metadata": {},
   "outputs": [],
   "source": [
    "# Nb of correct answers in batch\n",
    "is_correct = tf.equal( tf.argmax(Y_, 1), tf.argmax(Y5, 1) )\n",
    "accuracy = tf.reduce_mean( tf.cast(is_correct, tf.float32))"
   ]
  },
  {
   "cell_type": "code",
   "execution_count": 8,
   "metadata": {},
   "outputs": [],
   "source": [
    "# Training - set training method\n",
    "optimizer = tf.train.GradientDescentOptimizer(0.003)\n",
    "# Training - make a step\n",
    "train_step = optimizer.minimize(cost)"
   ]
  },
  {
   "cell_type": "code",
   "execution_count": 9,
   "metadata": {},
   "outputs": [
    {
     "name": "stdout",
     "output_type": "stream",
     "text": [
      "Extracting /Users/younes_zerouali/Documents/Stradigi/Databases/MNIST/train-images-idx3-ubyte.gz\n",
      "Extracting /Users/younes_zerouali/Documents/Stradigi/Databases/MNIST/train-labels-idx1-ubyte.gz\n",
      "Extracting /Users/younes_zerouali/Documents/Stradigi/Databases/MNIST/t10k-images-idx3-ubyte.gz\n",
      "Extracting /Users/younes_zerouali/Documents/Stradigi/Databases/MNIST/t10k-labels-idx1-ubyte.gz\n"
     ]
    }
   ],
   "source": [
    "# Load data\n",
    "import utils.RBrown_input_data as rbm\n",
    "dt_path = '/Users/younes_zerouali/Documents/Stradigi/Databases/MNIST' \n",
    "mnist = rbm.read_data_sets(dt_path, one_hot=True)"
   ]
  },
  {
   "cell_type": "code",
   "execution_count": 10,
   "metadata": {},
   "outputs": [],
   "source": [
    "sess = tf.Session()\n",
    "sess.run(init)"
   ]
  },
  {
   "cell_type": "code",
   "execution_count": 11,
   "metadata": {},
   "outputs": [
    {
     "name": "stdout",
     "output_type": "stream",
     "text": [
      "Accuracy at iteration 0: 0.090000\n",
      "Accuracy at iteration 99: 0.560000\n",
      "Accuracy at iteration 198: 0.860000\n",
      "Accuracy at iteration 297: 0.910000\n",
      "Accuracy at iteration 396: 0.940000\n",
      "Accuracy at iteration 495: 0.940000\n",
      "Accuracy at iteration 594: 0.900000\n",
      "Accuracy at iteration 693: 0.950000\n",
      "Accuracy at iteration 792: 0.960000\n",
      "Accuracy at iteration 891: 0.950000\n",
      "Accuracy at iteration 990: 0.960000\n",
      "Accuracy at iteration 1089: 0.930000\n",
      "Accuracy at iteration 1188: 0.990000\n",
      "Accuracy at iteration 1287: 0.960000\n",
      "Accuracy at iteration 1386: 1.000000\n",
      "Accuracy at iteration 1485: 0.950000\n",
      "Accuracy at iteration 1584: 0.970000\n",
      "Accuracy at iteration 1683: 0.960000\n",
      "Accuracy at iteration 1782: 0.950000\n",
      "Accuracy at iteration 1881: 0.950000\n",
      "Accuracy at iteration 1980: 0.970000\n",
      "Accuracy at iteration 2079: 0.970000\n",
      "Accuracy at iteration 2178: 0.950000\n",
      "Accuracy at iteration 2277: 1.000000\n",
      "Accuracy at iteration 2376: 0.930000\n",
      "Accuracy at iteration 2475: 0.990000\n",
      "Accuracy at iteration 2574: 0.960000\n",
      "Accuracy at iteration 2673: 0.980000\n",
      "Accuracy at iteration 2772: 1.000000\n",
      "Accuracy at iteration 2871: 0.970000\n",
      "Accuracy at iteration 2970: 0.970000\n",
      "Accuracy at iteration 3069: 0.970000\n",
      "Accuracy at iteration 3168: 0.950000\n",
      "Accuracy at iteration 3267: 0.970000\n",
      "Accuracy at iteration 3366: 0.980000\n",
      "Accuracy at iteration 3465: 0.950000\n",
      "Accuracy at iteration 3564: 0.980000\n",
      "Accuracy at iteration 3663: 0.980000\n",
      "Accuracy at iteration 3762: 0.980000\n",
      "Accuracy at iteration 3861: 0.980000\n",
      "Accuracy at iteration 3960: 0.990000\n",
      "Accuracy at iteration 4059: 0.990000\n",
      "Accuracy at iteration 4158: 0.990000\n",
      "Accuracy at iteration 4257: 0.990000\n",
      "Accuracy at iteration 4356: 0.980000\n",
      "Accuracy at iteration 4455: 0.990000\n",
      "Accuracy at iteration 4554: 0.980000\n",
      "Accuracy at iteration 4653: 0.980000\n",
      "Accuracy at iteration 4752: 0.970000\n",
      "Accuracy at iteration 4851: 0.960000\n",
      "Accuracy at iteration 4950: 0.920000\n",
      "Accuracy at iteration 5049: 0.970000\n",
      "Accuracy at iteration 5148: 0.960000\n",
      "Accuracy at iteration 5247: 0.990000\n",
      "Accuracy at iteration 5346: 0.990000\n",
      "Accuracy at iteration 5445: 0.980000\n",
      "Accuracy at iteration 5544: 0.970000\n",
      "Accuracy at iteration 5643: 1.000000\n",
      "Accuracy at iteration 5742: 1.000000\n",
      "Accuracy at iteration 5841: 0.950000\n",
      "Accuracy at iteration 5940: 0.960000\n",
      "Accuracy at iteration 6039: 0.960000\n",
      "Accuracy at iteration 6138: 0.990000\n",
      "Accuracy at iteration 6237: 0.990000\n",
      "Accuracy at iteration 6336: 0.980000\n",
      "Accuracy at iteration 6435: 0.970000\n",
      "Accuracy at iteration 6534: 0.970000\n",
      "Accuracy at iteration 6633: 0.980000\n",
      "Accuracy at iteration 6732: 0.960000\n",
      "Accuracy at iteration 6831: 0.960000\n",
      "Accuracy at iteration 6930: 0.970000\n",
      "Accuracy at iteration 7029: 0.980000\n",
      "Accuracy at iteration 7128: 0.980000\n",
      "Accuracy at iteration 7227: 0.990000\n",
      "Accuracy at iteration 7326: 0.970000\n",
      "Accuracy at iteration 7425: 0.970000\n",
      "Accuracy at iteration 7524: 0.980000\n",
      "Accuracy at iteration 7623: 0.980000\n",
      "Accuracy at iteration 7722: 0.970000\n",
      "Accuracy at iteration 7821: 0.970000\n",
      "Accuracy at iteration 7920: 0.960000\n",
      "Accuracy at iteration 8019: 0.980000\n",
      "Accuracy at iteration 8118: 0.980000\n",
      "Accuracy at iteration 8217: 0.990000\n",
      "Accuracy at iteration 8316: 0.960000\n",
      "Accuracy at iteration 8415: 0.960000\n",
      "Accuracy at iteration 8514: 0.970000\n",
      "Accuracy at iteration 8613: 0.980000\n",
      "Accuracy at iteration 8712: 0.980000\n",
      "Accuracy at iteration 8811: 0.980000\n",
      "Accuracy at iteration 8910: 0.980000\n",
      "Accuracy at iteration 9009: 0.960000\n",
      "Accuracy at iteration 9108: 0.970000\n",
      "Accuracy at iteration 9207: 0.990000\n",
      "Accuracy at iteration 9306: 0.980000\n",
      "Accuracy at iteration 9405: 0.990000\n",
      "Accuracy at iteration 9504: 0.970000\n",
      "Accuracy at iteration 9603: 0.970000\n",
      "Accuracy at iteration 9702: 0.990000\n",
      "Accuracy at iteration 9801: 0.980000\n",
      "Accuracy at iteration 9900: 0.980000\n",
      "Accuracy at iteration 9999: 0.990000\n"
     ]
    }
   ],
   "source": [
    "# Loop and train/test\n",
    "ACCtr = []\n",
    "LOStr = []\n",
    "ACCts = []\n",
    "LOSts = []\n",
    "for i in range(10000):\n",
    "    # Get a batch\n",
    "    batchX, batchY = mnist.train.next_batch(100)\n",
    "    # TRAIN: make training dictionary\n",
    "    trdict = {X:batchX, Y_:batchY}\n",
    "    # TRAIN: update weigths\n",
    "    sess.run(train_step, feed_dict=trdict)\n",
    "    # TRAIN: accuracy\n",
    "    a,c = sess.run([accuracy, cost], feed_dict=trdict)\n",
    "    ACCtr.append(a)    \n",
    "    LOStr.append(c)\n",
    "    # TEST\n",
    "    testX, testY = mnist.test.next_batch(100)\n",
    "    tsdict = {X:testX, Y_:testY}\n",
    "    a,c = sess.run([accuracy, cost], feed_dict=tsdict)\n",
    "    ACCts.append(a)    \n",
    "    LOSts.append(c)\n",
    "    if i%99==0: print('Accuracy at iteration %i: %f' %(i, a) )"
   ]
  },
  {
   "cell_type": "code",
   "execution_count": 14,
   "metadata": {},
   "outputs": [
    {
     "data": {
      "image/png": "[encoded data removed]",
      "text/plain": [
       "<matplotlib.figure.Figure at 0x120044cf8>"
      ]
     },
     "metadata": {},
     "output_type": "display_data"
    }
   ],
   "source": [
    "FIG = plt.figure()\n",
    "N_run = 50\n",
    "\n",
    "# Plot accuracy\n",
    "Ax1 = FIG.add_subplot(121)\n",
    "Ax1.plot( range(10000), np.convolve( np.concatenate( (ACCtr, np.zeros(N_run-1,)) ), np.ones((N_run,))/N_run, mode='valid'), 'b', label='training accuracy')\n",
    "Ax1.plot( range(10000), np.convolve( np.concatenate( (ACCts, np.zeros(N_run-1,)) ), np.ones((N_run,))/N_run, mode='valid'), 'r', label='test accuracy')\n",
    "Ax1.set_ylim([0.95, 1])\n",
    "Ax1.x_label = 'Iteration number'\n",
    "\n",
    "# Plot loss\n",
    "Ax2 = FIG.add_subplot(122)\n",
    "Ax2.plot( range(10000), np.convolve( np.concatenate( (LOStr, np.zeros(N_run-1,)) ), np.ones((N_run,))/N_run, mode='valid'), 'b', label='training loss')\n",
    "Ax2.plot( range(10000), np.convolve( np.concatenate( (LOSts, np.zeros(N_run-1,)) ), np.ones((N_run,))/N_run, mode='valid'), 'r', label='test loss')\n",
    "Ax2.set_ylim([0, 50])\n",
    "Ax2.x_label = 'Iteration number'"
   ]
  },
  {
   "cell_type": "code",
   "execution_count": null,
   "metadata": {},
   "outputs": [],
   "source": []
  }
 ],
 "metadata": {
  "kernelspec": {
   "display_name": "Python 3",
   "language": "python",
   "name": "python3"
  },
  "language_info": {
   "codemirror_mode": {
    "name": "ipython",
    "version": 3
   },
   "file_extension": ".py",
   "mimetype": "text/x-python",
   "name": "python",
   "nbconvert_exporter": "python",
   "pygments_lexer": "ipython3",
   "version": "3.6.3"
  }
 },
 "nbformat": 4,
 "nbformat_minor": 2
}

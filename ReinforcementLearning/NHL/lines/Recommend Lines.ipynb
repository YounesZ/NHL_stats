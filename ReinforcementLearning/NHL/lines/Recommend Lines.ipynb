{
 "cells": [
  {
   "cell_type": "markdown",
   "metadata": {},
   "source": [
    "# Recommend Lines\n",
    "\n",
    "Full pipeline of lines recommendation for home team."
   ]
  },
  {
   "cell_type": "code",
   "execution_count": 1,
   "metadata": {
    "collapsed": false
   },
   "outputs": [
    {
     "name": "stdout",
     "output_type": "stream",
     "text": [
      "['', '/Users/luisd/sw/anaconda3/envs/nhl_stats/lib/python36.zip', '/Users/luisd/sw/anaconda3/envs/nhl_stats/lib/python3.6', '/Users/luisd/sw/anaconda3/envs/nhl_stats/lib/python3.6/lib-dynload', '/Users/luisd/.local/lib/python3.6/site-packages', '/Users/luisd/sw/anaconda3/envs/nhl_stats/lib/python3.6/site-packages', '/Users/luisd/sw/anaconda3/envs/nhl_stats/lib/python3.6/site-packages/IPython/extensions', '/Users/luisd/.ipython', '/Users/luisd/dev/NHL_stats']\n"
     ]
    }
   ],
   "source": [
    "%load_ext autoreload\n",
    "\n",
    "import sys\n",
    "sys.path.append(\"/Users/luisd/dev/NHL_stats\")\n",
    "print(sys.path)"
   ]
  },
  {
   "cell_type": "code",
   "execution_count": 2,
   "metadata": {
    "collapsed": false
   },
   "outputs": [
    {
     "name": "stderr",
     "output_type": "stream",
     "text": [
      "/Users/luisd/sw/anaconda3/envs/nhl_stats/lib/python3.6/importlib/_bootstrap.py:219: RuntimeWarning: compiletime version 3.5 of module 'tensorflow.python.framework.fast_tensor_util' does not match runtime version 3.6\n",
      "  return f(*args, **kwds)\n"
     ]
    }
   ],
   "source": [
    "import pickle\n",
    "import datetime\n",
    "from os import path\n",
    "\n",
    "import numpy as np\n",
    "\n",
    "from ReinforcementLearning.NHL.playbyplay.season import Season\n",
    "from ReinforcementLearning.NHL.player.player_type import PlayerType\n",
    "from ReinforcementLearning.NHL.lines.category import CategoryFetcher\n",
    "from ReinforcementLearning.NHL.lines.valuation import QValuesFetcherFromDict, QValuesFetcherFromGameData\n",
    "from ReinforcementLearning.NHL.lines.recommender import LineRecommender\n",
    "from ReinforcementLearning.NHL.playbyplay.game import Game, get_lines_for\n",
    "from ReinforcementLearning.NHL.playbyplay.state_space_data import HockeySS\n"
   ]
  },
  {
   "cell_type": "code",
   "execution_count": 3,
   "metadata": {
    "collapsed": true
   },
   "outputs": [],
   "source": [
    "\"\"\"Initialization\"\"\"\n",
    "db_root = '/Users/luisd/dev/NHL_stats/data'\n",
    "repoCode = '/Users/luisd/dev/NHL_stats'\n",
    "\n",
    "repoModel = path.join(repoCode,\n",
    "                           'ReinforcementLearning/NHL/playerstats/offVSdef/Automatic_classification/MODEL_perceptron_1layer_10units_relu')"
   ]
  },
  {
   "cell_type": "code",
   "execution_count": 4,
   "metadata": {
    "collapsed": false
   },
   "outputs": [
    {
     "name": "stdout",
     "output_type": "stream",
     "text": [
      "INFO:tensorflow:Restoring parameters from /Users/luisd/dev/NHL_stats/ReinforcementLearning/NHL/playerstats/offVSdef/Automatic_classification/MODEL_perceptron_1layer_10units_relu/MODEL_perceptron_1layer_10units_relu\n",
      "Fetched game 20388, played on 2013-03-13\n"
     ]
    }
   ],
   "source": [
    "season = Season(db_root=db_root, year_begin=2012, repo_model=repoModel)\n",
    "\n",
    "# Now lets get game data\n",
    "base_date = datetime.date(year=2013, month=3, day=13)\n",
    "result = season.get_game_at_or_just_before(game_date=base_date, home_team_abbr='MTL')\n",
    "assert (result is not None)\n",
    "gameId, d = result\n",
    "print(\"Fetched game %d, played on %s\" % (gameId, d))\n",
    "data_for_a_game = Game(season, gameId)"
   ]
  },
  {
   "cell_type": "code",
   "execution_count": 5,
   "metadata": {
    "collapsed": false
   },
   "outputs": [
    {
     "name": "stdout",
     "output_type": "stream",
     "text": [
      "Processing game Season 2012-2013: game 20388\n",
      "Processing game Season 2012-2013: game 20335\n",
      "Processing game Season 2012-2013: game 20375\n",
      "Processing game Season 2012-2013: game 20312\n",
      "Processing game Season 2012-2013: game 20350\n",
      "DONE\n",
      "15 lines used consistently\n",
      "('7 KYLE TURRIS', '33 JAKOB SILFVERBERG', '14 COLIN GREENING') played 1429.50 secs\n",
      "('9 MILAN MICHALEK', '15 ZACK SMITH', '11 DANIEL ALFREDSSON') played 1235.50 secs\n",
      "('25 CHRIS NEIL', '61 MARK STONE', '93 MIKA ZIBANEJAD') played 674.50 secs\n",
      "('17 MILAN LUCIC', '46 DAVID KREJCI', '8 NATHAN HORTON') played 632.00 secs\n",
      "('37 PATRICE BERGERON', '63 BRAD MARCHAND', '91 TYLER SEGUIN') played 589.00 secs\n",
      "('9 GREGORY CAMPBELL', '22 SHAWN THORNTON', '12 DANIEL PAILLE') played 511.50 secs\n",
      "('25 CHRIS NEIL', '15 ZACK SMITH', '59 DAVE DZIURZYNSKI') played 449.50 secs\n",
      "(\"36 JIM O'BRIEN\", '12 PETER REGIN', '23 KASPARS DAUGAVINS') played 393.50 secs\n",
      "('15 ZACK SMITH', '11 DANIEL ALFREDSSON', '73 GUILLAUME LATENDRESSE') played 362.00 secs\n",
      "('22 ERIK CONDRA', \"36 JIM O'BRIEN\", '12 PETER REGIN') played 342.50 secs\n",
      "('7 KYLE TURRIS', '14 COLIN GREENING', '11 DANIEL ALFREDSSON') played 302.00 secs\n",
      "('25 CHRIS NEIL', '93 MIKA ZIBANEJAD', '22 ERIK CONDRA') played 191.50 secs\n",
      "('23 CHRIS KELLY', '33 JORDAN CARON', '17 RICH PEVERLEY') played 130.00 secs\n",
      "('61 MARK STONE', \"36 JIM O'BRIEN\", '23 KASPARS DAUGAVINS') played 120.50 secs\n",
      "('93 MIKA ZIBANEJAD', '22 ERIK CONDRA', '33 JAKOB SILFVERBERG') played 119.00 secs\n",
      "Keeping top 4:\n",
      "('7 KYLE TURRIS', '33 JAKOB SILFVERBERG', '14 COLIN GREENING') played 1429.50 secs\n",
      "('9 MILAN MICHALEK', '15 ZACK SMITH', '11 DANIEL ALFREDSSON') played 1235.50 secs\n",
      "('25 CHRIS NEIL', '61 MARK STONE', '93 MIKA ZIBANEJAD') played 674.50 secs\n",
      "('17 MILAN LUCIC', '46 DAVID KREJCI', '8 NATHAN HORTON') played 632.00 secs\n"
     ]
    }
   ],
   "source": [
    "# prediction of the lines that the 'away' team will use:\n",
    "\n",
    "formation=get_lines_for(season, base_date, how_many_days_back=5, team_abbrev=data_for_a_game.away_team)\n",
    "away_lines_names=formation.as_names\n",
    "away_lines=formation.as_categories\n",
    "\n",
    "# num_games_back = 5\n",
    "# ids = season.get_last_n_away_games_since(base_date, n=num_games_back, team_abbrev=data_for_a_game.away_team)\n",
    "# lines_dict = {}\n",
    "# for game_id in ids:\n",
    "#     g = Game(season, gameId=game_id)\n",
    "#     print(\"Processing game %s\" % (g))\n",
    "#     result_as_list = g.get_away_lines()\n",
    "#     for line_as_ids, line_as_types, secs_played in result_as_list:\n",
    "#         line_as_ids = tuple(map(g.player_id_to_name, line_as_ids))\n",
    "#         if line_as_ids in lines_dict:\n",
    "#             # update number of seconds played\n",
    "#             lines_dict[line_as_ids] = (line_as_types, lines_dict[line_as_ids][1] + secs_played)\n",
    "#         else:\n",
    "#             # seed entry in dictionary\n",
    "#             lines_dict[line_as_ids] = (line_as_types, secs_played)\n",
    "# print(\"DONE\")"
   ]
  },
  {
   "cell_type": "code",
   "execution_count": 6,
   "metadata": {
    "collapsed": false
   },
   "outputs": [
    {
     "name": "stdout",
     "output_type": "stream",
     "text": [
      "[('7 KYLE TURRIS', '33 JAKOB SILFVERBERG', '14 COLIN GREENING'), ('9 MILAN MICHALEK', '15 ZACK SMITH', '11 DANIEL ALFREDSSON'), ('25 CHRIS NEIL', '61 MARK STONE', '93 MIKA ZIBANEJAD'), ('17 MILAN LUCIC', '46 DAVID KREJCI', '8 NATHAN HORTON')]\n",
      "[(0, 2, 2), (0, 0, 0), (0, 1, 2), (1, 2, 2)]\n"
     ]
    }
   ],
   "source": [
    "# # for k, v in lines_dict.items():\n",
    "# #     print(k, v)\n",
    "# # ok, now sort by seconds played, keep top 4:\n",
    "# flat_list = list(map(lambda x: (x[0], x[1][0], x[1][1]), lines_dict.items()))\n",
    "# result_as_list = sorted(flat_list, key=lambda x: x[2], reverse=True)\n",
    "# print(\"%d lines used consistently\" % (len(result_as_list)))\n",
    "# for a_line, a_cat, num_secs in result_as_list:\n",
    "#     print(\"%s played %.2f secs\" % (a_line, num_secs))\n",
    "# top_4_as_list = result_as_list[:4]\n",
    "# print(\"Keeping top 4:\")\n",
    "# for a_line, a_cat, num_secs in top_4_as_list:\n",
    "#     print(\"%s played %.2f secs\" % (a_line, num_secs))\n",
    "# away_lines_names = list(map(lambda x: x[0], top_4_as_list)) # as categories\n",
    "# away_lines = list(map(lambda x: x[1], top_4_as_list)) # as categories\n",
    "\n",
    "print(away_lines_names)\n",
    "print(away_lines)"
   ]
  },
  {
   "cell_type": "code",
   "execution_count": 7,
   "metadata": {
    "collapsed": false
   },
   "outputs": [
    {
     "name": "stdout",
     "output_type": "stream",
     "text": [
      "Q-table dimensions:  (3, 5, 10, 10)\n",
      "[diff = 2, period = 0] First shift: \n",
      "\thome team: DAVID DESHARNAIS, BRENDAN GALLAGHER, MAX PACIORETTY \n",
      "\taway team: KYLE TURRIS, JAKOB SILFVERBERG, COLIN GREENING \n",
      "\tQvalue: 3.17\n",
      "Best fitness: 49.50 by formation \n",
      "Line 1: 20 COLBY ARMSTRONG, 27 TRAVIS MOEN, 51 DAVID DESHARNAIS\n",
      "Line 2: 81 LARS ELLER, 17 MICHAEL RYDER, 37 GABRIEL DUMONT\n",
      "Line 3: 27 ALEX GALCHENYUK, 11 BRENDAN GALLAGHER, 12 BRIAN GIONTA\n",
      "Line 4: 25 RYAN WHITE, 67 MAX PACIORETTY, 14 TOMAS PLEKANEC\n",
      "Best fitness: 49.77 by formation \n",
      "Line 1: 20 COLBY ARMSTRONG, 27 TRAVIS MOEN, 51 DAVID DESHARNAIS\n",
      "Line 2: 81 LARS ELLER, 17 MICHAEL RYDER, 37 GABRIEL DUMONT\n",
      "Line 3: 12 BRIAN GIONTA, 67 MAX PACIORETTY, 14 TOMAS PLEKANEC\n",
      "Line 4: 25 RYAN WHITE, 27 ALEX GALCHENYUK, 11 BRENDAN GALLAGHER\n",
      "Best fitness: 49.86 by formation \n",
      "Line 1: 20 COLBY ARMSTRONG, 27 TRAVIS MOEN, 51 DAVID DESHARNAIS\n",
      "Line 2: 81 LARS ELLER, 17 MICHAEL RYDER, 12 BRIAN GIONTA\n",
      "Line 3: 37 GABRIEL DUMONT, 27 ALEX GALCHENYUK, 11 BRENDAN GALLAGHER\n",
      "Line 4: 25 RYAN WHITE, 67 MAX PACIORETTY, 14 TOMAS PLEKANEC\n",
      "Best fitness: 50.28 by formation \n",
      "Line 1: 20 COLBY ARMSTRONG, 27 TRAVIS MOEN, 51 DAVID DESHARNAIS\n",
      "Line 2: 81 LARS ELLER, 37 GABRIEL DUMONT, 12 BRIAN GIONTA\n",
      "Line 3: 17 MICHAEL RYDER, 67 MAX PACIORETTY, 14 TOMAS PLEKANEC\n",
      "Line 4: 25 RYAN WHITE, 27 ALEX GALCHENYUK, 11 BRENDAN GALLAGHER\n",
      "=======> Took 0.32 secs. to look at 1 first-lines; I think we have around 69.27 secs. to go\n",
      "ALL DONE!!!!!!\n",
      "================================\n",
      "Best fitness: 50.28 by formation \n",
      "[(1380, 389, 8), (9, 1164, 656), (1035, 27, 31), (281, 13, 14)], to play against \n",
      "[(0, 2, 2), (0, 0, 0), (0, 1, 2), (1, 2, 2)]\n",
      "================================\n",
      "[(1380, 389, 8), (9, 1164, 656), (1035, 27, 31), (281, 13, 14)]\n",
      "Line 1: 20 COLBY ARMSTRONG, 27 TRAVIS MOEN, 51 DAVID DESHARNAIS\n",
      "Line 2: 81 LARS ELLER, 37 GABRIEL DUMONT, 12 BRIAN GIONTA\n",
      "Line 3: 17 MICHAEL RYDER, 67 MAX PACIORETTY, 14 TOMAS PLEKANEC\n",
      "Line 4: 25 RYAN WHITE, 27 ALEX GALCHENYUK, 11 BRENDAN GALLAGHER\n"
     ]
    }
   ],
   "source": [
    "\n",
    "# === Now we get the indices in the Q-values tables corresponding to lines\n",
    "\n",
    "# Line translation table\n",
    "linedict  = HockeySS(db_root)\n",
    "linedict.make_line_dictionary()\n",
    "linedict  = linedict.line_dictionary\n",
    "\n",
    "# Get lines and translate them\n",
    "playersCode  =   data_for_a_game.encode_line_players()\n",
    "linesCode    =   np.array( [[data_for_a_game.recode_line(linedict, a) for a in b] for b in playersCode] )\n",
    "\n",
    "\n",
    "# Load the Qvalues table\n",
    "Qvalues = \\\n",
    "pickle.load(open(path.join(repoCode, 'ReinforcementLearning/NHL/playbyplay/data/stable/RL_action_values.p'), 'rb'))[\n",
    "    'action_values']\n",
    "\n",
    "# Visualize it dimensions (period x differential x away line's code x home line's code)\n",
    "print('Q-table dimensions: ', Qvalues.shape)\n",
    "\n",
    "# Get the Q-value for that specific line\n",
    "iShift = 0  # First shift\n",
    "lineShifts = data_for_a_game.lineShifts.as_df(team='both', equal_strength=data_for_a_game.shifts_equal_strength,\n",
    "                                   regular_time=data_for_a_game.shifts_regular_time, min_duration=20)\n",
    "\n",
    "player_classes = data_for_a_game.players_classes_mgr.get(equal_strength=True, regular_time=True, min_duration=20, nGames=30) # TODO: why these parameters?\n",
    "plList = list(player_classes.loc[lineShifts['playersID'].iloc[iShift][0]]['firstlast'].values) + \\\n",
    "         list(player_classes.loc[lineShifts['playersID'].iloc[iShift][1]]['firstlast'].values)\n",
    "diff = data_for_a_game.recode_differential(lineShifts.iloc[iShift].differential)\n",
    "period = data_for_a_game.recode_period(lineShifts.iloc[iShift].period)\n",
    "q_values = Qvalues[period, diff, linesCode[iShift, 0], linesCode[iShift, 1]]\n",
    "print('[diff = %d, period = %d] First shift: \\n\\thome team: %s, %s, %s \\n\\taway team: %s, %s, %s \\n\\tQvalue: %.2f' % (\n",
    "diff, period, plList[0], plList[1], plList[2], plList[3], plList[4], plList[5], q_values))\n",
    "\n",
    "q_values_fetcher_from_game_data = QValuesFetcherFromGameData(game_data=data_for_a_game, lines_dict=linedict, q_values=Qvalues)\n",
    "\n",
    "line_rec = LineRecommender(\n",
    "    game=data_for_a_game,\n",
    "    player_category_fetcher=CategoryFetcher(data_for_game=data_for_a_game),\n",
    "    q_values_fetcher=q_values_fetcher_from_game_data) # q_values_fetcher_from_tuples)\n",
    "\n",
    "home_lines_rec = line_rec.recommend_lines_maximize_average(\n",
    "                                home_team_players_ids=data_for_a_game.get_ids_of_home_players(),\n",
    "                                away_team_lines = away_lines, examine_max_first_lines=None)\n",
    "print(home_lines_rec)\n",
    "\n",
    "print(data_for_a_game.formation_ids_to_str(home_lines_rec))\n"
   ]
  },
  {
   "cell_type": "code",
   "execution_count": 8,
   "metadata": {
    "collapsed": false,
    "scrolled": false
   },
   "outputs": [
    {
     "name": "stdout",
     "output_type": "stream",
     "text": [
      "[238 621 813] (categories (0, 0, 2)): no optimal calculated\n",
      "[236 621 813] (categories (0, 0, 2)): no optimal calculated\n",
      "[238 621 813] (categories (0, 0, 2)): no optimal calculated\n",
      "[ 228  241 1438] (categories (0, 0, 2)): no optimal calculated\n",
      "[238 621 813] (categories (0, 0, 2)): no optimal calculated\n",
      "[ 238  621 1438] (categories (0, 0, 2)): no optimal calculated\n",
      "[ 228  241 1438] (categories (0, 0, 2)): no optimal calculated\n",
      "[238 621 813] (categories (0, 0, 2)): no optimal calculated\n",
      "[238 621 813] (categories (0, 0, 2)): no optimal calculated\n",
      "[ 228  241 1438] (categories (0, 0, 2)): no optimal calculated\n",
      "[ 237  871 1438] (categories (0, 0, 2)): no optimal calculated\n",
      "[ 236  813 1219] (categories (0, 0, 2)): no optimal calculated\n",
      "[ 237  871 1438] (categories (0, 0, 2)): no optimal calculated\n",
      "[238 621 813] (categories (0, 0, 2)): no optimal calculated\n",
      "[238 621 813] (categories (0, 0, 2)): no optimal calculated\n",
      "[ 237  871 1438] (categories (0, 0, 2)): no optimal calculated\n",
      "[238 621 813] (categories (0, 0, 2)): no optimal calculated\n",
      "Can't get category of one of away players\n",
      "[ 237  871 1438] (categories (0, 0, 2)): no optimal calculated\n",
      "Can't get category of one of away players\n",
      "[236 237 813] (categories (0, 0, 2)): no optimal calculated\n",
      "[228 236 813] (categories (0, 0, 2)): no optimal calculated\n",
      "{'bad': 807.0, 'good': 437.0}\n",
      "Home coach's score (in [0,1] is 0.35\n"
     ]
    },
    {
     "name": "stderr",
     "output_type": "stream",
     "text": [
      "/Users/luisd/dev/NHL_stats/ReinforcementLearning/NHL/playbyplay/game.py:108: FutureWarning: \n",
      "Passing list-likes to .loc or [] with any missing label will raise\n",
      "KeyError in the future, you can use .reindex() as an alternative.\n",
      "\n",
      "See the documentation here:\n",
      "http://pandas.pydata.org/pandas-docs/stable/indexing.html#deprecate-loc-reindex-listlike\n",
      "  return list(map(PlayerType.from_int, player_classes.loc[list(a)][\"class\"].values))\n"
     ]
    }
   ],
   "source": [
    "# let's examine actual decisions and how it compares with optimal:\n",
    "seconds = {'bad': 0, 'good': 0}\n",
    "for data in lineShifts[['home_line', 'away_line', 'iceduration']].itertuples():\n",
    "    home_line = data.home_line\n",
    "    away_line = data.away_line\n",
    "    num_seconds = data.iceduration\n",
    "    away_line_cats = data_for_a_game.classes_of_line(away_line)\n",
    "    if None in away_line_cats:\n",
    "        print(\"Can't get category of one of away players\")\n",
    "    else:\n",
    "        away_line_cats = tuple(np.sort(away_line_cats))\n",
    "        if away_line_cats not in away_lines:\n",
    "            print(\"%s (categories %s): no optimal calculated\" % (away_line, away_line_cats))\n",
    "        else:\n",
    "            idx_of_away = away_lines.index(away_line_cats)\n",
    "            cats_of_optimal = data_for_a_game.classes_of_line(home_lines_rec[idx_of_away])\n",
    "            home_line_cats = data_for_a_game.classes_of_line(home_line)\n",
    "            if set(cats_of_optimal) == set(home_line_cats):\n",
    "                seconds['good'] += num_seconds\n",
    "            else:\n",
    "                seconds['bad'] += num_seconds\n",
    "print(seconds)\n",
    "print(\"Home coach's score (in [0,1]) is %.2f\" % (seconds['good'] / (seconds['good'] + seconds['bad'])))\n"
   ]
  },
  {
   "cell_type": "code",
   "execution_count": 9,
   "metadata": {
    "collapsed": false
   },
   "outputs": [
    {
     "data": {
      "text/plain": [
       "[(0, 2, 2), (0, 0, 0), (0, 1, 2), (1, 2, 2)]"
      ]
     },
     "execution_count": 9,
     "metadata": {},
     "output_type": "execute_result"
    }
   ],
   "source": [
    "away_lines"
   ]
  },
  {
   "cell_type": "code",
   "execution_count": null,
   "metadata": {
    "collapsed": true
   },
   "outputs": [],
   "source": []
  }
 ],
 "metadata": {
  "kernelspec": {
   "display_name": "Python 3 (nhl_stats)",
   "language": "python",
   "name": "nhl_stats"
  },
  "language_info": {
   "codemirror_mode": {
    "name": "ipython",
    "version": 3
   },
   "file_extension": ".py",
   "mimetype": "text/x-python",
   "name": "python",
   "nbconvert_exporter": "python",
   "pygments_lexer": "ipython3",
   "version": "3.6.4"
  }
 },
 "nbformat": 4,
 "nbformat_minor": 0
}

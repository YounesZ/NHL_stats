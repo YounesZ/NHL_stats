{
 "cells": [
  {
   "cell_type": "markdown",
   "metadata": {},
   "source": [
    "# Recommend Lines\n",
    "\n",
    "Full pipeline of lines recommendation for home team."
   ]
  },
  {
   "cell_type": "code",
   "execution_count": 1,
   "metadata": {
    "collapsed": false
   },
   "outputs": [
    {
     "name": "stdout",
     "output_type": "stream",
     "text": [
      "['', '/Users/luisd/sw/anaconda3/envs/nhl_stats/lib/python36.zip', '/Users/luisd/sw/anaconda3/envs/nhl_stats/lib/python3.6', '/Users/luisd/sw/anaconda3/envs/nhl_stats/lib/python3.6/lib-dynload', '/Users/luisd/.local/lib/python3.6/site-packages', '/Users/luisd/sw/anaconda3/envs/nhl_stats/lib/python3.6/site-packages', '/Users/luisd/sw/anaconda3/envs/nhl_stats/lib/python3.6/site-packages/IPython/extensions', '/Users/luisd/.ipython', '/Users/luisd/dev/NHL_stats']\n"
     ]
    }
   ],
   "source": [
    "%load_ext autoreload\n",
    "\n",
    "import sys\n",
    "sys.path.append(\"/Users/luisd/dev/NHL_stats\")\n",
    "print(sys.path)"
   ]
  },
  {
   "cell_type": "code",
   "execution_count": 4,
   "metadata": {
    "collapsed": false
   },
   "outputs": [],
   "source": [
    "import pickle\n",
    "import datetime\n",
    "from os import path\n",
    "\n",
    "import numpy as np\n",
    "\n",
    "from ReinforcementLearning.NHL.playbyplay.season import Season\n",
    "from ReinforcementLearning.NHL.player.player_type import PlayerType\n",
    "from ReinforcementLearning.NHL.lines.category import CategoryFetcher\n",
    "from ReinforcementLearning.NHL.lines.valuation import QValuesFetcherFromDict, QValuesFetcherFromGameData\n",
    "from ReinforcementLearning.NHL.lines.recommender import LineRecommender\n",
    "from ReinforcementLearning.NHL.playbyplay.playbyplay_data import Game\n"
   ]
  },
  {
   "cell_type": "code",
   "execution_count": 5,
   "metadata": {
    "collapsed": false
   },
   "outputs": [
    {
     "name": "stdout",
     "output_type": "stream",
     "text": [
      "Fetched game 20388, played on 2013-03-13\n",
      "INFO:tensorflow:Restoring parameters from /Users/luisd/dev/NHL_stats/ReinforcementLearning/NHL/playerstats/offVSdef/Automatic_classification/MODEL_perceptron_1layer_10units_relu/MODEL_perceptron_1layer_10units_relu\n",
      "Processing game 20388\n",
      "INFO:tensorflow:Restoring parameters from /Users/luisd/dev/NHL_stats/ReinforcementLearning/NHL/playerstats/offVSdef/Automatic_classification/MODEL_perceptron_1layer_10units_relu/MODEL_perceptron_1layer_10units_relu\n",
      "Processing game 20335\n",
      "INFO:tensorflow:Restoring parameters from /Users/luisd/dev/NHL_stats/ReinforcementLearning/NHL/playerstats/offVSdef/Automatic_classification/MODEL_perceptron_1layer_10units_relu/MODEL_perceptron_1layer_10units_relu\n",
      "Processing game 20375\n",
      "INFO:tensorflow:Restoring parameters from /Users/luisd/dev/NHL_stats/ReinforcementLearning/NHL/playerstats/offVSdef/Automatic_classification/MODEL_perceptron_1layer_10units_relu/MODEL_perceptron_1layer_10units_relu\n",
      "Processing game 20312\n",
      "INFO:tensorflow:Restoring parameters from /Users/luisd/dev/NHL_stats/ReinforcementLearning/NHL/playerstats/offVSdef/Automatic_classification/MODEL_perceptron_1layer_10units_relu/MODEL_perceptron_1layer_10units_relu\n",
      "Processing game 20350\n",
      "INFO:tensorflow:Restoring parameters from /Users/luisd/dev/NHL_stats/ReinforcementLearning/NHL/playerstats/offVSdef/Automatic_classification/MODEL_perceptron_1layer_10units_relu/MODEL_perceptron_1layer_10units_relu\n",
      "Q-table dimensions:  (3, 5, 10, 10)\n",
      "[diff = 2, period = 0] First shift: \n",
      "\thome team: DAVID DESHARNAIS, BRENDAN GALLAGHER, MAX PACIORETTY \n",
      "\taway team: KYLE TURRIS, JAKOB SILFVERBERG, COLIN GREENING \n",
      "\tQvalue: 3.17\n",
      "Q value dictionary has 16 entries\n",
      "Best fitness: 49.50 by formation \n",
      "Line 1: 20 COLBY ARMSTRONG, 27 TRAVIS MOEN, 51 DAVID DESHARNAIS\n",
      "Line 2: 81 LARS ELLER, 17 MICHAEL RYDER, 37 GABRIEL DUMONT\n",
      "Line 3: 27 ALEX GALCHENYUK, 11 BRENDAN GALLAGHER, 12 BRIAN GIONTA\n",
      "Line 4: 25 RYAN WHITE, 67 MAX PACIORETTY, 14 TOMAS PLEKANEC\n",
      "Best fitness: 49.77 by formation \n",
      "Line 1: 20 COLBY ARMSTRONG, 27 TRAVIS MOEN, 51 DAVID DESHARNAIS\n",
      "Line 2: 81 LARS ELLER, 17 MICHAEL RYDER, 37 GABRIEL DUMONT\n",
      "Line 3: 12 BRIAN GIONTA, 67 MAX PACIORETTY, 14 TOMAS PLEKANEC\n",
      "Line 4: 25 RYAN WHITE, 27 ALEX GALCHENYUK, 11 BRENDAN GALLAGHER\n",
      "Best fitness: 49.86 by formation \n",
      "Line 1: 20 COLBY ARMSTRONG, 27 TRAVIS MOEN, 51 DAVID DESHARNAIS\n",
      "Line 2: 81 LARS ELLER, 17 MICHAEL RYDER, 12 BRIAN GIONTA\n",
      "Line 3: 37 GABRIEL DUMONT, 27 ALEX GALCHENYUK, 11 BRENDAN GALLAGHER\n",
      "Line 4: 25 RYAN WHITE, 67 MAX PACIORETTY, 14 TOMAS PLEKANEC\n",
      "Best fitness: 50.28 by formation \n",
      "Line 1: 20 COLBY ARMSTRONG, 27 TRAVIS MOEN, 51 DAVID DESHARNAIS\n",
      "Line 2: 81 LARS ELLER, 37 GABRIEL DUMONT, 12 BRIAN GIONTA\n",
      "Line 3: 17 MICHAEL RYDER, 67 MAX PACIORETTY, 14 TOMAS PLEKANEC\n",
      "Line 4: 25 RYAN WHITE, 27 ALEX GALCHENYUK, 11 BRENDAN GALLAGHER\n",
      "=======> Took 0.31 secs. to look at 1 first-lines; I think we have around 67.24 secs. to go\n",
      "ALL DONE!!!!!!\n",
      "================================\n",
      "Best fitness: 50.28 by formation \n",
      "[(1380, 389, 8), (9, 1164, 656), (1035, 27, 31), (281, 13, 14)], to play against \n",
      "[(0, 2, 2), (0, 0, 0), (0, 1, 2), (1, 2, 2)]\n",
      "================================\n",
      "[(1380, 389, 8), (9, 1164, 656), (1035, 27, 31), (281, 13, 14)]\n",
      "Line 1: 20 COLBY ARMSTRONG, 27 TRAVIS MOEN, 51 DAVID DESHARNAIS\n",
      "Line 2: 81 LARS ELLER, 37 GABRIEL DUMONT, 12 BRIAN GIONTA\n",
      "Line 3: 17 MICHAEL RYDER, 67 MAX PACIORETTY, 14 TOMAS PLEKANEC\n",
      "Line 4: 25 RYAN WHITE, 27 ALEX GALCHENYUK, 11 BRENDAN GALLAGHER\n"
     ]
    }
   ],
   "source": [
    "from ReinforcementLearning.NHL.playbyplay.state_space_data import HockeySS\n",
    "\"\"\"Initialization\"\"\"\n",
    "db_root = '/Users/luisd/dev/NHL_stats/data'\n",
    "repoCode = '/Users/luisd/dev/NHL_stats'\n",
    "\n",
    "repoModel = path.join(repoCode,\n",
    "                           'ReinforcementLearning/NHL/playerstats/offVSdef/Automatic_classification/MODEL_perceptron_1layer_10units_relu')\n",
    "\n",
    "\n",
    "season = Season(db_root=db_root, year_begin=2012, repo_model=repoModel)\n",
    "\n",
    "# Now lets get game data\n",
    "base_date = datetime.date(year=2013, month=3, day=13)\n",
    "result = season.get_game_at_or_just_before(game_date=base_date, home_team_abbr='MTL')\n",
    "assert (result is not None)\n",
    "gameId, d = result\n",
    "print(\"Fetched game %d, played on %s\" % (gameId, d))\n",
    "data_for_a_game = Game(season, gameId)\n",
    "\n",
    "# prediction of the lines that the 'away' team will use:\n",
    "num_games_back = 5\n",
    "ids = season.get_last_n_away_games_since(base_date, n=num_games_back, team_abbrev=data_for_a_game.away_team)\n",
    "lines_dict = {}\n",
    "for game_id in ids:\n",
    "    print(\"Processing game %d\" % (game_id))\n",
    "    g = Game(season, gameId=game_id)\n",
    "    result_as_list = g.get_away_lines()\n",
    "    for line_as_ids, line_as_types, secs_played in result_as_list:\n",
    "        if line_as_ids in lines_dict:\n",
    "            # update number of seconds played\n",
    "            lines_dict[line_as_ids] = (line_as_types, lines_dict[line_as_ids][1] + secs_played)\n",
    "        else:\n",
    "            # seed entry in dictionary\n",
    "            lines_dict[line_as_ids] = (line_as_types, secs_played)\n",
    "# ok, now sort by seconds played, keep top 4:\n",
    "flat_list = list(map(lambda x: (x[0], x[1][0], x[1][1]), lines_dict.items()))\n",
    "result_as_list = sorted(flat_list, key=lambda x: x[2], reverse=True)[:4]\n",
    "away_lines = list(map(lambda x: x[1], result_as_list)) # as categories\n",
    "\n",
    "# === Now we get the indices in the Q-values tables corresponding to lines\n",
    "\n",
    "# Line translation table\n",
    "linedict  = HockeySS(db_root)\n",
    "linedict.make_line_dictionary()\n",
    "linedict  = linedict.line_dictionary\n",
    "\n",
    "# Get lines and translate them\n",
    "playersCode  =   data_for_a_game.encode_line_players()\n",
    "linesCode    =   np.array( [[data_for_a_game.recode_line(linedict, a) for a in b] for b in playersCode] )\n",
    "\n",
    "\n",
    "# Load the Qvalues table\n",
    "Qvalues = \\\n",
    "pickle.load(open(path.join(repoCode, 'ReinforcementLearning/NHL/playbyplay/data/stable/RL_action_values.p'), 'rb'))[\n",
    "    'action_values']\n",
    "\n",
    "# Visualize it dimensions (period x differential x away line's code x home line's code)\n",
    "print('Q-table dimensions: ', Qvalues.shape)\n",
    "\n",
    "# Get the Q-value for that specific line\n",
    "iShift = 0  # First shift\n",
    "lineShifts = data_for_a_game.lineShifts.as_df(team='both', equal_strength=data_for_a_game.shifts_equal_strength,\n",
    "                                   regular_time=data_for_a_game.shifts_regular_time, min_duration=20)\n",
    "\n",
    "player_classes = data_for_a_game.players_classes_mgr.get(equal_strength=True, regular_time=True, min_duration=20, nGames=30) # TODO: why these parameters?\n",
    "plList = list(player_classes.loc[lineShifts['playersID'].iloc[iShift][0]]['firstlast'].values) + \\\n",
    "         list(player_classes.loc[lineShifts['playersID'].iloc[iShift][1]]['firstlast'].values)\n",
    "diff = data_for_a_game.recode_differential(lineShifts.iloc[iShift].differential)\n",
    "period = data_for_a_game.recode_period(lineShifts.iloc[iShift].period)\n",
    "q_values = Qvalues[period, diff, linesCode[iShift, 0], linesCode[iShift, 1]]\n",
    "print('[diff = %d, period = %d] First shift: \\n\\thome team: %s, %s, %s \\n\\taway team: %s, %s, %s \\n\\tQvalue: %.2f' % (\n",
    "diff, period, plList[0], plList[1], plList[2], plList[3], plList[4], plList[5], q_values))\n",
    "\n",
    "\n",
    "\n",
    "q_value_tuples = [\n",
    "    ([PlayerType.NEUTRAL, PlayerType.NEUTRAL, PlayerType.OFFENSIVE],\n",
    "     [PlayerType.OFFENSIVE, PlayerType.DEFENSIVE, PlayerType.DEFENSIVE],\n",
    "    25),\n",
    "    ([PlayerType.NEUTRAL, PlayerType.NEUTRAL, PlayerType.OFFENSIVE],\n",
    "     [PlayerType.NEUTRAL, PlayerType.NEUTRAL, PlayerType.NEUTRAL],\n",
    "    12),\n",
    "    ([PlayerType.NEUTRAL, PlayerType.NEUTRAL, PlayerType.NEUTRAL],\n",
    "     [PlayerType.OFFENSIVE, PlayerType.DEFENSIVE, PlayerType.DEFENSIVE],\n",
    "    20),\n",
    "    ([PlayerType.NEUTRAL, PlayerType.NEUTRAL, PlayerType.NEUTRAL],\n",
    "     [PlayerType.NEUTRAL, PlayerType.NEUTRAL, PlayerType.NEUTRAL],\n",
    "    1),\n",
    "]\n",
    "\n",
    "q_values_fetcher_from_game_data = QValuesFetcherFromGameData(game_data=data_for_a_game, lines_dict=linedict, q_values=Qvalues)\n",
    "q_values_fetcher_from_tuples = QValuesFetcherFromDict.from_tuples(q_value_tuples)\n",
    "\n",
    "line_rec = LineRecommender(\n",
    "    game=data_for_a_game,\n",
    "    player_category_fetcher=CategoryFetcher(data_for_game=data_for_a_game),\n",
    "    q_values_fetcher=q_values_fetcher_from_game_data) # q_values_fetcher_from_tuples)\n",
    "\n",
    "home_lines_rec = line_rec.recommend_lines_maximize_average(\n",
    "                                home_team_players_ids=data_for_a_game.get_ids_of_home_players(),\n",
    "                                away_team_lines = away_lines, examine_max_first_lines=None)\n",
    "print(home_lines_rec)\n",
    "\n",
    "print(data_for_a_game.formation_ids_to_str(home_lines_rec))\n"
   ]
  },
  {
   "cell_type": "code",
   "execution_count": null,
   "metadata": {
    "collapsed": false,
    "scrolled": false
   },
   "outputs": [],
   "source": [
    "# do_it_together()"
   ]
  },
  {
   "cell_type": "code",
   "execution_count": null,
   "metadata": {
    "collapsed": true
   },
   "outputs": [],
   "source": []
  }
 ],
 "metadata": {
  "kernelspec": {
   "display_name": "Python 3 (nhl_stats)",
   "language": "python",
   "name": "nhl_stats"
  },
  "language_info": {
   "codemirror_mode": {
    "name": "ipython",
    "version": 3
   },
   "file_extension": ".py",
   "mimetype": "text/x-python",
   "name": "python",
   "nbconvert_exporter": "python",
   "pygments_lexer": "ipython3",
   "version": "3.6.4"
  }
 },
 "nbformat": 4,
 "nbformat_minor": 0
}

{
 "cells": [
  {
   "cell_type": "markdown",
   "metadata": {},
   "source": [
    "# Recommend Lines\n",
    "\n",
    "Full pipeline of lines recommendation for home team."
   ]
  },
  {
   "cell_type": "code",
   "execution_count": 1,
   "metadata": {
    "collapsed": false
   },
   "outputs": [
    {
     "name": "stdout",
     "output_type": "stream",
     "text": [
      "['', '/Users/luisd/sw/anaconda3/envs/nhl_stats/lib/python36.zip', '/Users/luisd/sw/anaconda3/envs/nhl_stats/lib/python3.6', '/Users/luisd/sw/anaconda3/envs/nhl_stats/lib/python3.6/lib-dynload', '/Users/luisd/.local/lib/python3.6/site-packages', '/Users/luisd/sw/anaconda3/envs/nhl_stats/lib/python3.6/site-packages', '/Users/luisd/sw/anaconda3/envs/nhl_stats/lib/python3.6/site-packages/IPython/extensions', '/Users/luisd/.ipython', '/Users/luisd/dev/NHL_stats']\n"
     ]
    }
   ],
   "source": [
    "%load_ext autoreload\n",
    "\n",
    "import sys\n",
    "sys.path.append(\"/Users/luisd/dev/NHL_stats\")\n",
    "print(sys.path)"
   ]
  },
  {
   "cell_type": "code",
   "execution_count": 4,
   "metadata": {
    "collapsed": false
   },
   "outputs": [],
   "source": [
    "import pickle\n",
    "from os import path\n",
    "\n",
    "import numpy as np\n",
    "\n",
    "from ReinforcementLearning.NHL.playbyplay.playbyplay_data import Season\n",
    "from ReinforcementLearning.NHL.player.player_type import PlayerType\n",
    "from ReinforcementLearning.NHL.lines.category import CategoryFetcher\n",
    "from ReinforcementLearning.NHL.lines.valuation import QValuesFetcherFromDict, QValuesFetcherFromGameData\n",
    "from ReinforcementLearning.NHL.lines.recommender import LineRecommender\n"
   ]
  },
  {
   "cell_type": "code",
   "execution_count": 7,
   "metadata": {
    "collapsed": false
   },
   "outputs": [
    {
     "name": "stderr",
     "output_type": "stream",
     "text": [
      "/Users/luisd/dev/NHL_stats/ReinforcementLearning/NHL/playbyplay/playbyplay_data.py:54: UserWarning: Boolean Series key will be reindexed to match DataFrame index.\n",
      "  gameInfo    =   gameInfo[gameInfo['gameDate']==date_as_str][gameInfo['teamAbbrev']==home_team_abbr]\n"
     ]
    },
    {
     "name": "stdout",
     "output_type": "stream",
     "text": [
      "INFO:tensorflow:Restoring parameters from /Users/luisd/dev/NHL_stats/ReinforcementLearning/NHL/playerstats/offVSdef/Automatic_classification/MODEL_perceptron_1layer_10units_relu/MODEL_perceptron_1layer_10units_relu\n",
      "Q-table dimensions:  (3, 5, 10, 10)\n",
      "[diff = 2, period = 0] First shift: \n",
      "\thome team: DAVID DESHARNAIS, BRENDAN GALLAGHER, MAX PACIORETTY \n",
      "\taway team: KYLE TURRIS, JAKOB SILFVERBERG, COLIN GREENING \n",
      "\tQvalue: 3.17\n",
      "Q value dictionary has 16 entries\n",
      "Best fitness: 50.33 by formation [(1380, 389, 8), (9, 1035, 1164), (13, 14, 656), (281, 27, 31)]\n",
      "Best fitness: 51.67 by formation [(1380, 389, 8), (9, 1035, 1164), (13, 14, 281), (656, 27, 31)]\n",
      "=======> Took 0.29 secs. to look at 1 first-lines; I think we have around 62.52 secs. to go\n",
      "Best fitness: 51.67 by formation [(656, 27, 31), (1380, 389, 1035), (8, 9, 1164), (281, 13, 14)]\n",
      "=======> Took 58.12 secs. to look at 219 first-lines; I think we have around 0.27 secs. to go\n",
      "ALL DONE!!!!!!\n",
      "================================\n",
      "Best fitness: 51.67 by formation \n",
      "[(656, 27, 31), (1380, 389, 1035), (8, 9, 1164), (281, 13, 14)], to play against \n",
      "[[0, 2, 2], [0, 0, 2], [0, 2, 2], [0, 2, 2]]\n",
      "================================\n",
      "[(656, 27, 31), (1380, 389, 1035), (8, 9, 1164), (281, 13, 14)]\n",
      "Line 1: 12 BRIAN GIONTA, 67 MAX PACIORETTY, 14 TOMAS PLEKANEC\n",
      "Line 2: 20 COLBY ARMSTRONG, 27 TRAVIS MOEN, 17 MICHAEL RYDER\n",
      "Line 3: 51 DAVID DESHARNAIS, 81 LARS ELLER, 37 GABRIEL DUMONT\n",
      "Line 4: 25 RYAN WHITE, 27 ALEX GALCHENYUK, 11 BRENDAN GALLAGHER\n"
     ]
    }
   ],
   "source": [
    "from ReinforcementLearning.NHL.playbyplay.state_space_data import HockeySS\n",
    "\"\"\"Initialization\"\"\"\n",
    "db_root = '/Users/luisd/dev/NHL_stats/data'\n",
    "repoCode = '/Users/luisd/dev/NHL_stats'\n",
    "# Montreal received Ottawa on march 13, 2013, let's convert game date to game code\n",
    "gameId = Season.get_game_id(db_root=db_root, home_team_abbr='MTL', date_as_str='2013-03-13')\n",
    "\n",
    "repoModel = path.join(repoCode,\n",
    "                           'ReinforcementLearning/NHL/playerstats/offVSdef/Automatic_classification/MODEL_perceptron_1layer_10units_relu')\n",
    "\n",
    "# Now lets get game data\n",
    "season = Season(db_root=db_root, year_begin=2012, repo_model=repoModel)  # Season.from_year_begin(2012) # '20122013'\n",
    "mtlott = season.pick_game(gameId)\n",
    "\n",
    "# players_classes = mtlott.pull_players_classes_from_repo_address(True, True, 20, repoModel, number_of_games=30)\n",
    "\n",
    "# prediction of the lines that the 'away' team will use:\n",
    "df, away_lines = mtlott.get_away_lines(accept_repeated=True)\n",
    "\n",
    "# === Now we get the indices in the Q-values tables corresponding to lines\n",
    "\n",
    "# Line translation table\n",
    "linedict  = HockeySS(db_root)\n",
    "linedict.make_line_dictionary()\n",
    "linedict  = linedict.line_dictionary\n",
    "\n",
    "# Get lines and translate them\n",
    "playersCode  =   mtlott.encode_line_players()\n",
    "linesCode    =   np.array( [[mtlott.recode_line(linedict, a) for a in b] for b in playersCode] )\n",
    "\n",
    "\n",
    "# Load the Qvalues table\n",
    "Qvalues = \\\n",
    "pickle.load(open(path.join(repoCode, 'ReinforcementLearning/NHL/playbyplay/data/stable/RL_action_values.p'), 'rb'))[\n",
    "    'action_values']\n",
    "\n",
    "# Visualize it dimensions (period x differential x away line's code x home line's code)\n",
    "print('Q-table dimensions: ', Qvalues.shape)\n",
    "\n",
    "# Get the Q-value for that specific line\n",
    "iShift = 0  # First shift\n",
    "lineShifts = mtlott.lineShifts.as_df(team='both', equal_strength=mtlott.shifts_equal_strength,\n",
    "                                   regular_time=mtlott.shifts_regular_time, min_duration=20)\n",
    "\n",
    "player_classes = mtlott.players_classes_mgr.get(equal_strength=True, regular_time=True, min_duration=20, nGames=30) # TODO: why these parameters?\n",
    "plList = list(player_classes.loc[lineShifts['playersID'].iloc[iShift][0]]['firstlast'].values) + \\\n",
    "         list(player_classes.loc[lineShifts['playersID'].iloc[iShift][1]]['firstlast'].values)\n",
    "diff = mtlott.recode_differential(lineShifts.iloc[iShift].differential)\n",
    "period = mtlott.recode_period(lineShifts.iloc[iShift].period)\n",
    "q_values = Qvalues[period, diff, linesCode[iShift, 0], linesCode[iShift, 1]]\n",
    "print('[diff = %d, period = %d] First shift: \\n\\thome team: %s, %s, %s \\n\\taway team: %s, %s, %s \\n\\tQvalue: %.2f' % (\n",
    "diff, period, plList[0], plList[1], plList[2], plList[3], plList[4], plList[5], q_values))\n",
    "\n",
    "\n",
    "\n",
    "q_value_tuples = [\n",
    "    ([PlayerType.NEUTRAL, PlayerType.NEUTRAL, PlayerType.OFFENSIVE],\n",
    "     [PlayerType.OFFENSIVE, PlayerType.DEFENSIVE, PlayerType.DEFENSIVE],\n",
    "    25),\n",
    "    ([PlayerType.NEUTRAL, PlayerType.NEUTRAL, PlayerType.OFFENSIVE],\n",
    "     [PlayerType.NEUTRAL, PlayerType.NEUTRAL, PlayerType.NEUTRAL],\n",
    "    12),\n",
    "    ([PlayerType.NEUTRAL, PlayerType.NEUTRAL, PlayerType.NEUTRAL],\n",
    "     [PlayerType.OFFENSIVE, PlayerType.DEFENSIVE, PlayerType.DEFENSIVE],\n",
    "    20),\n",
    "    ([PlayerType.NEUTRAL, PlayerType.NEUTRAL, PlayerType.NEUTRAL],\n",
    "     [PlayerType.NEUTRAL, PlayerType.NEUTRAL, PlayerType.NEUTRAL],\n",
    "    1),\n",
    "]\n",
    "\n",
    "q_values_fetcher_from_game_data = QValuesFetcherFromGameData(game_data=mtlott, lines_dict=linedict, q_values=Qvalues)\n",
    "q_values_fetcher_from_tuples = QValuesFetcherFromDict.from_tuples(q_value_tuples)\n",
    "\n",
    "line_rec = LineRecommender(\n",
    "    player_category_fetcher=CategoryFetcher(data_for_game=mtlott),\n",
    "    q_values_fetcher=q_values_fetcher_from_game_data) # q_values_fetcher_from_tuples)\n",
    "\n",
    "home_lines_rec = line_rec.recommend_lines_maximize_average(\n",
    "                                home_team_players_ids=mtlott.get_home_players(repoModel),\n",
    "                                away_team_lines = away_lines, examine_max_first_lines=None)\n",
    "print(home_lines_rec)\n",
    "\n",
    "# let's translate these numbers into names:\n",
    "# input is ~ [(656, 27, 31), (1380, 389, 1035), (8, 9, 1164), (281, 13, 14)]\n",
    "line_no = 1\n",
    "for a_line in home_lines_rec:\n",
    "    first_guy, second_guy, third_guy = a_line\n",
    "    print(\"Line %d: %s, %s, %s\" % (\n",
    "        line_no,\n",
    "        mtlott.rf_wc[mtlott.rf_wc['player.id'] == first_guy]['numfirstlast'].tolist()[0],\n",
    "        mtlott.rf_wc[mtlott.rf_wc['player.id'] == second_guy]['numfirstlast'].tolist()[0],\n",
    "        mtlott.rf_wc[mtlott.rf_wc['player.id'] == third_guy]['numfirstlast'].tolist()[0],\n",
    "    ))\n",
    "    line_no += 1\n"
   ]
  },
  {
   "cell_type": "code",
   "execution_count": 6,
   "metadata": {
    "collapsed": false,
    "scrolled": false
   },
   "outputs": [],
   "source": [
    "# do_it_together()"
   ]
  },
  {
   "cell_type": "code",
   "execution_count": null,
   "metadata": {
    "collapsed": true
   },
   "outputs": [],
   "source": []
  }
 ],
 "metadata": {
  "kernelspec": {
   "display_name": "Python 3 (nhl_stats)",
   "language": "python",
   "name": "nhl_stats"
  },
  "language_info": {
   "codemirror_mode": {
    "name": "ipython",
    "version": 3
   },
   "file_extension": ".py",
   "mimetype": "text/x-python",
   "name": "python",
   "nbconvert_exporter": "python",
   "pygments_lexer": "ipython3",
   "version": "3.6.4"
  }
 },
 "nbformat": 4,
 "nbformat_minor": 0
}

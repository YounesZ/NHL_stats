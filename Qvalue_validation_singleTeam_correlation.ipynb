{
 "cells": [
  {
   "cell_type": "code",
   "execution_count": 1,
   "metadata": {},
   "outputs": [],
   "source": [
    "from ReinforcementLearning.NHL.playerstats.nhl_player_stats import *\n",
    "from ReinforcementLearning.NHL.playbyplay.playbyplay_data import *\n",
    "from ReinforcementLearning.NHL.playbyplay.state_space_data import *"
   ]
  },
  {
   "cell_type": "code",
   "execution_count": 2,
   "metadata": {},
   "outputs": [],
   "source": [
    "# Pointers to the data\n",
    "# repoCode    =   '/Users/younes_zerouali/Documents/Stradigi/Code/NHL_stats_SL'\n",
    "# repoCode    =   '/Users/luisd/dev/NHL_stats'\n",
    "repoCode    =   '/home/younesz/Documents/Code/NHL_stats_SL'\n",
    "db_root     =   '/home/younesz/Documents/Databases/Hockey'        #This is the location of the Hockey database\n",
    "# db_root     =   '/Users/younes_zerouali/Documents/Stradigi/Databases/Hockey'\n",
    "# db_root     =   '/Users/luisd/dev/NHL_stats/data'\n",
    "#repoPbP     =   path.join(db_root, 'PlayByPlay')\n",
    "#repoPSt     =   path.join(db_root, 'PlayerStats/player')\n",
    "repoModel   =   path.join(repoCode, 'ReinforcementLearning/NHL/playerstats/offVSdef/Automatic_classification/MODEL_backup_trainedonallseasons_rankstatprediction')\n",
    "repoModel   =   path.join(repoCode, 'ReinforcementLearning/NHL/playerstats/offVSdef/Automatic_classification/MODEL_perceptron_1layer_10units_relu')\n",
    "repoSave    =   None #path.join(repoCode, 'ReinforcementLearning/NHL/playbyplay/data')"
   ]
  },
  {
   "cell_type": "code",
   "execution_count": 3,
   "metadata": {},
   "outputs": [],
   "source": [
    "# ==== Second the players data\n",
    "\n",
    "def get_players_classes(repoModel, data_for_game, preprocessing, classifier, number_of_games):\n",
    "    \"\"\"\n",
    "    Calculates (dataframe with) all player's classes.\n",
    "    Updates the 'data for game' structure with it; also returns it.\n",
    "    Usage:\n",
    "        repoModel = ... # here goes the directory where your model is saved.\n",
    "        # Montreal received Ottawa on march 13, 2013\n",
    "        gameId = get_game_id(home_team_abbr='MTL', date_as_str='2013-03-13')\n",
    "        season      =   '20122013'\n",
    "        mtlott      =   Game(repoPbP, repoPSt, season, gameId=gameId )\n",
    "        #\n",
    "        players_classes = get_players_classes(repoModel, mtlott, number_of_games=30)\n",
    "        # this is equivalent to ask 'mtlott' for the data; so:\n",
    "        assert players_classes.equals(mtlott.player_classes)\n",
    "    \"\"\"    \n",
    "    # Pick players stats - last 'n' games \n",
    "    data_for_game.pull_line_shifts(team='both', minduration=20)\n",
    "    data_for_game.pick_regulartime()\n",
    "    data_for_game.pick_equalstrength()\n",
    "    data_for_game.pull_players_classes(preprocessing, classifier, nGames=number_of_games)\n",
    "    return data_for_game"
   ]
  },
  {
   "cell_type": "code",
   "execution_count": 4,
   "metadata": {},
   "outputs": [],
   "source": [
    "# === Third the model\n",
    "\n",
    "def get_players_model(repoModel):\n",
    "    \n",
    "    # Need to load the data pre-processing variables\n",
    "    preprocessing  =   pickle.load(open(path.join(repoModel, 'baseVariables.p'), 'rb'))\n",
    "\n",
    "    # Need to load the classification model (for players' predicted ranking on trophies voting lists)\n",
    "    classifier          =   {'sess':tf.Session(), 'annX':[], 'annY':[]}\n",
    "    saver               =   tf.train.import_meta_graph(path.join(repoModel, path.basename(repoModel) + '.meta'))\n",
    "    graph               =   classifier['sess'].graph\n",
    "    classifier['annX']  =   graph.get_tensor_by_name('Input_to_the_network-player_features:0')\n",
    "    classifier['annY']  =   graph.get_tensor_by_name('prediction:0')\n",
    "    saver.restore(classifier['sess'], tf.train.latest_checkpoint(path.join(repoModel, './')))\n",
    "    return preprocessing, classifier"
   ]
  },
  {
   "cell_type": "markdown",
   "metadata": {},
   "source": [
    "# FIRST: List all games\n"
   ]
  },
  {
   "cell_type": "code",
   "execution_count": 8,
   "metadata": {},
   "outputs": [
    {
     "name": "stdout",
     "output_type": "stream",
     "text": [
      "INFO:tensorflow:Restoring parameters from /home/younesz/Documents/Code/NHL_stats_SL/ReinforcementLearning/NHL/playerstats/offVSdef/Automatic_classification/MODEL_perceptron_1layer_10units_relu/MODEL_perceptron_1layer_10units_relu\n"
     ]
    }
   ],
   "source": [
    "# Select a team\n",
    "homeTeam  =  'TOR'  \n",
    "\n",
    "# List all games\n",
    "HSS    =  HockeySS(db_root)\n",
    "HSS.list_all_games()\n",
    "HSS.make_line_dictionary()\n",
    "linedict= HSS.line_dictionary\n",
    "\n",
    "# List team's home games\n",
    "games  =  HSS.games_lst[HSS.games_lst['hometeam']==homeTeam]  \n",
    "\n",
    "# Initialize empty dataframe\n",
    "tmInfo =  pd.DataFrame(columns=['gameCode', 'avgQ', 'points', 'goalsFor', 'goalsAg'])\n",
    "\n",
    "# Load player model\n",
    "preprocessing, classifier  =  get_players_model(repoModel)"
   ]
  },
  {
   "cell_type": "code",
   "execution_count": 15,
   "metadata": {},
   "outputs": [
    {
     "data": {
      "text/plain": [
       "(3, 5, 10, 10)"
      ]
     },
     "execution_count": 15,
     "metadata": {},
     "output_type": "execute_result"
    }
   ],
   "source": [
    "# Load Qvalues\n",
    "Qvalues  =  pickle.load( open(path.join(db_root, 'processed', 'RL_action_values.p'), 'rb') )['action_values']\n"
   ]
  },
  {
   "cell_type": "markdown",
   "metadata": {},
   "source": [
    "# SECOND: Determine game Qvalues and points"
   ]
  },
  {
   "cell_type": "code",
   "execution_count": 16,
   "metadata": {},
   "outputs": [
    {
     "name": "stdout",
     "output_type": "stream",
     "text": [
      "Game 500/513: [======================================  ] 97%, completed"
     ]
    }
   ],
   "source": [
    "# Loop on seasons\n",
    "count  =  0\n",
    "lsSea  =  np.unique(games['season'].values)\n",
    "\n",
    "for iS in lsSea:\n",
    "    \n",
    "    # Load data\n",
    "    iSea     =  Season(db_root, int(str(iS)[:4]))\n",
    "    # List games\n",
    "    iSgames  =  games[games['season']==iS]['gcode']\n",
    "    \n",
    "    # Loop on games\n",
    "    for iG in iSgames.values:\n",
    "\n",
    "        # Get game data\n",
    "        gameData = iSea.pick_game(iG)\n",
    "        gameData = get_players_classes(repoModel, gameData, preprocessing, classifier, 30)\n",
    "\n",
    "        if len(gameData.lineShifts)>20:\n",
    "\n",
    "            # Get game score    \n",
    "            goals        =   gameData.df_wc[gameData.df_wc['etype']=='GOAL']['ev.team']\n",
    "            points       =   int( (goals==homeTeam).sum() > (goals!=homeTeam).sum() ) * 2\n",
    "            if gameData.df[gameData.df['gcode']==iG].iloc[-1]['period']>3:\n",
    "                points   =   np.maximum(1, points)\n",
    "\n",
    "            # Get state-space\n",
    "            playersCode  =   gameData.encode_line_players()\n",
    "            linesCode    =   np.array( [[gameData.recode_line(linedict, a) for a in b] for b in playersCode] )\n",
    "            perCode      =   gameData.recode_period(gameData.lineShifts['period'])\n",
    "            difCode      =   gameData.recode_differential(gameData.lineShifts['differential'])\n",
    "\n",
    "            # Get info for home team\n",
    "            qv_shifts    =  [Qvalues[w,x,y,z] for w,x,y,z in zip(perCode, difCode, linesCode[:,1], linesCode[:,0])]\n",
    "\n",
    "            # Append this game to the team's data\n",
    "            tmInfo       =  pd.concat( (tmInfo, pd.DataFrame( np.reshape([iG, np.mean(qv_shifts), points, (goals==homeTeam).sum(), (goals!=homeTeam).sum()], [1,5]), columns=['gameCode', 'avgQ', 'points', 'goalsFor', 'goalsAg'] )), ignore_index=True )\n",
    "\n",
    "            count+=1\n",
    "            if count % 50 == 0:\n",
    "                stdout.write('\\r')\n",
    "                # the exact output you're looking for:\n",
    "                stdout.write(\"Game %i/%i: [%-40s] %d%%, completed\" % (count, len(games), '=' * int(count / len(games) * 40), 100 * count / len(games)))\n",
    "                stdout.flush()"
   ]
  },
  {
   "cell_type": "markdown",
   "metadata": {},
   "source": [
    "# VISU: correlation between number of points and Qvalues "
   ]
  },
  {
   "cell_type": "code",
   "execution_count": 17,
   "metadata": {},
   "outputs": [
    {
     "data": {
      "text/plain": [
       "Text(0.5,1,'Correlation between MTL lines value and nb of points per game')"
      ]
     },
     "execution_count": 17,
     "metadata": {},
     "output_type": "execute_result"
    },
    {
     "data": {
      "image/png": "[encoded data removed]",
      "text/plain": [
       "<matplotlib.figure.Figure at 0x7f8bed175080>"
      ]
     },
     "metadata": {},
     "output_type": "display_data"
    }
   ],
   "source": [
    "# === For a single team\n",
    "%matplotlib inline\n",
    "\n",
    "import matplotlib.pyplot as plt\n",
    "\n",
    "plt.figure(); plt.scatter(tmInfo['avgQ'], tmInfo['points'])\n",
    "plt.gca().set_xlabel('average Q-values')\n",
    "plt.gca().set_ylabel('number of points')\n",
    "plt.gca().set_title('Correlation between MTL lines'' value and nb of points per game')"
   ]
  },
  {
   "cell_type": "markdown",
   "metadata": {},
   "source": [
    "# VISU: predicting win/lose from Qvalues\n"
   ]
  },
  {
   "cell_type": "code",
   "execution_count": 18,
   "metadata": {},
   "outputs": [
    {
     "name": "stderr",
     "output_type": "stream",
     "text": [
      "/usr/local/lib/python3.5/dist-packages/numpy/core/fromnumeric.py:57: FutureWarning: reshape is deprecated and will raise in a subsequent release. Please use .values.reshape(...) instead\n",
      "  return getattr(obj, method)(*args, **kwds)\n"
     ]
    },
    {
     "data": {
      "text/plain": [
       "Text(0.5,1,'Win/lose prediction based on Qvalues (all data merged)')"
      ]
     },
     "execution_count": 18,
     "metadata": {},
     "output_type": "execute_result"
    },
    {
     "data": {
      "image/png": "[encoded data removed]",
      "text/plain": [
       "<matplotlib.figure.Figure at 0x7f8bed189400>"
      ]
     },
     "metadata": {},
     "output_type": "display_data"
    }
   ],
   "source": [
    "from sklearn.svm import LinearSVC\n",
    "from sklearn.linear_model import LogisticRegression\n",
    "from sklearn.model_selection import train_test_split\n",
    "from sklearn.calibration import CalibratedClassifierCV\n",
    "\n",
    "# === Across all teams\n",
    "# we can't do single-team since analysis was done on a single season\n",
    "\n",
    "# Concatenate all points\n",
    "X     =  tmInfo['avgQ']\n",
    "Y     =  tmInfo['points']\n",
    "\n",
    "# Make 50 iterations\n",
    "nIter     =  50\n",
    "ACC_TR    =  []\n",
    "ACC_TS    =  []\n",
    "for it in range(nIter):\n",
    "    # Make split\n",
    "    X_train, X_test, y_train, y_test = train_test_split(X, Y, test_size=0.3, random_state=it)\n",
    "\n",
    "    # Train model\n",
    "    lr  =  LogisticRegression(C=1., solver='lbfgs')\n",
    "    #lr  =  CalibratedClassifierCV(LinearSVC(), cv=2, method='sigmoid')\n",
    "    lr.fit( np.reshape(X_train, [-1,1]), y_train )\n",
    "    acc_tr = lr.predict( np.reshape(X_train, [-1,1]) )\n",
    "\n",
    "    # Predict\n",
    "    y_pred = lr.predict( np.reshape(X_test, [-1,1]) )\n",
    "    \n",
    "    # Store\n",
    "    ACC_TR.append( np.sum( y_train == acc_tr ) / len(y_train) )\n",
    "    ACC_TS.append( np.sum( y_test == y_pred ) / len(y_test) )\n",
    "    \n",
    "    \n",
    "# Make plot\n",
    "plt.figure()\n",
    "plt.boxplot([ACC_TR, ACC_TS])\n",
    "plt.gca().set_xticklabels(['train', 'test'])\n",
    "plt.gca().set_ylabel('accuracy')\n",
    "plt.gca().set_title('Win/lose prediction based on Qvalues (all data merged)')"
   ]
  },
  {
   "cell_type": "code",
   "execution_count": 303,
   "metadata": {},
   "outputs": [
    {
     "data": {
      "text/plain": [
       "50"
      ]
     },
     "execution_count": 303,
     "metadata": {},
     "output_type": "execute_result"
    }
   ],
   "source": [
    "nIter"
   ]
  },
  {
   "cell_type": "code",
   "execution_count": null,
   "metadata": {},
   "outputs": [],
   "source": []
  }
 ],
 "metadata": {
  "kernelspec": {
   "display_name": "Python 3",
   "language": "python",
   "name": "python3"
  },
  "language_info": {
   "codemirror_mode": {
    "name": "ipython",
    "version": 3
   },
   "file_extension": ".py",
   "mimetype": "text/x-python",
   "name": "python",
   "nbconvert_exporter": "python",
   "pygments_lexer": "ipython3",
   "version": "3.5.2"
  }
 },
 "nbformat": 4,
 "nbformat_minor": 2
}

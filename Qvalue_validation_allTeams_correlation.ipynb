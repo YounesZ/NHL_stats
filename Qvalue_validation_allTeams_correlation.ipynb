{
 "cells": [
  {
   "cell_type": "code",
   "execution_count": 1,
   "metadata": {},
   "outputs": [],
   "source": [
    "from ReinforcementLearning.NHL.playerstats.nhl_player_stats import *\n",
    "from ReinforcementLearning.NHL.playbyplay.game import *"
   ]
  },
  {
   "cell_type": "code",
   "execution_count": 2,
   "metadata": {},
   "outputs": [],
   "source": [
    "# Pointers to the data\n",
    "# repoCode    =   '/Users/younes_zerouali/Documents/Stradigi/Code/NHL_stats_SL'\n",
    "# repoCode    =   '/Users/luisd/dev/NHL_stats'\n",
    "repoCode    =   '/home/younesz/Documents/Code/NHL_stats_SL'\n",
    "db_root     =   '/home/younesz/Documents/Databases/Hockey'        #This is the location of the Hockey database\n",
    "# db_root     =   '/Users/younes_zerouali/Documents/Stradigi/Databases/Hockey'\n",
    "# db_root     =   '/Users/luisd/dev/NHL_stats/data'\n",
    "repoPbP     =   path.join(db_root, 'PlayByPlay')\n",
    "repoPSt     =   path.join(db_root, 'PlayerStats/player')\n",
    "repoModel   =   path.join(repoCode, 'ReinforcementLearning/NHL/playerstats/offVSdef/Automatic_classification/MODEL_backup_trainedonallseasons_rankstatprediction')\n",
    "repoModel   =   path.join(repoCode, 'ReinforcementLearning/NHL/playerstats/offVSdef/Automatic_classification/MODEL_perceptron_1layer_10units_relu')\n",
    "repoSave    =   None #path.join(repoCode, 'ReinforcementLearning/NHL/playbyplay/data')"
   ]
  },
  {
   "cell_type": "code",
   "execution_count": 3,
   "metadata": {},
   "outputs": [],
   "source": [
    "# ==== Second the players data\n",
    "\n",
    "def get_players_classes(repoModel, data_for_game, preprocessing, classifier, number_of_games):\n",
    "    \"\"\"\n",
    "    Calculates (dataframe with) all player's classes.\n",
    "    Updates the 'data for game' structure with it; also returns it.\n",
    "    Usage:\n",
    "        repoModel = ... # here goes the directory where your model is saved.\n",
    "        # Montreal received Ottawa on march 13, 2013\n",
    "        gameId = get_game_id(home_team_abbr='MTL', date_as_str='2013-03-13')\n",
    "        season      =   '20122013'\n",
    "        mtlott      =   Game(repoPbP, repoPSt, season, gameId=gameId )\n",
    "        #\n",
    "        players_classes = get_players_classes(repoModel, mtlott, number_of_games=30)\n",
    "        # this is equivalent to ask 'mtlott' for the data; so:\n",
    "        assert players_classes.equals(mtlott.player_classes)\n",
    "    \"\"\"    \n",
    "    # Pick players stats - last 'n' games \n",
    "    data_for_game.pull_line_shifts(team='both', minduration=20)\n",
    "    data_for_game.pick_regulartime()\n",
    "    data_for_game.pick_equalstrength()\n",
    "    data_for_game.pull_players_classes(preprocessing, classifier, nGames=number_of_games)\n",
    "    return data_for_game"
   ]
  },
  {
   "cell_type": "code",
   "execution_count": 4,
   "metadata": {},
   "outputs": [],
   "source": [
    "# === Third the model\n",
    "\n",
    "def get_players_model(repoModel):\n",
    "    \n",
    "    # Need to load the data pre-processing variables\n",
    "    preprocessing  =   pickle.load(open(path.join(repoModel, 'baseVariables.p'), 'rb'))\n",
    "\n",
    "    # Need to load the classification model (for players' predicted ranking on trophies voting lists)\n",
    "    classifier          =   {'sess':tf.Session(), 'annX':[], 'annY':[]}\n",
    "    saver               =   tf.train.import_meta_graph(path.join(repoModel, path.basename(repoModel) + '.meta'))\n",
    "    graph               =   classifier['sess'].graph\n",
    "    classifier['annX']  =   graph.get_tensor_by_name('Input_to_the_network-player_features:0')\n",
    "    classifier['annY']  =   graph.get_tensor_by_name('prediction:0')\n",
    "    saver.restore(classifier['sess'], tf.train.latest_checkpoint(path.join(repoModel, './')))\n",
    "    return preprocessing, classifier"
   ]
  },
  {
   "cell_type": "markdown",
   "metadata": {},
   "source": [
    "# FIRST: List all teams in the league\n"
   ]
  },
  {
   "cell_type": "code",
   "execution_count": 5,
   "metadata": {},
   "outputs": [],
   "source": [
    "# Select a season\n",
    "season = '20122013'\n",
    "\n",
    "# List all games\n",
    "HSS    = HockeySS(repoPbP, repoPSt)\n",
    "HSS.list_all_games()\n",
    "\n",
    "# Keep only selected season\n",
    "HSS.games_lst  =  HSS.games_lst[HSS.games_lst['season']==int(season)] \n",
    "\n",
    "# List all teams\n",
    "allTeams  =  HSS.games_lst[['hometeam', 'awayteam']]\n",
    "allTeams  =  np.unique( np.concatenate(allTeams.values) )\n",
    "\n",
    "# Initialize empty containers\n",
    "seaInfo   =  dict([(x, pd.DataFrame(columns=['gameCode', 'avgQ', 'points', 'goalsFor', 'goalsAg'])) for x in allTeams])"
   ]
  },
  {
   "cell_type": "markdown",
   "metadata": {},
   "source": [
    "# SECOND: Determine game Qvalues and points"
   ]
  },
  {
   "cell_type": "code",
   "execution_count": 12,
   "metadata": {},
   "outputs": [
    {
     "name": "stdout",
     "output_type": "stream",
     "text": [
      "INFO:tensorflow:Restoring parameters from /home/younesz/Documents/Code/NHL_stats_SL/ReinforcementLearning/NHL/playerstats/offVSdef/Automatic_classification/MODEL_perceptron_1layer_10units_relu/MODEL_perceptron_1layer_10units_relu\n"
     ]
    },
    {
     "name": "stderr",
     "output_type": "stream",
     "text": [
      "INFO:tensorflow:Restoring parameters from /home/younesz/Documents/Code/NHL_stats_SL/ReinforcementLearning/NHL/playerstats/offVSdef/Automatic_classification/MODEL_perceptron_1layer_10units_relu/MODEL_perceptron_1layer_10units_relu\n"
     ]
    }
   ],
   "source": [
    "# Line translation table\n",
    "linedict  =  HockeySS(repoPbP, repoPSt)\n",
    "linedict.make_line_dictionary()\n",
    "linedict  =  linedict.line_dictionary\n",
    "\n",
    "# Qvalue table\n",
    "# Load the Qvalues table\n",
    "Qvalues   =  pickle.load( open(path.join(repoCode, 'ReinforcementLearning/NHL/playbyplay/data/RL_action_values.p'), 'rb') )['action_values']\n",
    "\n",
    "# Load the classification model\n",
    "preprocessing  =  pickle.load(open(path.join(repoModel, 'baseVariables.p'), 'rb'))\n",
    "classifier     =  ANN_classifier()\n",
    "classifier     =  classifier.ann_reload_model(repoModel)\n",
    "classifier     =  {'sess':classifier[0], 'annX':classifier[1], 'annY':classifier[2]}"
   ]
  },
  {
   "cell_type": "code",
   "execution_count": 14,
   "metadata": {},
   "outputs": [
    {
     "name": "stdout",
     "output_type": "stream",
     "text": [
      "Game 800/806: [======================================= ] 99%, completed"
     ]
    }
   ],
   "source": [
    "# Loop on games\n",
    "count  =  0\n",
    "for iG in range( len(HSS.games_lst) ):\n",
    "    \n",
    "    # Get game code\n",
    "    gameCode = HSS.games_lst.iloc[iG]['gcode']\n",
    "    \n",
    "    # Get game data\n",
    "    gameData = Game(repoPbP, repoPSt, season, gameCode)\n",
    "    gameData = get_players_classes(repoModel, gameData, preprocessing, classifier, 30)\n",
    "    \n",
    "    # Get game score\n",
    "    homeTeam     =   HSS.games_lst.iloc[iG]['hometeam']\n",
    "    goals        =   gameData.df[gameData.df['gcode']==gameCode]\n",
    "    goals        =   goals[goals['etype']=='GOAL']['ev.team']\n",
    "    homeTeam     =   HSS.games_lst.iloc[iG]['hometeam']\n",
    "    goals        =   gameData.df[gameData.df['gcode']==gameCode]\n",
    "    goals        =   goals[goals['etype']=='GOAL']['ev.team']\n",
    "    points       =   int( (goals==homeTeam).sum() > (goals!=homeTeam).sum() ) * 2\n",
    "    if gameData.df[gameData.df['gcode']==gameCode].iloc[-1]['period']>3:\n",
    "        points   =   np.maximum(1, points)\n",
    "        \n",
    "    # Get state-space\n",
    "    playersCode  =   gameData.encode_line_players()\n",
    "    linesCode    =   np.array( [[gameData.recode_line(linedict, a) for a in b] for b in playersCode] )\n",
    "    perCode      =   gameData.recode_period(gameData.lineShifts['period'])\n",
    "    difCode      =   gameData.recode_differential(gameData.lineShifts['differential'])\n",
    "    \n",
    "    # Get info for home team\n",
    "    qv_shifts    =   [Qvalues[w,x,y,z] for w,x,y,z in zip(perCode, difCode, linesCode[:,1], linesCode[:,0])]\n",
    "    \n",
    "    # Append this game to the team's data\n",
    "    seaInfo[homeTeam]  =  pd.concat( (seaInfo[homeTeam], pd.DataFrame( np.reshape([gameCode, np.mean(qv_shifts), points, (goals==homeTeam).sum(), (goals!=homeTeam).sum()], [1,5]), columns=['gameCode', 'avgQ', 'points', 'goalsFor', 'goalsAg'] )), ignore_index=True )\n",
    " \n",
    "    count+=1\n",
    "    if count % 100 == 0:\n",
    "        stdout.write('\\r')\n",
    "        # the exact output you're looking for:\n",
    "        stdout.write(\"Game %i/%i: [%-40s] %d%%, completed\" % (count, len(HSS.games_lst), '=' * int(count / len(HSS.games_lst) * 40), 100 * count / len(HSS.games_lst)))\n",
    "        stdout.flush()"
   ]
  },
  {
   "cell_type": "markdown",
   "metadata": {},
   "source": [
    "# VISU: correlation between number of points and Qvalues "
   ]
  },
  {
   "cell_type": "code",
   "execution_count": 174,
   "metadata": {},
   "outputs": [
    {
     "data": {
      "text/plain": [
       "Text(0.5,1,'Correlation between MTL lines value and nb of points per game')"
      ]
     },
     "execution_count": 174,
     "metadata": {},
     "output_type": "execute_result"
    },
    {
     "data": {
      "image/png": "[encoded data removed]",
      "text/plain": [
       "<matplotlib.figure.Figure at 0x7fb094672d30>"
      ]
     },
     "metadata": {},
     "output_type": "display_data"
    }
   ],
   "source": [
    "# === For a single team\n",
    "%matplotlib inline\n",
    "\n",
    "import matplotlib.pyplot as plt\n",
    "\n",
    "plt.figure(); plt.scatter(seaInfo['MTL']['avgQ'], seaInfo['MTL']['points'])\n",
    "plt.gca().set_xlabel('average Q-values')\n",
    "plt.gca().set_ylabel('number of points')\n",
    "plt.gca().set_title('Correlation between MTL lines'' value and nb of points per game')"
   ]
  },
  {
   "cell_type": "code",
   "execution_count": 181,
   "metadata": {},
   "outputs": [
    {
     "data": {
      "text/plain": [
       "Text(0.5,1,'Correlation between Qvalues and nb of points across a season')"
      ]
     },
     "execution_count": 181,
     "metadata": {},
     "output_type": "execute_result"
    },
    {
     "data": {
      "image/png": "[encoded data removed]",
      "text/plain": [
       "<matplotlib.figure.Figure at 0x7fb095086e80>"
      ]
     },
     "metadata": {},
     "output_type": "display_data"
    }
   ],
   "source": [
    "# === Across all teams\n",
    "allTeams  =  seaInfo.keys()\n",
    "avgP      =  []\n",
    "avgQ      =  []\n",
    "for iT in allTeams:\n",
    "    avgP.append( np.mean(seaInfo[iT]['points']) )\n",
    "    avgQ.append( np.mean(seaInfo[iT]['avgQ']) )\n",
    "    \n",
    "plt.figure()\n",
    "plt.scatter(avgQ, avgP)\n",
    "[plt.text(x,y,z) for x,y,z in zip(avgQ, avgP, allTeams)]\n",
    "plt.gca().set_xlabel('average Qvalue')\n",
    "plt.gca().set_ylabel('average number of points')\n",
    "plt.gca().set_title('Correlation between Qvalues and nb of points across a season')"
   ]
  },
  {
   "cell_type": "markdown",
   "metadata": {},
   "source": [
    "# VISU: predicting win/lose from Qvalues\n"
   ]
  },
  {
   "cell_type": "code",
   "execution_count": 314,
   "metadata": {},
   "outputs": [
    {
     "data": {
      "text/plain": [
       "Text(0.5,1,'Win/lose prediction based on Qvalues (all data merged)')"
      ]
     },
     "execution_count": 314,
     "metadata": {},
     "output_type": "execute_result"
    },
    {
     "data": {
      "image/png": "[encoded data removed]",
      "text/plain": [
       "<matplotlib.figure.Figure at 0x7fb09520bcf8>"
      ]
     },
     "metadata": {},
     "output_type": "display_data"
    }
   ],
   "source": [
    "from sklearn.svm import LinearSVC\n",
    "from sklearn.linear_model import LogisticRegression\n",
    "from sklearn.model_selection import train_test_split\n",
    "from sklearn.calibration import CalibratedClassifierCV\n",
    "\n",
    "# === Across all teams\n",
    "# we can't do single-team since analysis was done on a single season\n",
    "\n",
    "# Concatenate all points\n",
    "allTeams  =  seaInfo.keys()\n",
    "X, Y      =  [], []\n",
    "for iT in allTeams:\n",
    "    X     +=  list(seaInfo[iT]['avgQ'].values)\n",
    "    Y     +=  list( (seaInfo[iT]['points'].values>0).astype('int') )\n",
    "\n",
    "# Make 50 iterations\n",
    "nIter     =  50\n",
    "ACC_TR    =  []\n",
    "ACC_TS    =  []\n",
    "for it in range(nIter):\n",
    "    # Make split\n",
    "    X_train, X_test, y_train, y_test = train_test_split(X, Y, test_size=0.3, random_state=it)\n",
    "\n",
    "    # Train model\n",
    "    lr  =  LogisticRegression(C=1., solver='lbfgs')\n",
    "    #lr  =  CalibratedClassifierCV(LinearSVC(), cv=2, method='sigmoid')\n",
    "    lr.fit( np.reshape(X_train, [-1,1]), y_train )\n",
    "    acc_tr = lr.predict( np.reshape(X_train, [-1,1]) )\n",
    "\n",
    "    # Predict\n",
    "    y_pred = lr.predict( np.reshape(X_test, [-1,1]) )\n",
    "    \n",
    "    # Store\n",
    "    ACC_TR.append( np.sum( y_train == acc_tr ) / len(y_train) )\n",
    "    ACC_TS.append( np.sum( y_test == y_pred ) / len(y_test) )\n",
    "    \n",
    "    \n",
    "# Make plot\n",
    "plt.figure()\n",
    "plt.boxplot([ACC_TR, ACC_TS])\n",
    "plt.gca().set_xticklabels(['train', 'test'])\n",
    "plt.gca().set_ylabel('accuracy')\n",
    "plt.gca().set_title('Win/lose prediction based on Qvalues (all data merged)')"
   ]
  },
  {
   "cell_type": "code",
   "execution_count": 307,
   "metadata": {},
   "outputs": [
    {
     "data": {
      "text/plain": [
       "{'boxes': [<matplotlib.lines.Line2D at 0x7fb08f8f5e10>,\n",
       "  <matplotlib.lines.Line2D at 0x7fb095356470>],\n",
       " 'caps': [<matplotlib.lines.Line2D at 0x7fb08f8f52e8>,\n",
       "  <matplotlib.lines.Line2D at 0x7fb08f8f5d30>,\n",
       "  <matplotlib.lines.Line2D at 0x7fb08f8fcc18>,\n",
       "  <matplotlib.lines.Line2D at 0x7fb090334978>],\n",
       " 'fliers': [<matplotlib.lines.Line2D at 0x7fb095356e10>,\n",
       "  <matplotlib.lines.Line2D at 0x7fb090334cc0>],\n",
       " 'means': [],\n",
       " 'medians': [<matplotlib.lines.Line2D at 0x7fb0953566d8>,\n",
       "  <matplotlib.lines.Line2D at 0x7fb090334128>],\n",
       " 'whiskers': [<matplotlib.lines.Line2D at 0x7fb08f8f57b8>,\n",
       "  <matplotlib.lines.Line2D at 0x7fb08f8f51d0>,\n",
       "  <matplotlib.lines.Line2D at 0x7fb08f8fc198>,\n",
       "  <matplotlib.lines.Line2D at 0x7fb08f8fc8d0>]}"
      ]
     },
     "execution_count": 307,
     "metadata": {},
     "output_type": "execute_result"
    },
    {
     "data": {
      "image/png": "[encoded data removed]",
      "text/plain": [
       "<matplotlib.figure.Figure at 0x7fb08fb8ee80>"
      ]
     },
     "metadata": {},
     "output_type": "display_data"
    }
   ],
   "source": []
  },
  {
   "cell_type": "code",
   "execution_count": 303,
   "metadata": {},
   "outputs": [
    {
     "data": {
      "text/plain": [
       "50"
      ]
     },
     "execution_count": 303,
     "metadata": {},
     "output_type": "execute_result"
    }
   ],
   "source": [
    "nIter"
   ]
  },
  {
   "cell_type": "code",
   "execution_count": null,
   "metadata": {},
   "outputs": [],
   "source": []
  }
 ],
 "metadata": {
  "kernelspec": {
   "display_name": "Python 3",
   "language": "python",
   "name": "python3"
  },
  "language_info": {
   "codemirror_mode": {
    "name": "ipython",
    "version": 3
   },
   "file_extension": ".py",
   "mimetype": "text/x-python",
   "name": "python",
   "nbconvert_exporter": "python",
   "pygments_lexer": "ipython3",
   "version": "3.5.2"
  }
 },
 "nbformat": 4,
 "nbformat_minor": 2
}
